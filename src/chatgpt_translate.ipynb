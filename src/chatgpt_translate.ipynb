{
  "cells": [
    {
      "cell_type": "code",
      "execution_count": null,
      "metadata": {
        "id": "cUIbLlpp4XAA"
      },
      "outputs": [],
      "source": [
        "!pip install --upgrade openai>/dev/null #make sure to use the latest version of the library"
      ]
    },
    {
      "cell_type": "code",
      "execution_count": null,
      "metadata": {
        "id": "W5T12i_o47OA"
      },
      "outputs": [],
      "source": [
        "\n",
        "import time\n",
        "import openai\n",
        "import os\n",
        "import pandas as pd\n",
        "import torch\n",
        "openai.api_key = \"\"\n",
        "from nltk.translate.bleu_score import corpus_bleu, sentence_bleu"
      ]
    },
    {
      "cell_type": "code",
      "execution_count": null,
      "metadata": {
        "id": "5yfD-qXF6fON"
      },
      "outputs": [],
      "source": [
        "class EnglishSudaneseDataset(torch.utils.data.Dataset):\n",
        "  def __init__(self, df, tokenizer, max_len=16):\n",
        "    self.max_length = max_len\n",
        "    self.df = df\n",
        "    self.df = self.df[~self.df[\"Sudanese\"].isna()].reset_index()\n",
        "    self.tokenizer  = tokenizer\n",
        "  def __len__(self):\n",
        "    return self.df.shape[0]-1\n",
        "\n",
        "  def __getitem__(self, idx):\n",
        "\n",
        "    src = self.df.loc[idx, \"English\"]\n",
        "    tgt = self.df.loc[idx, \"Sudanese\"]\n",
        "    model_inputs = self.tokenizer(src, text_target=tgt, truncation=True, max_length=self.max_length,padding=\"max_length\",return_tensors=\"pt\")\n",
        "    return {\"input_ids\":model_inputs[\"input_ids\"][0,:],\"labels\" :model_inputs['labels'][0,:]}"
      ]
    },
    {
      "cell_type": "code",
      "execution_count": null,
      "metadata": {
        "id": "pYKifxppi4iH"
      },
      "outputs": [],
      "source": [
        "def compute_corpus_bleu(references, predictions, ngrams):\n",
        "  references = [[sentence.split()] for sentence in references]\n",
        "  predictions = [sentence.split() for sentence in predictions]\n",
        "  weights = [1/ngrams for i in range(1,ngrams+1)] + [0 for i in range(4-ngrams)]\n",
        "  print (weights)\n",
        "  return corpus_bleu(references, predictions, weights=weights)\n",
        "\n"
      ]
    },
    {
      "cell_type": "markdown",
      "metadata": {
        "id": "rKi7bYSf4ayb"
      },
      "source": [
        "# Experiment 1:\n",
        "\n",
        "#### Translate Sudanese-English using ChatGPT"
      ]
    },
    {
      "cell_type": "markdown",
      "metadata": {
        "id": "tcm5_ET359aH"
      },
      "source": [
        "#### Load Data"
      ]
    },
    {
      "cell_type": "code",
      "execution_count": null,
      "metadata": {
        "id": "Kgj37_pg4gSr"
      },
      "outputs": [],
      "source": [
        "flores_eng_sd = pd.read_excel(\"/content/eng_Latn_devtest_translated_0_400_401_500_601_699_701_800_801_1011_final.xlsx\")"
      ]
    },
    {
      "cell_type": "code",
      "execution_count": null,
      "metadata": {
        "id": "TtkUWGgR6Wf0"
      },
      "outputs": [],
      "source": [
        "# filter out nulls\n",
        "flores_eng_sd = pd.read_excel(\"/content/eng_Latn_devtest_translated_0_400_401_500_601_699_701_800_801_1011_final.xlsx\")\n",
        "flores_eng_sd = flores_eng_sd[~flores_eng_sd[\"Sudanese\"].isna()]"
      ]
    },
    {
      "cell_type": "code",
      "execution_count": null,
      "metadata": {
        "id": "F1mqnzH26y27"
      },
      "outputs": [],
      "source": [
        "sudanese = flores_eng_sd.loc[:, \"Sudanese\"].tolist()"
      ]
    },
    {
      "cell_type": "code",
      "execution_count": null,
      "metadata": {
        "id": "QvMWWyZR7Yoz"
      },
      "outputs": [],
      "source": [
        "english = flores_eng_sd.loc[:, \"English\"].tolist()"
      ]
    },
    {
      "cell_type": "code",
      "execution_count": null,
      "metadata": {
        "id": "HBqkY2Ob7GZh"
      },
      "outputs": [],
      "source": [
        "def translate(sentences):\n",
        "  sentences = [s.strip().replace(\"\\n\", \"\") for s in sentences]\n",
        "  str_sentences = '\\n'.join(sentences)\n",
        "  prompt = f\"\"\"\n",
        "  follow these instructions strictly.\n",
        "  - translate these ten sentences from sudanese to english.\n",
        "  - the sentences are separated by new line.\n",
        "  - only output the translation.\n",
        "  - output a new line after each sentence translation.\n",
        "  {str_sentences}\n",
        "  \"\"\"\n",
        "  #print (prompt)\n",
        "  completion = openai.ChatCompletion.create(\n",
        "  model=\"gpt-3.5-turbo\",\n",
        "  messages=[{\"role\": \"user\", \"content\": prompt}])\n",
        "#print(completion)\n",
        "  time.sleep(20)\n",
        "  result= (completion[\"choices\"][0][\"message\"][\"content\"])\n",
        "  return result.split(\"\\n\")\n"
      ]
    },
    {
      "cell_type": "code",
      "execution_count": null,
      "metadata": {
        "id": "8sQ1UYcY7dhH"
      },
      "outputs": [],
      "source": [
        "result = translate(sudanese[-10:])\n",
        "assert len(result) == 10"
      ]
    },
    {
      "cell_type": "code",
      "execution_count": null,
      "metadata": {
        "id": "MEHaWd9o7eqP"
      },
      "outputs": [],
      "source": [
        "result"
      ]
    },
    {
      "cell_type": "code",
      "execution_count": null,
      "metadata": {
        "colab": {
          "base_uri": "https://localhost:8080/"
        },
        "id": "TQlDuyB1cSIz",
        "outputId": "4cc815d5-8fef-486d-f7d4-ca923b9dcbc3"
      },
      "outputs": [
        {
          "data": {
            "text/plain": [
              "[12, 1, 2, 3]"
            ]
          },
          "execution_count": 52,
          "metadata": {},
          "output_type": "execute_result"
        }
      ],
      "source": [
        "a = [12]\n",
        "a.extend([1,2,3])\n",
        "a"
      ]
    },
    {
      "cell_type": "code",
      "execution_count": null,
      "metadata": {
        "id": "aWXR7kHHPN1n"
      },
      "outputs": [],
      "source": [
        "translations = []"
      ]
    },
    {
      "cell_type": "code",
      "execution_count": null,
      "metadata": {
        "id": "W7k8sKZobWb9"
      },
      "outputs": [],
      "source": [
        "for i in range(0,len(sudanese), 10):\n",
        "  print (f\"translating {i} - {i+10}\")\n",
        "  result = translate(sudanese[i:i+10])\n",
        "  while len(result)!= len(sudanese[i:i+10]):\n",
        "    print (\"Length is not equal , trying to translate again!\")\n",
        "    result =  translate(sudanese[i:i+10])\n",
        "  translations.extend(result)"
      ]
    },
    {
      "cell_type": "code",
      "execution_count": null,
      "metadata": {
        "id": "-M9A-9Kmc9lz"
      },
      "outputs": [],
      "source": [
        "translations.append(\"In many instances, workers are supposed to consult their supervisors before making any decision and it is expected of them to listen to the president's words without any questions.\")"
      ]
    },
    {
      "cell_type": "code",
      "execution_count": null,
      "metadata": {
        "colab": {
          "base_uri": "https://localhost:8080/",
          "height": 75
        },
        "id": "af-SCOo9hXll",
        "outputId": "1d746891-cb0c-42aa-b921-776284f2ea5c"
      },
      "outputs": [
        {
          "data": {
            "application/vnd.google.colaboratory.intrinsic+json": {
              "type": "string"
            },
            "text/plain": [
              "'  في مرات كتيرة العمال مفروض يسألو رؤساءهم قبل ما يتخذو اي قرار و متوقع منهم يسمعو كلام الرئيس بدون اي سؤال.'"
            ]
          },
          "execution_count": 28,
          "metadata": {},
          "output_type": "execute_result"
        }
      ],
      "source": [
        "(sudanese[-1])"
      ]
    },
    {
      "cell_type": "code",
      "execution_count": null,
      "metadata": {
        "colab": {
          "base_uri": "https://localhost:8080/"
        },
        "id": "Pf_fb-8bklXv",
        "outputId": "18415b7a-8b8c-4088-b847-7f33fceac614"
      },
      "outputs": [
        {
          "data": {
            "text/plain": [
              "17"
            ]
          },
          "execution_count": 13,
          "metadata": {},
          "output_type": "execute_result"
        }
      ],
      "source": [
        "results = translate(sudanese[140:150])\n",
        "len(results)"
      ]
    },
    {
      "cell_type": "code",
      "execution_count": null,
      "metadata": {
        "id": "K3G-SHjChmhK"
      },
      "outputs": [],
      "source": [
        "df = pd.DataFrame({\"Sudanese\":pd.Series(sudanese), \"English(GT)\":pd.Series(flores_eng_sd.loc[:, \"English\"].tolist()),\"English(Predicted)\": pd.Series(translations) })"
      ]
    },
    {
      "cell_type": "code",
      "execution_count": null,
      "metadata": {
        "id": "64QpexnqipWp"
      },
      "outputs": [],
      "source": [
        "df.tail()"
      ]
    },
    {
      "cell_type": "code",
      "execution_count": null,
      "metadata": {
        "colab": {
          "base_uri": "https://localhost:8080/"
        },
        "id": "ilrW356nixD8",
        "outputId": "f7f78211-36d9-419b-a4d9-98ee16b77240"
      },
      "outputs": [
        {
          "name": "stdout",
          "output_type": "stream",
          "text": [
            "[1.0, 0, 0, 0]\n",
            "[0.5, 0.5, 0, 0]\n",
            "[0.3333333333333333, 0.3333333333333333, 0.3333333333333333, 0]\n",
            "[0.25, 0.25, 0.25, 0.25]\n"
          ]
        },
        {
          "data": {
            "text/plain": [
              "[0.5783086438114592,\n",
              " 0.44543009020914487,\n",
              " 0.3526018615151522,\n",
              " 0.28400751342188985]"
            ]
          },
          "execution_count": 36,
          "metadata": {},
          "output_type": "execute_result"
        }
      ],
      "source": [
        "[compute_corpus_bleu(df[\"English(GT)\"].tolist(), df[\"English(Predicted)\"].tolist(), i) for i in range(1,5)]"
      ]
    },
    {
      "cell_type": "code",
      "execution_count": null,
      "metadata": {
        "id": "zeAFb04JjV1O"
      },
      "outputs": [],
      "source": [
        "df.to_excel(\"flores_sd_eng_chatgpt_911_911.xlsx\")"
      ]
    },
    {
      "cell_type": "code",
      "execution_count": null,
      "metadata": {
        "id": "0wOiNPIKOTMg"
      },
      "outputs": [],
      "source": [
        "results = [i for i in results if i!=\"\"]"
      ]
    },
    {
      "cell_type": "code",
      "execution_count": null,
      "metadata": {
        "id": "-zG_1ZeHOv30"
      },
      "outputs": [],
      "source": [
        "translations.extend(results)"
      ]
    },
    {
      "cell_type": "code",
      "execution_count": null,
      "metadata": {
        "id": "AWhu8VDGO9rk"
      },
      "outputs": [],
      "source": [
        "translations"
      ]
    },
    {
      "cell_type": "markdown",
      "metadata": {
        "id": "nS9BsO2E75KW"
      },
      "source": [
        "#### Measure BLEU Score\n"
      ]
    },
    {
      "cell_type": "code",
      "execution_count": null,
      "metadata": {
        "id": "vbMpplHD-YO6"
      },
      "outputs": [],
      "source": []
    },
    {
      "cell_type": "markdown",
      "metadata": {
        "id": "E84CGJLbwuOS"
      },
      "source": [
        "# Experiment 2:\n",
        "\n",
        "Translate Flores English-Sudanese"
      ]
    },
    {
      "cell_type": "code",
      "execution_count": null,
      "metadata": {
        "id": "_nnU-AO1wzKu"
      },
      "outputs": [],
      "source": [
        "def translate(sentences):\n",
        "  sentences = [s.strip().replace(\"\\n\", \"\") for s in sentences]\n",
        "  str_sentences = '\\n'.join(sentences)\n",
        "  prompt = f\"\"\"\n",
        "  follow these instructions strictly.\n",
        "  - make the translations as close as possible to sudanese dialect.\n",
        "  - translate these ten sentences from english to sudanese dialect.\n",
        "  - the sentences are separated by new line.\n",
        "  - only output the translation and do not output anything else.\n",
        "  - output a new line after each sentence translation.\n",
        "  {str_sentences}\n",
        "  \"\"\"\n",
        "  #print (prompt)\n",
        "  completion = openai.ChatCompletion.create(\n",
        "  model=\"gpt-3.5-turbo\",\n",
        "  messages=[{\"role\": \"user\", \"content\": prompt}])\n",
        "#print(completion)\n",
        "  time.sleep(20)\n",
        "  result= (completion[\"choices\"][0][\"message\"][\"content\"])\n",
        "  return result.split(\"\\n\")\n"
      ]
    },
    {
      "cell_type": "code",
      "execution_count": null,
      "metadata": {
        "id": "PUjQOGuIxFsh"
      },
      "outputs": [],
      "source": [
        "translations = []"
      ]
    },
    {
      "cell_type": "code",
      "execution_count": null,
      "metadata": {
        "id": "DSLFRpKVEuKS"
      },
      "outputs": [],
      "source": [
        "sudanese = flores_eng_sd.loc[:, \"Sudanese\"].tolist()\n",
        "english = flores_eng_sd.loc[:, \"English\"].tolist()"
      ]
    },
    {
      "cell_type": "code",
      "execution_count": null,
      "metadata": {
        "colab": {
          "background_save": true
        },
        "id": "NViVleEKw8Ws"
      },
      "outputs": [],
      "source": [
        "for i in range(0,len(sudanese), 10):\n",
        "  print (f\"translating {i} - {i+10}\")\n",
        "  result = translate(english[i:i+10])\n",
        "  while len(result)!= len(english[i:i+10]):\n",
        "    print (\"Length is not equal , trying to translate again!\")\n",
        "    result =  translate(english[i:i+10])\n",
        "  translations.extend([(i+j,result[j]) for j in range(len(result))])"
      ]
    },
    {
      "cell_type": "code",
      "execution_count": null,
      "metadata": {
        "id": "SFPAFsuT4mNa"
      },
      "outputs": [],
      "source": [
        "translations"
      ]
    },
    {
      "cell_type": "code",
      "execution_count": null,
      "metadata": {
        "colab": {
          "base_uri": "https://localhost:8080/"
        },
        "id": "uEliW6vD4fLH",
        "outputId": "8a343db1-d07a-4fff-a3e5-1e1ca5c5a1a3"
      },
      "outputs": [
        {
          "data": {
            "text/plain": [
              "['USA Gymnastics supports an independent investigation that may shine light on how abuse of the proportion described so courageously by the survivors of Larry Nassar could have gone undetected for so long and embraces any necessary and appropriate changes.\\n',\n",
              " 'USA Gymnastics and the USOC have the same goal — making the sport of gymnastics, and others, as safe as possible for athletes to follow their dreams in a safe, positive and empowered environment.\\n',\n",
              " 'Throughout 1960s, Brzezinski worked for John F. Kennedy as his advisor and then the Lyndon B. Johnson administration.\\n',\n",
              " 'During the 1976 selections he advised Carter on foreign policy, then served as National Security Advisor (NSA) from 1977 to 1981, succeeding Henry Kissinger.\\n',\n",
              " 'As NSA, he assisted Carter in diplomatically handling world affairs, such as the Camp David Accords, 1978; normalizing US–China relations thought the late 1970s; the Iranian Revolution, which led to the Iran hostage crisis, 1979; and the Soviet invasion in Afghanistan, 1979.\\n']"
            ]
          },
          "execution_count": 67,
          "metadata": {},
          "output_type": "execute_result"
        }
      ],
      "source": [
        "english[15:20]"
      ]
    },
    {
      "cell_type": "code",
      "execution_count": null,
      "metadata": {
        "id": "j5wHVQGOxIZD"
      },
      "outputs": [],
      "source": [
        "result = translate(english[15:20])"
      ]
    },
    {
      "cell_type": "code",
      "execution_count": null,
      "metadata": {
        "colab": {
          "base_uri": "https://localhost:8080/"
        },
        "id": "c5RCVo6K1YVP",
        "outputId": "8d69296d-25c5-4434-f19d-d793ae244ef0"
      },
      "outputs": [
        {
          "data": {
            "text/plain": [
              "['I cannot complete this task as \"Sudanese dialect\" is not a specific language. Sudan has over 400 dialects and around 140 languages, so it is necessary to specify which dialect to translate to.']"
            ]
          },
          "execution_count": 66,
          "metadata": {},
          "output_type": "execute_result"
        }
      ],
      "source": [
        "result"
      ]
    },
    {
      "cell_type": "code",
      "execution_count": null,
      "metadata": {
        "id": "oYyyPfWN0FzS"
      },
      "outputs": [],
      "source": [
        "result = translate()"
      ]
    },
    {
      "cell_type": "markdown",
      "source": [
        "# Experiment 3:\n",
        "Translate English Arabic using ChatGPT"
      ],
      "metadata": {
        "id": "JJqDLXEN9EZe"
      }
    },
    {
      "cell_type": "code",
      "source": [
        "def translate(sentences):\n",
        "  sentences = [s.strip().replace(\"\\n\", \"\") for s in sentences]\n",
        "  str_sentences = '\\n'.join(sentences)\n",
        "  prompt = f\"\"\"\n",
        "  follow these instructions strictly.\n",
        "  - translate these ten sentences from english to arabic.\n",
        "  - the sentences are separated by new line.\n",
        "  - only output the translation and do not output anything else.\n",
        "  - output a new line after each sentence translation.\n",
        "  {str_sentences}\n",
        "  \"\"\"\n",
        "  alt_prompt = f\"\"\"\n",
        "  follow these instructions strictly.\n",
        "  - translate these five sentences from english to arabic.\n",
        "  - the sentences are separated by new line.\n",
        "  - only output the translation and do not output anything else.\n",
        "  - output a new line after each sentence translation.\n",
        "  {str_sentences}\n",
        "  \"\"\"\n",
        "  #print (prompt)\n",
        "  completion = openai.ChatCompletion.create(\n",
        "  model=\"gpt-3.5-turbo\",\n",
        "  messages=[{\"role\": \"user\", \"content\": prompt}])\n",
        "#print(completion)\n",
        "  time.sleep(20)\n",
        "  result= (completion[\"choices\"][0][\"message\"][\"content\"])\n",
        "  return result.split(\"\\n\")\n"
      ],
      "metadata": {
        "id": "qAdsk71z9Buo"
      },
      "execution_count": null,
      "outputs": []
    },
    {
      "cell_type": "code",
      "source": [
        "flores_eng_ar = pd.read_excel(\"/content/eng_Latn_arb_Arab.devtest.xlsx\")\n",
        "flores_eng_sd = pd.read_excel(\"/content/eng_Latn_devtest_translated_0_400_401_500_601_699_701_800_801_1011_final.xlsx\")"
      ],
      "metadata": {
        "id": "BLpnoH0F9UM5"
      },
      "execution_count": null,
      "outputs": []
    },
    {
      "cell_type": "code",
      "source": [
        "# filter out nulls\n",
        "flores_eng_ar = flores_eng_ar[~flores_eng_sd[\"Sudanese\"].isna()]\n",
        "flores_eng_ar"
      ],
      "metadata": {
        "id": "WE5E2z149pPL",
        "colab": {
          "base_uri": "https://localhost:8080/",
          "height": 424
        },
        "outputId": "0a78c02f-0eab-4800-c974-6ebf9d9c9329"
      },
      "execution_count": null,
      "outputs": [
        {
          "output_type": "execute_result",
          "data": {
            "text/plain": [
              "      Unnamed: 0                                            English  \\\n",
              "0              0  \"We now have 4-month-old mice that are non-dia...   \n",
              "1              1  Dr. Ehud Ur, professor of medicine at Dalhousi...   \n",
              "2              2  Like some other experts, he is skeptical about...   \n",
              "3              3  On Monday, Sara Danius, permanent secretary of...   \n",
              "4              4  Danius said, \"Right now we are doing nothing. ...   \n",
              "...          ...                                                ...   \n",
              "1007        1007  As the areas are sparsely populated, and light...   \n",
              "1008        1008  Japanese work culture is more hierarchical and...   \n",
              "1009        1009  Suits are standard business attire, and cowork...   \n",
              "1010        1010  Workplace harmony is crucial, emphasizing grou...   \n",
              "1011        1011  Workers must often get their superiors' approv...   \n",
              "\n",
              "                                                 Arabic  \n",
              "0     أضاف قائلاً، \"لدينا الآن فئران تبلغ من العمر 4...  \n",
              "1     نبه الدكتور إيهود أور -أستاذ الطب في جامعة دال...  \n",
              "2     مثل باقي الخبراء الآخرين، فهو متشكك فيما إذا ك...  \n",
              "3     في يوم الإثنين ، أعلنت سارة دانيوس -السكرتيرة ...  \n",
              "4     قال دانيوس \"لن نقوم الآن بفعل أي شيء. لقد قمت ...  \n",
              "...                                                 ...  \n",
              "1007  بما أن المناطق مأهولة قليلاً والتلوث الضوئي عل...  \n",
              "1008  ثقافة العمل اليابانية أكثر هرمية ورسمية مما اع...  \n",
              "1009  البدلاتُ هي ملابسُ العملِ التقليديّة، وينادي ز...  \n",
              "1010  و يُعد الانسجام في مكان العمل أمراَ بالغ الأهم...  \n",
              "1011  يُتوقع من العمال الامتثال لتعليمات رؤسائهم دون...  \n",
              "\n",
              "[911 rows x 3 columns]"
            ],
            "text/html": [
              "\n",
              "  <div id=\"df-0207bf04-1020-471d-9f23-fec0924056ce\">\n",
              "    <div class=\"colab-df-container\">\n",
              "      <div>\n",
              "<style scoped>\n",
              "    .dataframe tbody tr th:only-of-type {\n",
              "        vertical-align: middle;\n",
              "    }\n",
              "\n",
              "    .dataframe tbody tr th {\n",
              "        vertical-align: top;\n",
              "    }\n",
              "\n",
              "    .dataframe thead th {\n",
              "        text-align: right;\n",
              "    }\n",
              "</style>\n",
              "<table border=\"1\" class=\"dataframe\">\n",
              "  <thead>\n",
              "    <tr style=\"text-align: right;\">\n",
              "      <th></th>\n",
              "      <th>Unnamed: 0</th>\n",
              "      <th>English</th>\n",
              "      <th>Arabic</th>\n",
              "    </tr>\n",
              "  </thead>\n",
              "  <tbody>\n",
              "    <tr>\n",
              "      <th>0</th>\n",
              "      <td>0</td>\n",
              "      <td>\"We now have 4-month-old mice that are non-dia...</td>\n",
              "      <td>أضاف قائلاً، \"لدينا الآن فئران تبلغ من العمر 4...</td>\n",
              "    </tr>\n",
              "    <tr>\n",
              "      <th>1</th>\n",
              "      <td>1</td>\n",
              "      <td>Dr. Ehud Ur, professor of medicine at Dalhousi...</td>\n",
              "      <td>نبه الدكتور إيهود أور -أستاذ الطب في جامعة دال...</td>\n",
              "    </tr>\n",
              "    <tr>\n",
              "      <th>2</th>\n",
              "      <td>2</td>\n",
              "      <td>Like some other experts, he is skeptical about...</td>\n",
              "      <td>مثل باقي الخبراء الآخرين، فهو متشكك فيما إذا ك...</td>\n",
              "    </tr>\n",
              "    <tr>\n",
              "      <th>3</th>\n",
              "      <td>3</td>\n",
              "      <td>On Monday, Sara Danius, permanent secretary of...</td>\n",
              "      <td>في يوم الإثنين ، أعلنت سارة دانيوس -السكرتيرة ...</td>\n",
              "    </tr>\n",
              "    <tr>\n",
              "      <th>4</th>\n",
              "      <td>4</td>\n",
              "      <td>Danius said, \"Right now we are doing nothing. ...</td>\n",
              "      <td>قال دانيوس \"لن نقوم الآن بفعل أي شيء. لقد قمت ...</td>\n",
              "    </tr>\n",
              "    <tr>\n",
              "      <th>...</th>\n",
              "      <td>...</td>\n",
              "      <td>...</td>\n",
              "      <td>...</td>\n",
              "    </tr>\n",
              "    <tr>\n",
              "      <th>1007</th>\n",
              "      <td>1007</td>\n",
              "      <td>As the areas are sparsely populated, and light...</td>\n",
              "      <td>بما أن المناطق مأهولة قليلاً والتلوث الضوئي عل...</td>\n",
              "    </tr>\n",
              "    <tr>\n",
              "      <th>1008</th>\n",
              "      <td>1008</td>\n",
              "      <td>Japanese work culture is more hierarchical and...</td>\n",
              "      <td>ثقافة العمل اليابانية أكثر هرمية ورسمية مما اع...</td>\n",
              "    </tr>\n",
              "    <tr>\n",
              "      <th>1009</th>\n",
              "      <td>1009</td>\n",
              "      <td>Suits are standard business attire, and cowork...</td>\n",
              "      <td>البدلاتُ هي ملابسُ العملِ التقليديّة، وينادي ز...</td>\n",
              "    </tr>\n",
              "    <tr>\n",
              "      <th>1010</th>\n",
              "      <td>1010</td>\n",
              "      <td>Workplace harmony is crucial, emphasizing grou...</td>\n",
              "      <td>و يُعد الانسجام في مكان العمل أمراَ بالغ الأهم...</td>\n",
              "    </tr>\n",
              "    <tr>\n",
              "      <th>1011</th>\n",
              "      <td>1011</td>\n",
              "      <td>Workers must often get their superiors' approv...</td>\n",
              "      <td>يُتوقع من العمال الامتثال لتعليمات رؤسائهم دون...</td>\n",
              "    </tr>\n",
              "  </tbody>\n",
              "</table>\n",
              "<p>911 rows × 3 columns</p>\n",
              "</div>\n",
              "      <button class=\"colab-df-convert\" onclick=\"convertToInteractive('df-0207bf04-1020-471d-9f23-fec0924056ce')\"\n",
              "              title=\"Convert this dataframe to an interactive table.\"\n",
              "              style=\"display:none;\">\n",
              "        \n",
              "  <svg xmlns=\"http://www.w3.org/2000/svg\" height=\"24px\"viewBox=\"0 0 24 24\"\n",
              "       width=\"24px\">\n",
              "    <path d=\"M0 0h24v24H0V0z\" fill=\"none\"/>\n",
              "    <path d=\"M18.56 5.44l.94 2.06.94-2.06 2.06-.94-2.06-.94-.94-2.06-.94 2.06-2.06.94zm-11 1L8.5 8.5l.94-2.06 2.06-.94-2.06-.94L8.5 2.5l-.94 2.06-2.06.94zm10 10l.94 2.06.94-2.06 2.06-.94-2.06-.94-.94-2.06-.94 2.06-2.06.94z\"/><path d=\"M17.41 7.96l-1.37-1.37c-.4-.4-.92-.59-1.43-.59-.52 0-1.04.2-1.43.59L10.3 9.45l-7.72 7.72c-.78.78-.78 2.05 0 2.83L4 21.41c.39.39.9.59 1.41.59.51 0 1.02-.2 1.41-.59l7.78-7.78 2.81-2.81c.8-.78.8-2.07 0-2.86zM5.41 20L4 18.59l7.72-7.72 1.47 1.35L5.41 20z\"/>\n",
              "  </svg>\n",
              "      </button>\n",
              "      \n",
              "  <style>\n",
              "    .colab-df-container {\n",
              "      display:flex;\n",
              "      flex-wrap:wrap;\n",
              "      gap: 12px;\n",
              "    }\n",
              "\n",
              "    .colab-df-convert {\n",
              "      background-color: #E8F0FE;\n",
              "      border: none;\n",
              "      border-radius: 50%;\n",
              "      cursor: pointer;\n",
              "      display: none;\n",
              "      fill: #1967D2;\n",
              "      height: 32px;\n",
              "      padding: 0 0 0 0;\n",
              "      width: 32px;\n",
              "    }\n",
              "\n",
              "    .colab-df-convert:hover {\n",
              "      background-color: #E2EBFA;\n",
              "      box-shadow: 0px 1px 2px rgba(60, 64, 67, 0.3), 0px 1px 3px 1px rgba(60, 64, 67, 0.15);\n",
              "      fill: #174EA6;\n",
              "    }\n",
              "\n",
              "    [theme=dark] .colab-df-convert {\n",
              "      background-color: #3B4455;\n",
              "      fill: #D2E3FC;\n",
              "    }\n",
              "\n",
              "    [theme=dark] .colab-df-convert:hover {\n",
              "      background-color: #434B5C;\n",
              "      box-shadow: 0px 1px 3px 1px rgba(0, 0, 0, 0.15);\n",
              "      filter: drop-shadow(0px 1px 2px rgba(0, 0, 0, 0.3));\n",
              "      fill: #FFFFFF;\n",
              "    }\n",
              "  </style>\n",
              "\n",
              "      <script>\n",
              "        const buttonEl =\n",
              "          document.querySelector('#df-0207bf04-1020-471d-9f23-fec0924056ce button.colab-df-convert');\n",
              "        buttonEl.style.display =\n",
              "          google.colab.kernel.accessAllowed ? 'block' : 'none';\n",
              "\n",
              "        async function convertToInteractive(key) {\n",
              "          const element = document.querySelector('#df-0207bf04-1020-471d-9f23-fec0924056ce');\n",
              "          const dataTable =\n",
              "            await google.colab.kernel.invokeFunction('convertToInteractive',\n",
              "                                                     [key], {});\n",
              "          if (!dataTable) return;\n",
              "\n",
              "          const docLinkHtml = 'Like what you see? Visit the ' +\n",
              "            '<a target=\"_blank\" href=https://colab.research.google.com/notebooks/data_table.ipynb>data table notebook</a>'\n",
              "            + ' to learn more about interactive tables.';\n",
              "          element.innerHTML = '';\n",
              "          dataTable['output_type'] = 'display_data';\n",
              "          await google.colab.output.renderOutput(dataTable, element);\n",
              "          const docLink = document.createElement('div');\n",
              "          docLink.innerHTML = docLinkHtml;\n",
              "          element.appendChild(docLink);\n",
              "        }\n",
              "      </script>\n",
              "    </div>\n",
              "  </div>\n",
              "  "
            ]
          },
          "metadata": {},
          "execution_count": 8
        }
      ]
    },
    {
      "cell_type": "code",
      "source": [
        "english = flores_eng_ar[\"English\"].tolist()\n",
        "arabic = flores_eng_ar[\"Arabic\"].tolist()"
      ],
      "metadata": {
        "id": "G1QCNn_193ni"
      },
      "execution_count": null,
      "outputs": []
    },
    {
      "cell_type": "code",
      "source": [
        "for senetence in english[740:750]:\n",
        "  print (senetence)"
      ],
      "metadata": {
        "id": "-XLbDZr9JcS8",
        "colab": {
          "base_uri": "https://localhost:8080/"
        },
        "outputId": "c08d4a4a-6a21-460a-fce4-f3a24cebb423"
      },
      "execution_count": null,
      "outputs": [
        {
          "output_type": "stream",
          "name": "stdout",
          "text": [
            "Now widely available throughout the archipelago, Javanese cuisine features an array of simply seasoned dishes, the predominant flavorings the Javanese favor being peanuts, chillies, sugar (especially Javanese coconut sugar) and various aromatic spices.\n",
            "Stirrups are supports for the rider's feet that hang down on either side of the saddle.\n",
            "They provide greater stability for the rider but can have safety concerns due to the potential for a rider's feet to get stuck in them.\n",
            "If a rider is thrown from a horse but has a foot caught in the stirrup, they could be dragged if the horse runs away. To minimize this risk, a number of safety precautions can be taken.\n",
            "First, most riders wear riding boots with a heel and a smooth, quite narrow, sole.\n",
            "Next, some saddles, particularly English saddles, have safety bars that allow a stirrup leather to fall off the saddle if pulled backwards by a falling rider.\n",
            "Cochamó Valley - Chile's premier climbing destination, known as the Yosemite of South America, with a variety of granite big walls and crags.\n",
            "Summits include breath-taking views from peaks. Climbers from all parts of the world are continually establishing new routes amongst its endless potential of walls.\n",
            "Downhill snowsports, which include skiing and snowboarding, are popular sports involving sliding down snow-covered terrain with skis or a snowboard attached to your feet.\n",
            "Skiing is a major travelling activity with many enthusiasts, occasionally known as \"ski bums,\" planning entire vacations around skiing at a particular location.\n"
          ]
        }
      ]
    },
    {
      "cell_type": "code",
      "source": [
        "tranlated_sentences_740_750 = [\n",
        "    'الآن متاحة على نطاق واسع في جميع أنحاء الأرخبيل، تتميز المأكولات الجاوية بمجموعة من الأطباق المتبلة ببساطة، حيث تكون النكهات الرئيسية التي يفضلها الجاويون هي الفول السوداني والفلفل الحار والسكر (خاصة سكر جوز الهند الجاوي) ومجموعة متنوعة من البهارات العطرية.',\n",
        "    'الأذرع هي أدوات دعم لأقدام الفارس تتدلى على جانبي السرج.',\n",
        "    'توفر استقرارًا أكبر للفارس ولكنها يمكن أن تشكل مخاطر أمان بسبب احتمال علق قدم الفارس فيها.',\n",
        "    'إذا تم رمي الفارس من الخيل ولكن قدمه ملتصقة في الأذرع، فقد يتم سحبه إذا هرب الخيل. للحد من هذا الخطر، يمكن اتخاذ عدد من الاحتياطات الأمان',\n",
        "    'ولاً، يرتدي معظم الفرسان حذاء ركوب بكعب ونعل ناعم وضيق نوعًا ما.',\n",
        "    'ثم، بعض السروج، وخاصة السروج الإنجليزية، تحتوي على أعمدة أمان تسمح لحزام الأذرع بالسقوط من السرج إذا تم سحبها للخلف بواسطة الفارس الساقط',\n",
        "    'وادي كوتشامو - وجهة تسلق رئيسية في تشيلي، المعروفة باسم يوسمايت في أمريكا الجنوبية، بتنوعها من الجدران الصخرية الكبيرة والمحاجر',\n",
        "    'تشتمل القمم على مناظر خلابة من القمم. يقوم المتسلقون من جميع أنحاء العالم بإنشاء مسارات جديدة باستمرار بين إمكانياتها اللانهائية للجدران',\n",
        "    'الرياضات الثلجية الهابطة، والتي تشمل التزلج وركوب الثلج، هي رياضات شعبية تنطوي على الانزلاق على التضاريس المغطاة بالثلج باستخدام الزلاجات أو لوح التزلج المثبتة على القدمين',\n",
        "    'التزلج هو نشاط سفر رئيسي يتمتع به العديد من المشجعين، ويعرف بأحيان بـ \"سكي بامز\"، حيث يخططون لقضاء عطلات كاملة حول التزلج في موقع معين.'\n",
        "\n",
        "]"
      ],
      "metadata": {
        "id": "qvrTJgPNaFmU"
      },
      "execution_count": null,
      "outputs": []
    },
    {
      "cell_type": "code",
      "source": [
        "tranlated_sentences_740_750 = translated_sentences.split('\\n')"
      ],
      "metadata": {
        "id": "HDGCA1C6aRl2"
      },
      "execution_count": null,
      "outputs": []
    },
    {
      "cell_type": "code",
      "source": [
        "len(tranlated_sentences_740_750)"
      ],
      "metadata": {
        "colab": {
          "base_uri": "https://localhost:8080/"
        },
        "id": "cQsW72GAaoEx",
        "outputId": "30e15281-ffd2-43f3-a498-6c4a9e947fd9"
      },
      "execution_count": null,
      "outputs": [
        {
          "output_type": "execute_result",
          "data": {
            "text/plain": [
              "10"
            ]
          },
          "metadata": {},
          "execution_count": 60
        }
      ]
    },
    {
      "cell_type": "code",
      "source": [
        "translated_sentences[10]"
      ],
      "metadata": {
        "colab": {
          "base_uri": "https://localhost:8080/",
          "height": 36
        },
        "id": "7d8b1soAaejl",
        "outputId": "7e013b34-4764-4903-81fc-2ef582474742"
      },
      "execution_count": null,
      "outputs": [
        {
          "output_type": "execute_result",
          "data": {
            "text/plain": [
              "' '"
            ],
            "application/vnd.google.colaboratory.intrinsic+json": {
              "type": "string"
            }
          },
          "metadata": {},
          "execution_count": 28
        }
      ]
    },
    {
      "cell_type": "code",
      "source": [
        "arabic"
      ],
      "metadata": {
        "id": "iXXkhLxKJfwS"
      },
      "execution_count": null,
      "outputs": []
    },
    {
      "cell_type": "code",
      "source": [
        "translations_df = pd.read_excel('/content/translations_chatgpt_flores_eng_ar_0_910.xlsx')"
      ],
      "metadata": {
        "id": "2fs6JyHcF0K6"
      },
      "execution_count": null,
      "outputs": []
    },
    {
      "cell_type": "code",
      "source": [
        "translations_df['translation']"
      ],
      "metadata": {
        "colab": {
          "base_uri": "https://localhost:8080/"
        },
        "id": "ed_etytBYSLc",
        "outputId": "8e65e713-1fad-444f-e65e-ee2ddc8473c2"
      },
      "execution_count": null,
      "outputs": [
        {
          "output_type": "execute_result",
          "data": {
            "text/plain": [
              "0      (0, '\"لدينا الآن فئران بعمر 4 أشهر غير مصابة ب...\n",
              "1      (1, 'حذر الدكتور إيهود أور ، أستاذ الطب في جام...\n",
              "2      (2, 'مثل بعض الخبراء الآخرين ، فهو متشكك من مد...\n",
              "3      (3, 'في يوم الاثنين، أعلنت سارة دانيوس، الأمين...\n",
              "4      (4, 'قالت دانيوس: \"في الوقت الحالي لا نفعل شيئ...\n",
              "                             ...                        \n",
              "896    (906, 'نظرًا لأن المناطق قليلة السكان ، ولا يو...\n",
              "897    (907, 'ثقافة العمل اليابانية هي أكثر تسلسلًا و...\n",
              "898    (908, 'البدلات هي ملابس الأعمال القياسية ، ويد...\n",
              "899    (909, 'الانسجام في مكان العمل أمر حاسم ، حيث ي...\n",
              "900    (910, 'يجب على العمال غالبًا الحصول على موافقة...\n",
              "Name: translation, Length: 901, dtype: object"
            ]
          },
          "metadata": {},
          "execution_count": 66
        }
      ]
    },
    {
      "cell_type": "code",
      "source": [],
      "metadata": {
        "id": "SWdrGSG1gCc1"
      },
      "execution_count": null,
      "outputs": []
    },
    {
      "cell_type": "code",
      "source": [
        "all_translations = [eval(s) for s in translations_df[\"translation\"].tolist()]"
      ],
      "metadata": {
        "id": "M_NYXBEcGDLK"
      },
      "execution_count": null,
      "outputs": []
    },
    {
      "cell_type": "code",
      "source": [
        "for idx, sentence in enumerate(tranlated_sentences_740_750):\n",
        "  all_translations.append((idx+740, sentence))"
      ],
      "metadata": {
        "id": "Q-QPyp-4hZch"
      },
      "execution_count": null,
      "outputs": []
    },
    {
      "cell_type": "code",
      "source": [
        "all_translations.sort(key=lambda x: x[0])"
      ],
      "metadata": {
        "id": "zrPnuMPRhq4i"
      },
      "execution_count": null,
      "outputs": []
    },
    {
      "cell_type": "code",
      "source": [
        "all_translations = [s[1] for s in all_translations]"
      ],
      "metadata": {
        "id": "roYQZFeRh2eX"
      },
      "execution_count": null,
      "outputs": []
    },
    {
      "cell_type": "code",
      "source": [
        "[compute_corpus_bleu(arabic, all_translations,i ) for i in range(1,5)]"
      ],
      "metadata": {
        "id": "p69I0ZsN-OhI",
        "colab": {
          "base_uri": "https://localhost:8080/"
        },
        "outputId": "50ea7997-be90-4cb5-91ac-0ab4eaa0aa55"
      },
      "execution_count": null,
      "outputs": [
        {
          "output_type": "stream",
          "name": "stdout",
          "text": [
            "[1.0, 0, 0, 0]\n",
            "[0.5, 0.5, 0, 0]\n",
            "[0.3333333333333333, 0.3333333333333333, 0.3333333333333333, 0]\n",
            "[0.25, 0.25, 0.25, 0.25]\n"
          ]
        },
        {
          "output_type": "execute_result",
          "data": {
            "text/plain": [
              "[0.45074537365077355,\n",
              " 0.3289574881704043,\n",
              " 0.2472394974989266,\n",
              " 0.18863569293946997]"
            ]
          },
          "metadata": {},
          "execution_count": 85
        }
      ]
    },
    {
      "cell_type": "code",
      "source": [
        "df = pd.DataFrame({\"English\":pd.Series(english), \"Arabic(GT)\":pd.Series(arabic),\"Arabic(Predicted)\": pd.Series(all_translations) })"
      ],
      "metadata": {
        "id": "ruUKFvJCjFBk"
      },
      "execution_count": null,
      "outputs": []
    },
    {
      "cell_type": "code",
      "source": [
        "df\n"
      ],
      "metadata": {
        "colab": {
          "base_uri": "https://localhost:8080/",
          "height": 468
        },
        "id": "9ADBkQWrjTqy",
        "outputId": "3344eb6b-7edf-4525-be7a-fb807ac21e1a"
      },
      "execution_count": null,
      "outputs": [
        {
          "output_type": "execute_result",
          "data": {
            "text/plain": [
              "                                               English  \\\n",
              "0    \"We now have 4-month-old mice that are non-dia...   \n",
              "1    Dr. Ehud Ur, professor of medicine at Dalhousi...   \n",
              "2    Like some other experts, he is skeptical about...   \n",
              "3    On Monday, Sara Danius, permanent secretary of...   \n",
              "4    Danius said, \"Right now we are doing nothing. ...   \n",
              "..                                                 ...   \n",
              "906  As the areas are sparsely populated, and light...   \n",
              "907  Japanese work culture is more hierarchical and...   \n",
              "908  Suits are standard business attire, and cowork...   \n",
              "909  Workplace harmony is crucial, emphasizing grou...   \n",
              "910  Workers must often get their superiors' approv...   \n",
              "\n",
              "                                            Arabic(GT)  \\\n",
              "0    أضاف قائلاً، \"لدينا الآن فئران تبلغ من العمر 4...   \n",
              "1    نبه الدكتور إيهود أور -أستاذ الطب في جامعة دال...   \n",
              "2    مثل باقي الخبراء الآخرين، فهو متشكك فيما إذا ك...   \n",
              "3    في يوم الإثنين ، أعلنت سارة دانيوس -السكرتيرة ...   \n",
              "4    قال دانيوس \"لن نقوم الآن بفعل أي شيء. لقد قمت ...   \n",
              "..                                                 ...   \n",
              "906  بما أن المناطق مأهولة قليلاً والتلوث الضوئي عل...   \n",
              "907  ثقافة العمل اليابانية أكثر هرمية ورسمية مما اع...   \n",
              "908  البدلاتُ هي ملابسُ العملِ التقليديّة، وينادي ز...   \n",
              "909  و يُعد الانسجام في مكان العمل أمراَ بالغ الأهم...   \n",
              "910  يُتوقع من العمال الامتثال لتعليمات رؤسائهم دون...   \n",
              "\n",
              "                                     Arabic(Predicted)  \n",
              "0    \"لدينا الآن فئران بعمر 4 أشهر غير مصابة بالسكر...  \n",
              "1    حذر الدكتور إيهود أور ، أستاذ الطب في جامعة دا...  \n",
              "2    مثل بعض الخبراء الآخرين ، فهو متشكك من مدى إمك...  \n",
              "3    في يوم الاثنين، أعلنت سارة دانيوس، الأمين الدا...  \n",
              "4    قالت دانيوس: \"في الوقت الحالي لا نفعل شيئًا. ل...  \n",
              "..                                                 ...  \n",
              "906  نظرًا لأن المناطق قليلة السكان ، ولا يوجد بالت...  \n",
              "907  ثقافة العمل اليابانية هي أكثر تسلسلًا ورسمية م...  \n",
              "908  البدلات هي ملابس الأعمال القياسية ، ويدعو الزم...  \n",
              "909  الانسجام في مكان العمل أمر حاسم ، حيث يؤكد على...  \n",
              "910  يجب على العمال غالبًا الحصول على موافقة مرؤوسي...  \n",
              "\n",
              "[911 rows x 3 columns]"
            ],
            "text/html": [
              "\n",
              "  <div id=\"df-16701d09-4b1b-460f-918e-c4c598f762ae\">\n",
              "    <div class=\"colab-df-container\">\n",
              "      <div>\n",
              "<style scoped>\n",
              "    .dataframe tbody tr th:only-of-type {\n",
              "        vertical-align: middle;\n",
              "    }\n",
              "\n",
              "    .dataframe tbody tr th {\n",
              "        vertical-align: top;\n",
              "    }\n",
              "\n",
              "    .dataframe thead th {\n",
              "        text-align: right;\n",
              "    }\n",
              "</style>\n",
              "<table border=\"1\" class=\"dataframe\">\n",
              "  <thead>\n",
              "    <tr style=\"text-align: right;\">\n",
              "      <th></th>\n",
              "      <th>English</th>\n",
              "      <th>Arabic(GT)</th>\n",
              "      <th>Arabic(Predicted)</th>\n",
              "    </tr>\n",
              "  </thead>\n",
              "  <tbody>\n",
              "    <tr>\n",
              "      <th>0</th>\n",
              "      <td>\"We now have 4-month-old mice that are non-dia...</td>\n",
              "      <td>أضاف قائلاً، \"لدينا الآن فئران تبلغ من العمر 4...</td>\n",
              "      <td>\"لدينا الآن فئران بعمر 4 أشهر غير مصابة بالسكر...</td>\n",
              "    </tr>\n",
              "    <tr>\n",
              "      <th>1</th>\n",
              "      <td>Dr. Ehud Ur, professor of medicine at Dalhousi...</td>\n",
              "      <td>نبه الدكتور إيهود أور -أستاذ الطب في جامعة دال...</td>\n",
              "      <td>حذر الدكتور إيهود أور ، أستاذ الطب في جامعة دا...</td>\n",
              "    </tr>\n",
              "    <tr>\n",
              "      <th>2</th>\n",
              "      <td>Like some other experts, he is skeptical about...</td>\n",
              "      <td>مثل باقي الخبراء الآخرين، فهو متشكك فيما إذا ك...</td>\n",
              "      <td>مثل بعض الخبراء الآخرين ، فهو متشكك من مدى إمك...</td>\n",
              "    </tr>\n",
              "    <tr>\n",
              "      <th>3</th>\n",
              "      <td>On Monday, Sara Danius, permanent secretary of...</td>\n",
              "      <td>في يوم الإثنين ، أعلنت سارة دانيوس -السكرتيرة ...</td>\n",
              "      <td>في يوم الاثنين، أعلنت سارة دانيوس، الأمين الدا...</td>\n",
              "    </tr>\n",
              "    <tr>\n",
              "      <th>4</th>\n",
              "      <td>Danius said, \"Right now we are doing nothing. ...</td>\n",
              "      <td>قال دانيوس \"لن نقوم الآن بفعل أي شيء. لقد قمت ...</td>\n",
              "      <td>قالت دانيوس: \"في الوقت الحالي لا نفعل شيئًا. ل...</td>\n",
              "    </tr>\n",
              "    <tr>\n",
              "      <th>...</th>\n",
              "      <td>...</td>\n",
              "      <td>...</td>\n",
              "      <td>...</td>\n",
              "    </tr>\n",
              "    <tr>\n",
              "      <th>906</th>\n",
              "      <td>As the areas are sparsely populated, and light...</td>\n",
              "      <td>بما أن المناطق مأهولة قليلاً والتلوث الضوئي عل...</td>\n",
              "      <td>نظرًا لأن المناطق قليلة السكان ، ولا يوجد بالت...</td>\n",
              "    </tr>\n",
              "    <tr>\n",
              "      <th>907</th>\n",
              "      <td>Japanese work culture is more hierarchical and...</td>\n",
              "      <td>ثقافة العمل اليابانية أكثر هرمية ورسمية مما اع...</td>\n",
              "      <td>ثقافة العمل اليابانية هي أكثر تسلسلًا ورسمية م...</td>\n",
              "    </tr>\n",
              "    <tr>\n",
              "      <th>908</th>\n",
              "      <td>Suits are standard business attire, and cowork...</td>\n",
              "      <td>البدلاتُ هي ملابسُ العملِ التقليديّة، وينادي ز...</td>\n",
              "      <td>البدلات هي ملابس الأعمال القياسية ، ويدعو الزم...</td>\n",
              "    </tr>\n",
              "    <tr>\n",
              "      <th>909</th>\n",
              "      <td>Workplace harmony is crucial, emphasizing grou...</td>\n",
              "      <td>و يُعد الانسجام في مكان العمل أمراَ بالغ الأهم...</td>\n",
              "      <td>الانسجام في مكان العمل أمر حاسم ، حيث يؤكد على...</td>\n",
              "    </tr>\n",
              "    <tr>\n",
              "      <th>910</th>\n",
              "      <td>Workers must often get their superiors' approv...</td>\n",
              "      <td>يُتوقع من العمال الامتثال لتعليمات رؤسائهم دون...</td>\n",
              "      <td>يجب على العمال غالبًا الحصول على موافقة مرؤوسي...</td>\n",
              "    </tr>\n",
              "  </tbody>\n",
              "</table>\n",
              "<p>911 rows × 3 columns</p>\n",
              "</div>\n",
              "      <button class=\"colab-df-convert\" onclick=\"convertToInteractive('df-16701d09-4b1b-460f-918e-c4c598f762ae')\"\n",
              "              title=\"Convert this dataframe to an interactive table.\"\n",
              "              style=\"display:none;\">\n",
              "        \n",
              "  <svg xmlns=\"http://www.w3.org/2000/svg\" height=\"24px\"viewBox=\"0 0 24 24\"\n",
              "       width=\"24px\">\n",
              "    <path d=\"M0 0h24v24H0V0z\" fill=\"none\"/>\n",
              "    <path d=\"M18.56 5.44l.94 2.06.94-2.06 2.06-.94-2.06-.94-.94-2.06-.94 2.06-2.06.94zm-11 1L8.5 8.5l.94-2.06 2.06-.94-2.06-.94L8.5 2.5l-.94 2.06-2.06.94zm10 10l.94 2.06.94-2.06 2.06-.94-2.06-.94-.94-2.06-.94 2.06-2.06.94z\"/><path d=\"M17.41 7.96l-1.37-1.37c-.4-.4-.92-.59-1.43-.59-.52 0-1.04.2-1.43.59L10.3 9.45l-7.72 7.72c-.78.78-.78 2.05 0 2.83L4 21.41c.39.39.9.59 1.41.59.51 0 1.02-.2 1.41-.59l7.78-7.78 2.81-2.81c.8-.78.8-2.07 0-2.86zM5.41 20L4 18.59l7.72-7.72 1.47 1.35L5.41 20z\"/>\n",
              "  </svg>\n",
              "      </button>\n",
              "      \n",
              "  <style>\n",
              "    .colab-df-container {\n",
              "      display:flex;\n",
              "      flex-wrap:wrap;\n",
              "      gap: 12px;\n",
              "    }\n",
              "\n",
              "    .colab-df-convert {\n",
              "      background-color: #E8F0FE;\n",
              "      border: none;\n",
              "      border-radius: 50%;\n",
              "      cursor: pointer;\n",
              "      display: none;\n",
              "      fill: #1967D2;\n",
              "      height: 32px;\n",
              "      padding: 0 0 0 0;\n",
              "      width: 32px;\n",
              "    }\n",
              "\n",
              "    .colab-df-convert:hover {\n",
              "      background-color: #E2EBFA;\n",
              "      box-shadow: 0px 1px 2px rgba(60, 64, 67, 0.3), 0px 1px 3px 1px rgba(60, 64, 67, 0.15);\n",
              "      fill: #174EA6;\n",
              "    }\n",
              "\n",
              "    [theme=dark] .colab-df-convert {\n",
              "      background-color: #3B4455;\n",
              "      fill: #D2E3FC;\n",
              "    }\n",
              "\n",
              "    [theme=dark] .colab-df-convert:hover {\n",
              "      background-color: #434B5C;\n",
              "      box-shadow: 0px 1px 3px 1px rgba(0, 0, 0, 0.15);\n",
              "      filter: drop-shadow(0px 1px 2px rgba(0, 0, 0, 0.3));\n",
              "      fill: #FFFFFF;\n",
              "    }\n",
              "  </style>\n",
              "\n",
              "      <script>\n",
              "        const buttonEl =\n",
              "          document.querySelector('#df-16701d09-4b1b-460f-918e-c4c598f762ae button.colab-df-convert');\n",
              "        buttonEl.style.display =\n",
              "          google.colab.kernel.accessAllowed ? 'block' : 'none';\n",
              "\n",
              "        async function convertToInteractive(key) {\n",
              "          const element = document.querySelector('#df-16701d09-4b1b-460f-918e-c4c598f762ae');\n",
              "          const dataTable =\n",
              "            await google.colab.kernel.invokeFunction('convertToInteractive',\n",
              "                                                     [key], {});\n",
              "          if (!dataTable) return;\n",
              "\n",
              "          const docLinkHtml = 'Like what you see? Visit the ' +\n",
              "            '<a target=\"_blank\" href=https://colab.research.google.com/notebooks/data_table.ipynb>data table notebook</a>'\n",
              "            + ' to learn more about interactive tables.';\n",
              "          element.innerHTML = '';\n",
              "          dataTable['output_type'] = 'display_data';\n",
              "          await google.colab.output.renderOutput(dataTable, element);\n",
              "          const docLink = document.createElement('div');\n",
              "          docLink.innerHTML = docLinkHtml;\n",
              "          element.appendChild(docLink);\n",
              "        }\n",
              "      </script>\n",
              "    </div>\n",
              "  </div>\n",
              "  "
            ]
          },
          "metadata": {},
          "execution_count": 87
        }
      ]
    },
    {
      "cell_type": "code",
      "source": [
        "df.to_excel(\"flores_eng_ar_chatgpt_zeroshot_911_911.xlsx\")"
      ],
      "metadata": {
        "id": "i8dHZcpqjXkO"
      },
      "execution_count": null,
      "outputs": []
    },
    {
      "cell_type": "markdown",
      "source": [],
      "metadata": {
        "id": "zCp75yK2jL7o"
      }
    },
    {
      "cell_type": "code",
      "source": [
        "#740 - 750"
      ],
      "metadata": {
        "id": "9m_SlDwahaQn"
      },
      "execution_count": null,
      "outputs": []
    },
    {
      "cell_type": "code",
      "source": [
        "for i in range(750,len(arabic), 10):\n",
        "  print (f\"translating {i} - {i+10}\")\n",
        "  result = translate(english[i:i+10])\n",
        "  while len(result)!= len(english[i:i+10]):\n",
        "    print (\"Length is not equal , trying to translate again!\")\n",
        "    result =  translate(english[i:i+10])\n",
        "  translations.extend([(i+j,result[j]) for j in range(len(result))])"
      ],
      "metadata": {
        "colab": {
          "base_uri": "https://localhost:8080/"
        },
        "id": "UTDHYMxC-BhT",
        "outputId": "7ba0d738-7cdb-401a-9a3d-4ccbee663808"
      },
      "execution_count": null,
      "outputs": [
        {
          "output_type": "stream",
          "name": "stdout",
          "text": [
            "translating 750 - 760\n",
            "translating 760 - 770\n",
            "translating 770 - 780\n",
            "translating 780 - 790\n",
            "translating 790 - 800\n",
            "translating 800 - 810\n",
            "translating 810 - 820\n",
            "translating 820 - 830\n",
            "translating 830 - 840\n",
            "translating 840 - 850\n",
            "translating 850 - 860\n",
            "translating 860 - 870\n",
            "translating 870 - 880\n",
            "translating 880 - 890\n",
            "translating 890 - 900\n",
            "translating 900 - 910\n",
            "Length is not equal , trying to translate again!\n",
            "translating 910 - 920\n"
          ]
        }
      ]
    },
    {
      "cell_type": "code",
      "source": [
        "translations"
      ],
      "metadata": {
        "id": "qVg1jclJ-Qgv"
      },
      "execution_count": null,
      "outputs": []
    },
    {
      "cell_type": "code",
      "source": [
        "english[740:745]"
      ],
      "metadata": {
        "id": "0Pyp0gRSguim"
      },
      "execution_count": null,
      "outputs": []
    },
    {
      "cell_type": "code",
      "source": [
        "result = translate(english[740:745])"
      ],
      "metadata": {
        "id": "3mrt_fMcVis6"
      },
      "execution_count": null,
      "outputs": []
    },
    {
      "cell_type": "code",
      "source": [
        "len(result)"
      ],
      "metadata": {
        "colab": {
          "base_uri": "https://localhost:8080/"
        },
        "id": "tOrj1-XCV3mI",
        "outputId": "c50d9693-504e-4c07-b804-24d9943eb010"
      },
      "execution_count": null,
      "outputs": [
        {
          "output_type": "execute_result",
          "data": {
            "text/plain": [
              "10"
            ]
          },
          "metadata": {},
          "execution_count": 18
        }
      ]
    },
    {
      "cell_type": "code",
      "source": [
        "result"
      ],
      "metadata": {
        "id": "pUpuaWAGPvTV",
        "outputId": "926a6b6a-2253-4c2e-faca-ae086926eaec",
        "colab": {
          "base_uri": "https://localhost:8080/"
        }
      },
      "execution_count": null,
      "outputs": [
        {
          "output_type": "execute_result",
          "data": {
            "text/plain": [
              "['الآن متاحة على نطاق واسع في الأرخبيل، تتميز المأكولات الجاوية بمجموعة من الأطعمة المتبلة بسيطة، حيث تشتهر بنكهات المكسرات والفلفل الحار والسكر (خاصة سكر جوز الهند الجاوي) ومختلف التوابل العطرية.',\n",
              " 'الأرجل عبارة عن دعامات لأقدام الفارس تتدلى على كل جانب من السرج.',\n",
              " 'توفر الأرجل مزيدًا من الاستقرار للفارس ولكنها قد تسبب مخاوف أمنية بسبب احتمال أن يلتصق قدم الفارس فيها.',\n",
              " 'إذا تم إلقاء الفارس من جواده وتم الإمساك بقدمه في الأرجل، فإنه قد يسحب إذا نشر الحصان. لتقليل هذا المخاطر، يمكن اتخاذ عدد من الاحتياطات الأمنية.',\n",
              " 'أولاً، يرتدي معظم الفرسان أحذية الفروسية بكعب ونعل ضيق وناعم.',\n",
              " 'تتضمن صناعة الخزف تشكيل الطين إلى أشكال مختلفة ثم حرقها في فرن عالي الحرارة لصنع الأواني والأطباق والزهور والحلي.',\n",
              " 'يتم إنتاج العديد من المنتجات من القماش المصنوع من القطن، بما في ذلك الملابس والبطانيات والمفروشات والمناشف والعديد من الأشياء الأخرى التي نستخدمها يوميًا.',\n",
              " 'العديد من العلماء والمخترعين العرب ساهموا في تطوير العديد من التقنيات والمعرفة في العلوم الرياضية والفلك والطب والفلسفة والأدب.',\n",
              " 'يجب أن يتم استخدام المواد الكيميائية بحذر تام ووفقًا للإرشادات المناسبة حيث يمكن أن تسبب ضررًا للبشر والبيئة إذا استخدمت بشكل غير صحيح.',\n",
              " 'تعتبر الأبراج الشمسية عبارة عن أبراج عالية يتم بناؤها لتجميع الضوء الشمسي وتقليل تشتتها وبالتالي زيادة كثافتها وحرارتها عند النقطة البؤرية.']"
            ]
          },
          "metadata": {},
          "execution_count": 19
        }
      ]
    },
    {
      "cell_type": "code",
      "source": [
        "result2 = translate(english[745:750])"
      ],
      "metadata": {
        "id": "PrCiWHtwWCIg"
      },
      "execution_count": null,
      "outputs": []
    },
    {
      "cell_type": "code",
      "source": [
        "len(result)"
      ],
      "metadata": {
        "colab": {
          "base_uri": "https://localhost:8080/"
        },
        "id": "9rupxOTtWeoS",
        "outputId": "3b527f6c-f336-48cd-fb8f-a4be14883565"
      },
      "execution_count": null,
      "outputs": [
        {
          "output_type": "execute_result",
          "data": {
            "text/plain": [
              "10"
            ]
          },
          "metadata": {},
          "execution_count": 20
        }
      ]
    },
    {
      "cell_type": "code",
      "source": [
        "#translations.extend([(470+i, result[i]) for i in range(len(result))])"
      ],
      "metadata": {
        "id": "KgeFE2HFWET6"
      },
      "execution_count": null,
      "outputs": []
    },
    {
      "cell_type": "code",
      "source": [
        "translations"
      ],
      "metadata": {
        "id": "WZ7gufD-Wzum"
      },
      "execution_count": null,
      "outputs": []
    },
    {
      "cell_type": "code",
      "source": [
        "df = pd.DataFrame({\"translation\":pd.Series(translations)})"
      ],
      "metadata": {
        "id": "7BxnaqwLW0c2"
      },
      "execution_count": null,
      "outputs": []
    },
    {
      "cell_type": "code",
      "source": [
        "df"
      ],
      "metadata": {
        "colab": {
          "base_uri": "https://localhost:8080/",
          "height": 447
        },
        "id": "gN6U1dZKlLiA",
        "outputId": "3be4c17b-c81b-4d58-e401-77c38c00cdcc"
      },
      "execution_count": null,
      "outputs": [
        {
          "output_type": "execute_result",
          "data": {
            "text/plain": [
              "                                           translation\n",
              "0    (0, \"لدينا الآن فئران بعمر 4 أشهر غير مصابة با...\n",
              "1    (1, حذر الدكتور إيهود أور ، أستاذ الطب في جامع...\n",
              "2    (2, مثل بعض الخبراء الآخرين ، فهو متشكك من مدى...\n",
              "3    (3, في يوم الاثنين، أعلنت سارة دانيوس، الأمين ...\n",
              "4    (4, قالت دانيوس: \"في الوقت الحالي لا نفعل شيئً...\n",
              "..                                                 ...\n",
              "896  (906, نظرًا لأن المناطق قليلة السكان ، ولا يوج...\n",
              "897  (907, ثقافة العمل اليابانية هي أكثر تسلسلًا ور...\n",
              "898  (908, البدلات هي ملابس الأعمال القياسية ، ويدع...\n",
              "899  (909, الانسجام في مكان العمل أمر حاسم ، حيث يؤ...\n",
              "900  (910, يجب على العمال غالبًا الحصول على موافقة ...\n",
              "\n",
              "[901 rows x 1 columns]"
            ],
            "text/html": [
              "\n",
              "  <div id=\"df-5378553d-e4d8-45c8-b181-016dbe349d39\">\n",
              "    <div class=\"colab-df-container\">\n",
              "      <div>\n",
              "<style scoped>\n",
              "    .dataframe tbody tr th:only-of-type {\n",
              "        vertical-align: middle;\n",
              "    }\n",
              "\n",
              "    .dataframe tbody tr th {\n",
              "        vertical-align: top;\n",
              "    }\n",
              "\n",
              "    .dataframe thead th {\n",
              "        text-align: right;\n",
              "    }\n",
              "</style>\n",
              "<table border=\"1\" class=\"dataframe\">\n",
              "  <thead>\n",
              "    <tr style=\"text-align: right;\">\n",
              "      <th></th>\n",
              "      <th>translation</th>\n",
              "    </tr>\n",
              "  </thead>\n",
              "  <tbody>\n",
              "    <tr>\n",
              "      <th>0</th>\n",
              "      <td>(0, \"لدينا الآن فئران بعمر 4 أشهر غير مصابة با...</td>\n",
              "    </tr>\n",
              "    <tr>\n",
              "      <th>1</th>\n",
              "      <td>(1, حذر الدكتور إيهود أور ، أستاذ الطب في جامع...</td>\n",
              "    </tr>\n",
              "    <tr>\n",
              "      <th>2</th>\n",
              "      <td>(2, مثل بعض الخبراء الآخرين ، فهو متشكك من مدى...</td>\n",
              "    </tr>\n",
              "    <tr>\n",
              "      <th>3</th>\n",
              "      <td>(3, في يوم الاثنين، أعلنت سارة دانيوس، الأمين ...</td>\n",
              "    </tr>\n",
              "    <tr>\n",
              "      <th>4</th>\n",
              "      <td>(4, قالت دانيوس: \"في الوقت الحالي لا نفعل شيئً...</td>\n",
              "    </tr>\n",
              "    <tr>\n",
              "      <th>...</th>\n",
              "      <td>...</td>\n",
              "    </tr>\n",
              "    <tr>\n",
              "      <th>896</th>\n",
              "      <td>(906, نظرًا لأن المناطق قليلة السكان ، ولا يوج...</td>\n",
              "    </tr>\n",
              "    <tr>\n",
              "      <th>897</th>\n",
              "      <td>(907, ثقافة العمل اليابانية هي أكثر تسلسلًا ور...</td>\n",
              "    </tr>\n",
              "    <tr>\n",
              "      <th>898</th>\n",
              "      <td>(908, البدلات هي ملابس الأعمال القياسية ، ويدع...</td>\n",
              "    </tr>\n",
              "    <tr>\n",
              "      <th>899</th>\n",
              "      <td>(909, الانسجام في مكان العمل أمر حاسم ، حيث يؤ...</td>\n",
              "    </tr>\n",
              "    <tr>\n",
              "      <th>900</th>\n",
              "      <td>(910, يجب على العمال غالبًا الحصول على موافقة ...</td>\n",
              "    </tr>\n",
              "  </tbody>\n",
              "</table>\n",
              "<p>901 rows × 1 columns</p>\n",
              "</div>\n",
              "      <button class=\"colab-df-convert\" onclick=\"convertToInteractive('df-5378553d-e4d8-45c8-b181-016dbe349d39')\"\n",
              "              title=\"Convert this dataframe to an interactive table.\"\n",
              "              style=\"display:none;\">\n",
              "        \n",
              "  <svg xmlns=\"http://www.w3.org/2000/svg\" height=\"24px\"viewBox=\"0 0 24 24\"\n",
              "       width=\"24px\">\n",
              "    <path d=\"M0 0h24v24H0V0z\" fill=\"none\"/>\n",
              "    <path d=\"M18.56 5.44l.94 2.06.94-2.06 2.06-.94-2.06-.94-.94-2.06-.94 2.06-2.06.94zm-11 1L8.5 8.5l.94-2.06 2.06-.94-2.06-.94L8.5 2.5l-.94 2.06-2.06.94zm10 10l.94 2.06.94-2.06 2.06-.94-2.06-.94-.94-2.06-.94 2.06-2.06.94z\"/><path d=\"M17.41 7.96l-1.37-1.37c-.4-.4-.92-.59-1.43-.59-.52 0-1.04.2-1.43.59L10.3 9.45l-7.72 7.72c-.78.78-.78 2.05 0 2.83L4 21.41c.39.39.9.59 1.41.59.51 0 1.02-.2 1.41-.59l7.78-7.78 2.81-2.81c.8-.78.8-2.07 0-2.86zM5.41 20L4 18.59l7.72-7.72 1.47 1.35L5.41 20z\"/>\n",
              "  </svg>\n",
              "      </button>\n",
              "      \n",
              "  <style>\n",
              "    .colab-df-container {\n",
              "      display:flex;\n",
              "      flex-wrap:wrap;\n",
              "      gap: 12px;\n",
              "    }\n",
              "\n",
              "    .colab-df-convert {\n",
              "      background-color: #E8F0FE;\n",
              "      border: none;\n",
              "      border-radius: 50%;\n",
              "      cursor: pointer;\n",
              "      display: none;\n",
              "      fill: #1967D2;\n",
              "      height: 32px;\n",
              "      padding: 0 0 0 0;\n",
              "      width: 32px;\n",
              "    }\n",
              "\n",
              "    .colab-df-convert:hover {\n",
              "      background-color: #E2EBFA;\n",
              "      box-shadow: 0px 1px 2px rgba(60, 64, 67, 0.3), 0px 1px 3px 1px rgba(60, 64, 67, 0.15);\n",
              "      fill: #174EA6;\n",
              "    }\n",
              "\n",
              "    [theme=dark] .colab-df-convert {\n",
              "      background-color: #3B4455;\n",
              "      fill: #D2E3FC;\n",
              "    }\n",
              "\n",
              "    [theme=dark] .colab-df-convert:hover {\n",
              "      background-color: #434B5C;\n",
              "      box-shadow: 0px 1px 3px 1px rgba(0, 0, 0, 0.15);\n",
              "      filter: drop-shadow(0px 1px 2px rgba(0, 0, 0, 0.3));\n",
              "      fill: #FFFFFF;\n",
              "    }\n",
              "  </style>\n",
              "\n",
              "      <script>\n",
              "        const buttonEl =\n",
              "          document.querySelector('#df-5378553d-e4d8-45c8-b181-016dbe349d39 button.colab-df-convert');\n",
              "        buttonEl.style.display =\n",
              "          google.colab.kernel.accessAllowed ? 'block' : 'none';\n",
              "\n",
              "        async function convertToInteractive(key) {\n",
              "          const element = document.querySelector('#df-5378553d-e4d8-45c8-b181-016dbe349d39');\n",
              "          const dataTable =\n",
              "            await google.colab.kernel.invokeFunction('convertToInteractive',\n",
              "                                                     [key], {});\n",
              "          if (!dataTable) return;\n",
              "\n",
              "          const docLinkHtml = 'Like what you see? Visit the ' +\n",
              "            '<a target=\"_blank\" href=https://colab.research.google.com/notebooks/data_table.ipynb>data table notebook</a>'\n",
              "            + ' to learn more about interactive tables.';\n",
              "          element.innerHTML = '';\n",
              "          dataTable['output_type'] = 'display_data';\n",
              "          await google.colab.output.renderOutput(dataTable, element);\n",
              "          const docLink = document.createElement('div');\n",
              "          docLink.innerHTML = docLinkHtml;\n",
              "          element.appendChild(docLink);\n",
              "        }\n",
              "      </script>\n",
              "    </div>\n",
              "  </div>\n",
              "  "
            ]
          },
          "metadata": {},
          "execution_count": 54
        }
      ]
    },
    {
      "cell_type": "markdown",
      "source": [],
      "metadata": {
        "id": "lShqN_fglLSf"
      }
    },
    {
      "cell_type": "code",
      "source": [
        "\n",
        "df.to_excel(\"translations_chatgpt_flores_eng_ar_0_910.xlsx\")"
      ],
      "metadata": {
        "id": "Wdx1dQ81W-UH"
      },
      "execution_count": null,
      "outputs": []
    },
    {
      "cell_type": "code",
      "source": [],
      "metadata": {
        "id": "leltm_aJW-y9"
      },
      "execution_count": null,
      "outputs": []
    }
  ],
  "metadata": {
    "colab": {
      "provenance": []
    },
    "kernelspec": {
      "display_name": "Python 3",
      "name": "python3"
    },
    "language_info": {
      "name": "python"
    }
  },
  "nbformat": 4,
  "nbformat_minor": 0
}