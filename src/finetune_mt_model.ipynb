{
  "cells": [
    {
      "cell_type": "code",
      "execution_count": null,
      "metadata": {
        "colab": {
          "background_save": true
        },
        "id": "67LHDDwN6lTH",
        "outputId": "952481ab-adf5-4d59-a975-89c77d179e1e"
      },
      "outputs": [],
      "source": [
        "!pip install datasets transformers sacrebleu torch sentencepiece transformers[sentencepiece]>/dev/null"
      ]
    },
    {
      "cell_type": "code",
      "execution_count": null,
      "metadata": {
        "colab": {
          "background_save": true
        },
        "id": "ppVebIsc9D4f"
      },
      "outputs": [],
      "source": [
        "!pip install --upgrade accelerate >/dev/null"
      ]
    },
    {
      "cell_type": "code",
      "execution_count": null,
      "metadata": {
        "colab": {
          "background_save": true
        },
        "id": "g-Hxs5xpAqb6"
      },
      "outputs": [],
      "source": [
        "import pandas as pd\n",
        "import torch"
      ]
    },
    {
      "cell_type": "code",
      "execution_count": null,
      "metadata": {
        "colab": {
          "background_save": true,
          "referenced_widgets": [
            "540fbef9bcc04cab92214c5ad50e22b5",
            "37b72beb14354ec699bc62790e6575b4",
            "d04413f92db248aa82a24cb0e42daa81",
            "bbabb04fbd7d4b389035c4ecb4ac794c",
            "bb735703c03a42f6808061e6601835ad",
            "bd397a2340df4538a31fbda600e82f48",
            "e6013ad6255d45c289d82e9b7e2f6dcf",
            "0b32e72baabb4f999f0600d8e823955b",
            "4eb27146af234ee28dec220a39f5079b",
            "2b0a70d335044624af93fad3429d116a",
            "dd8e3063f4db423bb2b6ddd69d4efc4e",
            "e5fe8c91db764082b08ab445311274b3",
            "1e630564935e4d58b848bf332a3a3b00",
            "02253de82f8a4e60afdf3ca4e16a9ee0",
            "b1dab122631a4ec0a40a6f9ee46c7e32"
          ]
        },
        "id": "hcpHQKA46sj7",
        "outputId": "fb4e9b25-71b6-4eb3-b651-e3373a5ec79c"
      },
      "outputs": [
        {
          "data": {
            "application/vnd.jupyter.widget-view+json": {
              "model_id": "540fbef9bcc04cab92214c5ad50e22b5",
              "version_major": 2,
              "version_minor": 0
            },
            "text/plain": [
              "Downloading builder script:   0%|          | 0.00/2.81k [00:00<?, ?B/s]"
            ]
          },
          "metadata": {},
          "output_type": "display_data"
        },
        {
          "data": {
            "application/vnd.jupyter.widget-view+json": {
              "model_id": "37b72beb14354ec699bc62790e6575b4",
              "version_major": 2,
              "version_minor": 0
            },
            "text/plain": [
              "Downloading metadata:   0%|          | 0.00/18.6k [00:00<?, ?B/s]"
            ]
          },
          "metadata": {},
          "output_type": "display_data"
        },
        {
          "data": {
            "application/vnd.jupyter.widget-view+json": {
              "model_id": "d04413f92db248aa82a24cb0e42daa81",
              "version_major": 2,
              "version_minor": 0
            },
            "text/plain": [
              "Downloading readme:   0%|          | 0.00/9.89k [00:00<?, ?B/s]"
            ]
          },
          "metadata": {},
          "output_type": "display_data"
        },
        {
          "data": {
            "application/vnd.jupyter.widget-view+json": {
              "model_id": "bbabb04fbd7d4b389035c4ecb4ac794c",
              "version_major": 2,
              "version_minor": 0
            },
            "text/plain": [
              "Downloading extra modules:   0%|          | 0.00/41.4k [00:00<?, ?B/s]"
            ]
          },
          "metadata": {},
          "output_type": "display_data"
        },
        {
          "name": "stdout",
          "output_type": "stream",
          "text": [
            "Downloading and preparing dataset wmt16/ro-en to /root/.cache/huggingface/datasets/wmt16/ro-en/1.0.0/746749a11d25c02058042da7502d973ff410e73457f3d305fc1177dc0e8c4227...\n"
          ]
        },
        {
          "data": {
            "application/vnd.jupyter.widget-view+json": {
              "model_id": "bb735703c03a42f6808061e6601835ad",
              "version_major": 2,
              "version_minor": 0
            },
            "text/plain": [
              "Downloading data files:   0%|          | 0/4 [00:00<?, ?it/s]"
            ]
          },
          "metadata": {},
          "output_type": "display_data"
        },
        {
          "data": {
            "application/vnd.jupyter.widget-view+json": {
              "model_id": "bd397a2340df4538a31fbda600e82f48",
              "version_major": 2,
              "version_minor": 0
            },
            "text/plain": [
              "Downloading data:   0%|          | 0.00/225M [00:00<?, ?B/s]"
            ]
          },
          "metadata": {},
          "output_type": "display_data"
        },
        {
          "data": {
            "application/vnd.jupyter.widget-view+json": {
              "model_id": "e6013ad6255d45c289d82e9b7e2f6dcf",
              "version_major": 2,
              "version_minor": 0
            },
            "text/plain": [
              "Downloading data:   0%|          | 0.00/23.5M [00:00<?, ?B/s]"
            ]
          },
          "metadata": {},
          "output_type": "display_data"
        },
        {
          "data": {
            "application/vnd.jupyter.widget-view+json": {
              "model_id": "0b32e72baabb4f999f0600d8e823955b",
              "version_major": 2,
              "version_minor": 0
            },
            "text/plain": [
              "Downloading data:   0%|          | 0.00/38.7M [00:00<?, ?B/s]"
            ]
          },
          "metadata": {},
          "output_type": "display_data"
        },
        {
          "data": {
            "application/vnd.jupyter.widget-view+json": {
              "model_id": "4eb27146af234ee28dec220a39f5079b",
              "version_major": 2,
              "version_minor": 0
            },
            "text/plain": [
              "Extracting data files:   0%|          | 0/4 [00:00<?, ?it/s]"
            ]
          },
          "metadata": {},
          "output_type": "display_data"
        },
        {
          "data": {
            "application/vnd.jupyter.widget-view+json": {
              "model_id": "2b0a70d335044624af93fad3429d116a",
              "version_major": 2,
              "version_minor": 0
            },
            "text/plain": [
              "Extracting data files: 0it [00:00, ?it/s]"
            ]
          },
          "metadata": {},
          "output_type": "display_data"
        },
        {
          "data": {
            "application/vnd.jupyter.widget-view+json": {
              "model_id": "dd8e3063f4db423bb2b6ddd69d4efc4e",
              "version_major": 2,
              "version_minor": 0
            },
            "text/plain": [
              "Generating train split:   0%|          | 0/610320 [00:00<?, ? examples/s]"
            ]
          },
          "metadata": {},
          "output_type": "display_data"
        },
        {
          "data": {
            "application/vnd.jupyter.widget-view+json": {
              "model_id": "e5fe8c91db764082b08ab445311274b3",
              "version_major": 2,
              "version_minor": 0
            },
            "text/plain": [
              "Generating validation split:   0%|          | 0/1999 [00:00<?, ? examples/s]"
            ]
          },
          "metadata": {},
          "output_type": "display_data"
        },
        {
          "data": {
            "application/vnd.jupyter.widget-view+json": {
              "model_id": "1e630564935e4d58b848bf332a3a3b00",
              "version_major": 2,
              "version_minor": 0
            },
            "text/plain": [
              "Generating test split:   0%|          | 0/1999 [00:00<?, ? examples/s]"
            ]
          },
          "metadata": {},
          "output_type": "display_data"
        },
        {
          "name": "stdout",
          "output_type": "stream",
          "text": [
            "Dataset wmt16 downloaded and prepared to /root/.cache/huggingface/datasets/wmt16/ro-en/1.0.0/746749a11d25c02058042da7502d973ff410e73457f3d305fc1177dc0e8c4227. Subsequent calls will reuse this data.\n"
          ]
        },
        {
          "data": {
            "application/vnd.jupyter.widget-view+json": {
              "model_id": "02253de82f8a4e60afdf3ca4e16a9ee0",
              "version_major": 2,
              "version_minor": 0
            },
            "text/plain": [
              "  0%|          | 0/3 [00:00<?, ?it/s]"
            ]
          },
          "metadata": {},
          "output_type": "display_data"
        },
        {
          "name": "stderr",
          "output_type": "stream",
          "text": [
            "<ipython-input-4-b4856c86bc22>:3: FutureWarning: load_metric is deprecated and will be removed in the next major version of datasets. Use 'evaluate.load' instead, from the new library 🤗 Evaluate: https://huggingface.co/docs/evaluate\n",
            "  metric = load_metric(\"sacrebleu\")\n"
          ]
        },
        {
          "data": {
            "application/vnd.jupyter.widget-view+json": {
              "model_id": "b1dab122631a4ec0a40a6f9ee46c7e32",
              "version_major": 2,
              "version_minor": 0
            },
            "text/plain": [
              "Downloading builder script:   0%|          | 0.00/2.85k [00:00<?, ?B/s]"
            ]
          },
          "metadata": {},
          "output_type": "display_data"
        }
      ],
      "source": [
        "from datasets import load_dataset, load_metric\n",
        "\n",
        "raw_datasets = load_dataset(\"wmt16\", \"ro-en\")\n",
        "metric = load_metric(\"sacrebleu\")"
      ]
    },
    {
      "cell_type": "code",
      "execution_count": null,
      "metadata": {
        "colab": {
          "base_uri": "https://localhost:8080/",
          "height": 328
        },
        "id": "Wi2aevzk632c",
        "outputId": "bbd7e617-1af2-4d1b-9a13-a978bfe37cc7"
      },
      "outputs": [
        {
          "data": {
            "text/html": [
              "<table border=\"1\" class=\"dataframe\">\n",
              "  <thead>\n",
              "    <tr style=\"text-align: right;\">\n",
              "      <th></th>\n",
              "      <th>translation</th>\n",
              "    </tr>\n",
              "  </thead>\n",
              "  <tbody>\n",
              "    <tr>\n",
              "      <th>0</th>\n",
              "      <td>{'en': 'The World Bank stated that 17 of the G20 countries had, in total, introduced 47 new trade barriers and tariffs.', 'ro': 'Banca Mondială a declarat că 17 dintre statele G20 introduseseră, în total, 47 de noi obstacole şi taxe comerciale.'}</td>\n",
              "    </tr>\n",
              "    <tr>\n",
              "      <th>1</th>\n",
              "      <td>{'en': 'Firstly, we need a strong European policy and to strategically reassert Europe's commitment to being a global player in the food and agricultural sectors.', 'ro': 'Prima este că avem nevoie de o politică europeană puternică și că trebuie să reafirmăm în mod strategic angajamentul Europei de a fi un actor internațional în sectorul alimentar și agricol.'}</td>\n",
              "    </tr>\n",
              "    <tr>\n",
              "      <th>2</th>\n",
              "      <td>{'en': 'If Lisbon enters into force, Europe must draw the following lesson: let the Union act pragmatically and let it repeatedly prove its added value.', 'ro': 'Dacă Tratatul de la Lisabona intră în vigoare, Europa trebuie să înveţe următoarea lecţie: să lăsăm Uniunea să acţioneze pragmatic şi să o lăsăm să-şi dovedească valoarea adăugată.'}</td>\n",
              "    </tr>\n",
              "    <tr>\n",
              "      <th>3</th>\n",
              "      <td>{'en': 'The European Commission okayed the tender documentation for building a second bridge over the Danube, spanning Vidin, Bulgaria and Kalafat, Romania.', 'ro': 'Comisia Europeană a aprobat documentaţia licitaţiei pentru construcţia unui al doilea pod peste Dunăre între Vidin, Bulgaria, şi Calafat, România.'}</td>\n",
              "    </tr>\n",
              "    <tr>\n",
              "      <th>4</th>\n",
              "      <td>{'en': 'We are clearly seeing Islam becoming a state religion.', 'ro': 'Vedem în mod clar islamul devenind o religie de stat.'}</td>\n",
              "    </tr>\n",
              "  </tbody>\n",
              "</table>"
            ],
            "text/plain": [
              "<IPython.core.display.HTML object>"
            ]
          },
          "metadata": {},
          "output_type": "display_data"
        }
      ],
      "source": [
        "import datasets\n",
        "import random\n",
        "import pandas as pd\n",
        "from IPython.display import display, HTML\n",
        "\n",
        "\n",
        "def show_random_elements(dataset, num_examples=5):\n",
        "    assert num_examples <= len(\n",
        "        dataset\n",
        "    ), \"Can't pick more elements than there are in the dataset.\"\n",
        "    picks = []\n",
        "    for _ in range(num_examples):\n",
        "        pick = random.randint(0, len(dataset) - 1)\n",
        "        while pick in picks:\n",
        "            pick = random.randint(0, len(dataset) - 1)\n",
        "        picks.append(pick)\n",
        "\n",
        "    df = pd.DataFrame(dataset[picks])\n",
        "    for column, typ in dataset.features.items():\n",
        "        if isinstance(typ, datasets.ClassLabel):\n",
        "            df[column] = df[column].transform(lambda i: typ.names[i])\n",
        "    display(HTML(df.to_html()))\n",
        "\n",
        "\n",
        "show_random_elements(raw_datasets[\"train\"])"
      ]
    },
    {
      "cell_type": "code",
      "execution_count": null,
      "metadata": {
        "colab": {
          "base_uri": "https://localhost:8080/"
        },
        "id": "ion19o9q7Jzj",
        "outputId": "4fdebe5c-036c-4988-bd42-17033c1c79e1"
      },
      "outputs": [
        {
          "data": {
            "text/plain": [
              "{'score': 0.0,\n",
              " 'counts': [4, 2, 0, 0],\n",
              " 'totals': [4, 2, 0, 0],\n",
              " 'precisions': [100.0, 100.0, 0.0, 0.0],\n",
              " 'bp': 1.0,\n",
              " 'sys_len': 4,\n",
              " 'ref_len': 4}"
            ]
          },
          "execution_count": 6,
          "metadata": {},
          "output_type": "execute_result"
        }
      ],
      "source": [
        "fake_preds = [\"hello there\", \"general kenobi\"]\n",
        "fake_labels = [[\"hello there\"], [\"general kenobi\"]]\n",
        "metric.compute(predictions=fake_preds, references=fake_labels)"
      ]
    },
    {
      "cell_type": "code",
      "execution_count": null,
      "metadata": {
        "id": "fdeN6TBu8IF9"
      },
      "outputs": [],
      "source": [
        "model_checkpoint = \"facebook/m2m100_418M\""
      ]
    },
    {
      "cell_type": "code",
      "execution_count": null,
      "metadata": {
        "colab": {
          "base_uri": "https://localhost:8080/",
          "height": 177,
          "referenced_widgets": [
            "e7a2cea48ed84d36b7cc818d131f7718",
            "cdc7fc1e17d14298bc2e7a42e472668a",
            "aac2cddbe1e54bbd9f180e49f7ed9603",
            "48238671f0bc4e849bf9bd777b55a700",
            "a24081b4fea34d72a85c86e01700e009",
            "fb4d84c8a05f42829537434f428c417d",
            "7280dc7b4e1a4be19dbbaca7b193b084",
            "e7176b4cce6544ab92b321243f2fcdde",
            "21a2bbcfe9444eb990afc35cabf49479",
            "ae9ec366227b4034b225629be621688f",
            "a33a35f395404192a81ea8654453176d",
            "ce1940f0f6b048d79cd40f474fc4c606",
            "36f1d0986a414ec89ce3e1cf8c4182ce",
            "5315d748cdee42f58cbb0c3855b6c64e",
            "f082ab925bf24ed99689e8a2180f5086",
            "127703ff7d90482a8fa45f082f4d09bf",
            "6711fd0afbb943929c734dde79e09627",
            "582154ff534f4c8f9b885b7a774410fc",
            "7366c720172648049b13ef58858e788f",
            "b6596768b69048b2a34db7dbc62bb944",
            "a632125962b245ea835baf2b98875fd7",
            "51894021aac34e65b3c7491d7f7f43f1",
            "8b3cffc59322427691ddc57722468a37",
            "979b6a5e802748f4b2569f3ebd7d0452",
            "e840ce391c7b4c9c9c0c95780aca8d8d",
            "4e4ed41d015d4694894c7cb793f4a90f",
            "5200598e40e240e6985425508606b109",
            "734fdbbb24bb4329b85084b0567a984c",
            "0927609b70e64d8d9177f4e9c7012c8a",
            "9e50bc81cd0d415f982a888ee8f78d01",
            "6215ec0eef984efea63993e43f9b0197",
            "d463369d22ae4bfab0887b8b3e3a066c",
            "11eccf897dc247e5b62118c4c4efb65e",
            "b2787c99981b419a935ec0b7b5d178e6",
            "b521e69c727c43d0b45212de32cd1916",
            "da3f2c3232f8447c9d0f5474ac537449",
            "c4494a36edf948b6975fe857d4125880",
            "8aa12c87226a46dbab99d3eb2f43ccaf",
            "e649da9beb1c458cb1b4d3cc2318bf06",
            "85d02f4f8f194553b63f4bdeea569a6b",
            "87adb1fc25a140da9a45edf3858e06dd",
            "c9df1ef174454d639443403d19da8daa",
            "96a263613c5c4691b9366d7a0f9f814f",
            "81f9917c09bd40f9a6e2fe3a0d10d41b",
            "54ba32b20f7e4e669733fd1dea7a5b52",
            "6ce39542478e44c3b174ec9e2d5d7ad5",
            "69dd841acc1540268930f989d11ea657",
            "5a6c0115531c4d2caba0a422029f757c",
            "8f123095f0ef4f439b32029a0250149b",
            "120ce206deb340829c7764a8842b127c",
            "12a6b8f704404a6f8fead6722f96fbb8",
            "e32b4f66d32d4f6bbabc9a507ee649d4",
            "96b4e25b1b274eeead7ff7682f17d2f4",
            "9114ba92c7b7427881e46a6c872a366b",
            "95e2f6d397b240a6a8b2e7e1e60a777e"
          ]
        },
        "id": "yrO3aeF27R6C",
        "outputId": "62eb78a8-11d8-4d66-c73e-e80e08e3b049"
      },
      "outputs": [
        {
          "data": {
            "application/vnd.jupyter.widget-view+json": {
              "model_id": "e7a2cea48ed84d36b7cc818d131f7718",
              "version_major": 2,
              "version_minor": 0
            },
            "text/plain": [
              "Downloading (…)okenizer_config.json:   0%|          | 0.00/272 [00:00<?, ?B/s]"
            ]
          },
          "metadata": {},
          "output_type": "display_data"
        },
        {
          "data": {
            "application/vnd.jupyter.widget-view+json": {
              "model_id": "ce1940f0f6b048d79cd40f474fc4c606",
              "version_major": 2,
              "version_minor": 0
            },
            "text/plain": [
              "Downloading (…)lve/main/config.json:   0%|          | 0.00/908 [00:00<?, ?B/s]"
            ]
          },
          "metadata": {},
          "output_type": "display_data"
        },
        {
          "data": {
            "application/vnd.jupyter.widget-view+json": {
              "model_id": "8b3cffc59322427691ddc57722468a37",
              "version_major": 2,
              "version_minor": 0
            },
            "text/plain": [
              "Downloading (…)olve/main/vocab.json:   0%|          | 0.00/3.71M [00:00<?, ?B/s]"
            ]
          },
          "metadata": {},
          "output_type": "display_data"
        },
        {
          "data": {
            "application/vnd.jupyter.widget-view+json": {
              "model_id": "b2787c99981b419a935ec0b7b5d178e6",
              "version_major": 2,
              "version_minor": 0
            },
            "text/plain": [
              "Downloading (…)tencepiece.bpe.model:   0%|          | 0.00/2.42M [00:00<?, ?B/s]"
            ]
          },
          "metadata": {},
          "output_type": "display_data"
        },
        {
          "data": {
            "application/vnd.jupyter.widget-view+json": {
              "model_id": "54ba32b20f7e4e669733fd1dea7a5b52",
              "version_major": 2,
              "version_minor": 0
            },
            "text/plain": [
              "Downloading (…)cial_tokens_map.json:   0%|          | 0.00/1.14k [00:00<?, ?B/s]"
            ]
          },
          "metadata": {},
          "output_type": "display_data"
        }
      ],
      "source": [
        "from transformers import AutoTokenizer\n",
        "\n",
        "tokenizer = AutoTokenizer.from_pretrained(\n",
        "    \"facebook/m2m100_418M\", src_lang=\"en\", tgt_lang=\"ar\"\n",
        ")"
      ]
    },
    {
      "cell_type": "code",
      "execution_count": null,
      "metadata": {
        "colab": {
          "base_uri": "https://localhost:8080/"
        },
        "id": "TcW3vXH78V2Y",
        "outputId": "557963fe-c828-4710-9eb1-b06fa1654694"
      },
      "outputs": [
        {
          "data": {
            "text/plain": [
              "{'input_ids': [[128022, 65761, 4, 15911, 13331, 8931, 6226, 30, 2], [128022, 36606, 117, 122000, 8931, 6226, 5, 2]], 'attention_mask': [[1, 1, 1, 1, 1, 1, 1, 1, 1], [1, 1, 1, 1, 1, 1, 1, 1]]}"
            ]
          },
          "execution_count": 6,
          "metadata": {},
          "output_type": "execute_result"
        }
      ],
      "source": [
        "tokenizer([\"Hello, this one sentence!\", \"This is another sentence.\"])"
      ]
    },
    {
      "cell_type": "code",
      "execution_count": null,
      "metadata": {
        "id": "kaRJyOxNStbJ"
      },
      "outputs": [],
      "source": [
        "from transformers import (\n",
        "    AutoModelForSeq2SeqLM,\n",
        "    DataCollatorForSeq2Seq,\n",
        "    DefaultDataCollator,\n",
        "    DataCollatorWithPadding,\n",
        "    Seq2SeqTrainingArguments,\n",
        "    Seq2SeqTrainer,\n",
        ")"
      ]
    },
    {
      "cell_type": "code",
      "execution_count": null,
      "metadata": {
        "colab": {
          "base_uri": "https://localhost:8080/",
          "height": 1000
        },
        "id": "i8BH1kv17oqL",
        "outputId": "503c1ec8-5960-4989-9287-a629d84d1f24"
      },
      "outputs": [],
      "source": [
        "model = AutoModelForSeq2SeqLM.from_pretrained(model_checkpoint)"
      ]
    },
    {
      "cell_type": "code",
      "execution_count": null,
      "metadata": {
        "id": "812xazum8Oie"
      },
      "outputs": [],
      "source": [
        "from transformers import TrainingArguments, Trainer\n",
        "\n",
        "source_lang = \"en\"\n",
        "target_lang = \"ar\"\n",
        "batch_size = 16\n",
        "model_name = model_checkpoint.split(\"/\")[-1]\n",
        "args = TrainingArguments(\n",
        "    f\"{model_name}-finetuned-{source_lang}-to-{target_lang}\",\n",
        "    evaluation_strategy=\"epoch\",\n",
        "    learning_rate=2e-5,\n",
        "    per_device_train_batch_size=batch_size,\n",
        "    per_device_eval_batch_size=batch_size,\n",
        "    weight_decay=0.01,\n",
        "    save_total_limit=3,\n",
        "    num_train_epochs=1,\n",
        ")"
      ]
    },
    {
      "cell_type": "code",
      "execution_count": null,
      "metadata": {
        "id": "r-Fwe3jE88ob"
      },
      "outputs": [],
      "source": [
        "data_collator = DataCollatorForSeq2Seq(tokenizer, model=model)"
      ]
    },
    {
      "cell_type": "code",
      "execution_count": null,
      "metadata": {
        "id": "r7T7ZdTS9WT5"
      },
      "outputs": [],
      "source": [
        "import numpy as np\n",
        "\n",
        "\n",
        "def postprocess_text(preds, labels):\n",
        "    preds = [pred.strip() for pred in preds]\n",
        "    labels = [[label.strip()] for label in labels]\n",
        "    return preds, labels\n",
        "\n",
        "\n",
        "def compute_metrics(eval_preds):\n",
        "    preds, labels = eval_preds\n",
        "    if isinstance(preds, tuple):\n",
        "        preds = preds[0]\n",
        "    decoded_preds = tokenizer.batch_decode(preds, skip_special_tokens=True)\n",
        "    # Replace -100 in the labels as we can't decode them.\n",
        "    labels = np.where(labels != -100, labels, tokenizer.pad_token_id)\n",
        "    decoded_labels = tokenizer.batch_decode(labels, skip_special_tokens=True)\n",
        "    # Some simple post-processing\n",
        "    decoded_preds, decoded_labels = postprocess_text(decoded_preds, decoded_labels)\n",
        "    result = metric.compute(predictions=decoded_preds, references=decoded_labels)\n",
        "    result = {\"bleu\": result[\"score\"]}\n",
        "    prediction_lens = [\n",
        "        np.count_nonzero(pred != tokenizer.pad_token_id) for pred in preds\n",
        "    ]\n",
        "    result[\"gen_len\"] = np.mean(prediction_lens)\n",
        "    result = {k: round(v, 4) for k, v in result.items()}\n",
        "    return result"
      ]
    },
    {
      "cell_type": "code",
      "execution_count": null,
      "metadata": {
        "colab": {
          "base_uri": "https://localhost:8080/"
        },
        "id": "YHZnmHauAL0O",
        "outputId": "c4831847-8976-4b57-f76c-0c0013d99be4"
      },
      "outputs": [
        {
          "data": {
            "text/plain": [
              "(1012, 3)"
            ]
          },
          "execution_count": 9,
          "metadata": {},
          "output_type": "execute_result"
        }
      ],
      "source": [
        "flores_eng_ar = pd.read_excel(\"/content/eng_Latn_arb_Arab.devtest.xlsx\")\n",
        "flores_eng_ar.shape"
      ]
    },
    {
      "cell_type": "code",
      "execution_count": null,
      "metadata": {
        "id": "Bhw01COIAdh8"
      },
      "outputs": [],
      "source": [
        "class EnglishArabicDataset(torch.utils.data.Dataset):\n",
        "    def __init__(self, df, max_len=16):\n",
        "        self.max_length = max_len\n",
        "        self.df = df\n",
        "        self.df = self.df[~self.df[\"Arabic\"].isna()].reset_index()\n",
        "        self.tokenizer = tokenizer = AutoTokenizer.from_pretrained(\n",
        "            \"facebook/m2m100_418M\", src_lang=\"en\", tgt_lang=\"ar\"\n",
        "        )\n",
        "\n",
        "    def __len__(self):\n",
        "        return self.df.shape[0] - 1\n",
        "\n",
        "    def __getitem__(self, idx):\n",
        "        src = self.df.loc[idx, \"English\"]\n",
        "        tgt = self.df.loc[idx, \"Arabic\"]\n",
        "        model_inputs = self.tokenizer(\n",
        "            src,\n",
        "            text_target=tgt,\n",
        "            truncation=True,\n",
        "            max_length=self.max_length,\n",
        "            padding=\"max_length\",\n",
        "            return_tensors=\"pt\",\n",
        "        )\n",
        "        return {\n",
        "            \"input_ids\": model_inputs[\"input_ids\"][0, :],\n",
        "            \"labels\": model_inputs[\"labels\"][0, :],\n",
        "        }"
      ]
    },
    {
      "cell_type": "code",
      "execution_count": null,
      "metadata": {
        "id": "CdhiyLVKCa84"
      },
      "outputs": [],
      "source": [
        "prefix = \"\"\n",
        "max_input_length = 128\n",
        "max_target_length = 128\n",
        "source_lang = \"en\"\n",
        "target_lang = \"ro\"\n",
        "\n",
        "\n",
        "def preprocess_function(examples):\n",
        "    inputs = [prefix + ex[source_lang] for ex in examples[\"translation\"]]\n",
        "    targets = [ex[target_lang] for ex in examples[\"translation\"]]\n",
        "    model_inputs = tokenizer(inputs, max_length=max_input_length, truncation=True)\n",
        "    # Setup the tokenizer for targets\n",
        "    with tokenizer.as_target_tokenizer():\n",
        "        labels = tokenizer(targets, max_length=max_target_length, truncation=True)\n",
        "    model_inputs[\"labels\"] = labels[\"input_ids\"]\n",
        "    return model_inputs"
      ]
    },
    {
      "cell_type": "code",
      "execution_count": null,
      "metadata": {
        "id": "2SkVD038DFZP"
      },
      "outputs": [],
      "source": [
        "tokenizer(, max_length=max_input_length, truncation=True)"
      ]
    },
    {
      "cell_type": "code",
      "execution_count": null,
      "metadata": {
        "id": "ogzNJRNmAyiG"
      },
      "outputs": [],
      "source": [
        "train_set_torch = EnglishArabicDataset(flores_eng_ar)"
      ]
    },
    {
      "cell_type": "code",
      "execution_count": null,
      "metadata": {
        "colab": {
          "base_uri": "https://localhost:8080/"
        },
        "id": "2bb07azvSQUy",
        "outputId": "a104d33d-0986-4da4-b453-7de8ab5cde11"
      },
      "outputs": [
        {
          "data": {
            "text/plain": [
              "{'input_ids': tensor([128022,  59895,    397,  30660, 125553,   6776,  73201,  45268,   2002,\n",
              "             12,  29304,   1490,    193,   7518, 121113,      2]),\n",
              " 'labels': tensor([128006,   1324,    874,    727,  52694,    382,   2472,  14631,   1532,\n",
              "          27038,   2892,   1093,  10871, 108446,    606,      2])}"
            ]
          },
          "execution_count": 162,
          "metadata": {},
          "output_type": "execute_result"
        }
      ],
      "source": [
        "train_set_torch[1011]"
      ]
    },
    {
      "cell_type": "code",
      "execution_count": null,
      "metadata": {
        "colab": {
          "base_uri": "https://localhost:8080/"
        },
        "id": "rFdF1BRwIGl2",
        "outputId": "3e6d809c-2158-41ad-d30a-483fe812aeaa"
      },
      "outputs": [
        {
          "data": {
            "text/plain": [
              "1012"
            ]
          },
          "execution_count": 137,
          "metadata": {},
          "output_type": "execute_result"
        }
      ],
      "source": [
        "len(train_set_torch)"
      ]
    },
    {
      "cell_type": "code",
      "execution_count": null,
      "metadata": {
        "colab": {
          "base_uri": "https://localhost:8080/"
        },
        "id": "qBhD9qf9Nd8o",
        "outputId": "d1537690-9434-48d9-a368-2c7ccf9c60e8"
      },
      "outputs": [
        {
          "name": "stderr",
          "output_type": "stream",
          "text": [
            "WARNING:datasets.builder:Found cached dataset wmt16 (/root/.cache/huggingface/datasets/wmt16/ro-en/1.0.0/746749a11d25c02058042da7502d973ff410e73457f3d305fc1177dc0e8c4227)\n"
          ]
        }
      ],
      "source": [
        "dataset = load_dataset(\"wmt16\", \"ro-en\", split=\"train\")"
      ]
    },
    {
      "cell_type": "code",
      "execution_count": null,
      "metadata": {
        "id": "JaxgPjsKN9K4"
      },
      "outputs": [],
      "source": [
        "dataset[\"translation\"]"
      ]
    },
    {
      "cell_type": "code",
      "execution_count": null,
      "metadata": {
        "id": "Ii2zBW3JOEUx"
      },
      "outputs": [],
      "source": [
        "from datasets import DatasetDict\n",
        "\n",
        "dataset_dict = DatasetDict({\"train\": train_set})"
      ]
    },
    {
      "cell_type": "code",
      "execution_count": null,
      "metadata": {
        "id": "lbvdl5_kOTYY"
      },
      "outputs": [],
      "source": [
        "data_collator = DataCollatorWithPadding(tokenizer)"
      ]
    },
    {
      "cell_type": "code",
      "execution_count": null,
      "metadata": {
        "colab": {
          "base_uri": "https://localhost:8080/",
          "height": 83
        },
        "id": "5i2S9b-mPaIp",
        "outputId": "78a44d71-597b-4651-feb5-091b8c18266b"
      },
      "outputs": [
        {
          "data": {
            "text/html": [
              "<pre style=\"white-space:pre;overflow-x:auto;line-height:normal;font-family:Menlo,'DejaVu Sans Mono',consolas,'Courier New',monospace\"><span style=\"color: #800000; text-decoration-color: #800000\">╭─────────────────────────────── </span><span style=\"color: #800000; text-decoration-color: #800000; font-weight: bold\">Traceback </span><span style=\"color: #bf7f7f; text-decoration-color: #bf7f7f; font-weight: bold\">(most recent call last)</span><span style=\"color: #800000; text-decoration-color: #800000\"> ────────────────────────────────╮</span>\n",
              "<span style=\"color: #800000; text-decoration-color: #800000\">│</span> in <span style=\"color: #00ff00; text-decoration-color: #00ff00\">&lt;cell line: 2&gt;</span>:<span style=\"color: #0000ff; text-decoration-color: #0000ff\">2</span>                                                                              <span style=\"color: #800000; text-decoration-color: #800000\">│</span>\n",
              "<span style=\"color: #800000; text-decoration-color: #800000\">╰──────────────────────────────────────────────────────────────────────────────────────────────────╯</span>\n",
              "<span style=\"color: #ff0000; text-decoration-color: #ff0000; font-weight: bold\">AttributeError: </span><span style=\"color: #008000; text-decoration-color: #008000\">'NewType'</span> object has no attribute <span style=\"color: #008000; text-decoration-color: #008000\">'from_config'</span>\n",
              "</pre>\n"
            ],
            "text/plain": [
              "\u001b[31m╭─\u001b[0m\u001b[31m──────────────────────────────\u001b[0m\u001b[31m \u001b[0m\u001b[1;31mTraceback \u001b[0m\u001b[1;2;31m(most recent call last)\u001b[0m\u001b[31m \u001b[0m\u001b[31m───────────────────────────────\u001b[0m\u001b[31m─╮\u001b[0m\n",
              "\u001b[31m│\u001b[0m in \u001b[92m<cell line: 2>\u001b[0m:\u001b[94m2\u001b[0m                                                                              \u001b[31m│\u001b[0m\n",
              "\u001b[31m╰──────────────────────────────────────────────────────────────────────────────────────────────────╯\u001b[0m\n",
              "\u001b[1;91mAttributeError: \u001b[0m\u001b[32m'NewType'\u001b[0m object has no attribute \u001b[32m'from_config'\u001b[0m\n"
            ]
          },
          "metadata": {},
          "output_type": "display_data"
        }
      ],
      "source": [
        "# from transformers import DataCollator\n",
        "# data_collator = DataCollator.from_config(tokenizer)"
      ]
    },
    {
      "cell_type": "code",
      "execution_count": null,
      "metadata": {
        "colab": {
          "base_uri": "https://localhost:8080/",
          "height": 1000
        },
        "id": "D_sVLh5SNYqh",
        "outputId": "4d000456-0075-4e33-8770-952577f01e2d"
      },
      "outputs": [],
      "source": [
        "batch = data_collator(train_set_torch)"
      ]
    },
    {
      "cell_type": "code",
      "execution_count": null,
      "metadata": {
        "id": "b74nec_R9kr5"
      },
      "outputs": [],
      "source": [
        "trainer = Trainer(\n",
        "    model,\n",
        "    args,\n",
        "    train_dataset=train_set_torch,\n",
        "    # eval_dataset=train_set_torch,\n",
        "    data_collator=DataCollatorWithPadding(tokenizer=tokenizer),\n",
        "    tokenizer=tokenizer,\n",
        "    compute_metrics=compute_metrics,\n",
        ")"
      ]
    },
    {
      "cell_type": "code",
      "execution_count": null,
      "metadata": {
        "id": "SzCZEMIxTKTI"
      },
      "outputs": [],
      "source": [
        "train_set_torch[1023]"
      ]
    },
    {
      "cell_type": "code",
      "execution_count": null,
      "metadata": {
        "id": "a5rh9xNzACKE"
      },
      "outputs": [],
      "source": [
        "trainer.train()"
      ]
    },
    {
      "cell_type": "code",
      "execution_count": null,
      "metadata": {
        "id": "yIz29-kEA9_B"
      },
      "outputs": [],
      "source": [
        "from datasets import load_dataset\n",
        "from transformers import DataCollatorWithPadding, AutoTokenizer\n",
        "\n",
        "# Load the dataset\n",
        "dataset = load_dataset(\"imdb\", split=\"train\")\n",
        "\n",
        "# Load the tokenizer\n",
        "tokenizer = AutoTokenizer.from_pretrained(\"bert-base-uncased\")\n",
        "\n",
        "# Create an instance of DataCollatorWithPadding\n",
        "data_collator = DataCollatorWithPadding(tokenizer=tokenizer)\n",
        "\n",
        "# Collate the dataset into batches\n",
        "batches = data_collator(dataset)\n",
        "\n",
        "# Print the first batch\n",
        "print(batches[0])"
      ]
    },
    {
      "cell_type": "code",
      "execution_count": null,
      "metadata": {
        "colab": {
          "base_uri": "https://localhost:8080/",
          "height": 297
        },
        "id": "2DrNa4rjVSoU",
        "outputId": "04762840-10ed-4e97-b85b-812f3b5a3ed5"
      },
      "outputs": [
        {
          "name": "stderr",
          "output_type": "stream",
          "text": [
            "Some weights of the model checkpoint at bert-base-uncased were not used when initializing BertForSequenceClassification: ['cls.predictions.transform.LayerNorm.weight', 'cls.predictions.transform.LayerNorm.bias', 'cls.predictions.transform.dense.weight', 'cls.predictions.transform.dense.bias', 'cls.seq_relationship.bias', 'cls.seq_relationship.weight', 'cls.predictions.bias', 'cls.predictions.decoder.weight']\n",
            "- This IS expected if you are initializing BertForSequenceClassification from the checkpoint of a model trained on another task or with another architecture (e.g. initializing a BertForSequenceClassification model from a BertForPreTraining model).\n",
            "- This IS NOT expected if you are initializing BertForSequenceClassification from the checkpoint of a model that you expect to be exactly identical (initializing a BertForSequenceClassification model from a BertForSequenceClassification model).\n",
            "Some weights of BertForSequenceClassification were not initialized from the model checkpoint at bert-base-uncased and are newly initialized: ['classifier.bias', 'classifier.weight']\n",
            "You should probably TRAIN this model on a down-stream task to be able to use it for predictions and inference.\n",
            "<ipython-input-124-b0a9fadf4a40>:22: UserWarning: To copy construct from a tensor, it is recommended to use sourceTensor.clone().detach() or sourceTensor.clone().detach().requires_grad_(True), rather than torch.tensor(sourceTensor).\n",
            "  item = {key: torch.tensor(val[idx]) for key, val in self.encodings.items()}\n",
            "You're using a BertTokenizerFast tokenizer. Please note that with a fast tokenizer, using the `__call__` method is faster than using a method to encode the text followed by a call to the `pad` method to get a padded encoding.\n"
          ]
        },
        {
          "data": {
            "text/html": [
              "\n",
              "    <div>\n",
              "      \n",
              "      <progress value='3' max='3' style='width:300px; height:20px; vertical-align: middle;'></progress>\n",
              "      [3/3 00:03, Epoch 3/3]\n",
              "    </div>\n",
              "    <table border=\"1\" class=\"dataframe\">\n",
              "  <thead>\n",
              " <tr style=\"text-align: left;\">\n",
              "      <th>Step</th>\n",
              "      <th>Training Loss</th>\n",
              "    </tr>\n",
              "  </thead>\n",
              "  <tbody>\n",
              "  </tbody>\n",
              "</table><p>"
            ],
            "text/plain": [
              "<IPython.core.display.HTML object>"
            ]
          },
          "metadata": {},
          "output_type": "display_data"
        },
        {
          "data": {
            "text/plain": [
              "TrainOutput(global_step=3, training_loss=0.7013418674468994, metrics={'train_runtime': 5.6076, 'train_samples_per_second': 1.07, 'train_steps_per_second': 0.535, 'total_flos': 24666661440.0, 'train_loss': 0.7013418674468994, 'epoch': 3.0})"
            ]
          },
          "execution_count": 124,
          "metadata": {},
          "output_type": "execute_result"
        }
      ],
      "source": [
        "from transformers import (\n",
        "    BertTokenizerFast,\n",
        "    DataCollatorWithPadding,\n",
        "    BertForSequenceClassification,\n",
        "    TrainingArguments,\n",
        "    Trainer,\n",
        ")\n",
        "from torch.utils.data import Dataset\n",
        "import torch\n",
        "\n",
        "# 1. Tokenization\n",
        "tokenizer = BertTokenizerFast.from_pretrained(\"bert-base-uncased\")\n",
        "samples = [\"Hello, this is an example\", \"This is another longer example sentence\"]\n",
        "labels = [0, 1]  # sample binary labels\n",
        "\n",
        "tokenized_inputs = tokenizer(\n",
        "    samples, truncation=True, padding=False, return_tensors=\"pt\"\n",
        ")\n",
        "\n",
        "# 2. DataCollator\n",
        "data_collator = DataCollatorWithPadding(tokenizer=tokenizer)\n",
        "\n",
        "\n",
        "# 3. Dataset\n",
        "class MyDataset(Dataset):\n",
        "    def __init__(self, encodings, labels):\n",
        "        self.encodings = encodings\n",
        "        self.labels = labels\n",
        "\n",
        "    def __getitem__(self, idx):\n",
        "        item = {key: torch.tensor(val[idx]) for key, val in self.encodings.items()}\n",
        "        item[\"labels\"] = torch.tensor(self.labels[idx])\n",
        "        return item\n",
        "\n",
        "    def __len__(self):\n",
        "        return len(self.encodings.input_ids)\n",
        "\n",
        "\n",
        "dataset = MyDataset(tokenized_inputs, labels)\n",
        "\n",
        "# 4. Model\n",
        "model = BertForSequenceClassification.from_pretrained(\"bert-base-uncased\", num_labels=2)\n",
        "\n",
        "# 5. Training Arguments\n",
        "training_args = TrainingArguments(\n",
        "    output_dir=\"./results\",  # output directory\n",
        "    num_train_epochs=3,  # total number of training epochs\n",
        "    per_device_train_batch_size=16,  # batch size per device during training\n",
        "    per_device_eval_batch_size=64,  # batch size for evaluation\n",
        "    warmup_steps=500,  # number of warmup steps for learning rate scheduler\n",
        "    weight_decay=0.01,  # strength of weight decay\n",
        "    logging_dir=\"./logs\",  # directory for storing logs\n",
        ")\n",
        "\n",
        "# 6. Trainer\n",
        "trainer = Trainer(\n",
        "    model=model,  # the instantiated Transformers model to be trained\n",
        "    args=training_args,  # training arguments, defined above\n",
        "    train_dataset=dataset,  # training dataset\n",
        "    eval_dataset=dataset,  # evaluation dataset\n",
        "    data_collator=data_collator,  # use our custom data collator\n",
        ")\n",
        "\n",
        "# 7. Train\n",
        "trainer.train()"
      ]
    },
    {
      "cell_type": "code",
      "execution_count": null,
      "metadata": {
        "id": "PTqPMiwQXeer"
      },
      "outputs": [],
      "source": [
        "from transformers import (\n",
        "    BertTokenizerFast,\n",
        "    DataCollatorWithPadding,\n",
        "    BertForSequenceClassification,\n",
        "    TrainingArguments,\n",
        "    Trainer,\n",
        ")\n",
        "from torch.utils.data import Dataset\n",
        "import torch\n",
        "\n",
        "model_checkpoint = \"facebook/m2m100_418M\"\n",
        "# 1. Tokenization\n",
        "tokenizer = AutoTokenizer.from_pretrained(\n",
        "    \"facebook/m2m100_418M\", src_lang=\"en\", tgt_lang=\"ar\"\n",
        ")\n",
        "samples = [\"Hello, this is an example\", \"This is another longer example sentence\"]\n",
        "labels = [0, 1]  # sample binary labels\n",
        "\n",
        "# tokenized_inputs = tokenizer(samples, truncation=True, padding=False, return_tensors=\"pt\")\n",
        "\n",
        "# 2. DataCollator\n",
        "data_collator = DataCollatorWithPadding(tokenizer=tokenizer)"
      ]
    },
    {
      "cell_type": "code",
      "execution_count": null,
      "metadata": {
        "colab": {
          "base_uri": "https://localhost:8080/"
        },
        "id": "A-JCUAQ9COWE",
        "outputId": "95ccfba0-17a5-4364-abc6-02b6bb85ed52"
      },
      "outputs": [
        {
          "name": "stdout",
          "output_type": "stream",
          "text": [
            "{'input_ids': tensor([128022,    593,  13331,  63245,     12,     55,  12293,      4,     48,\n",
            "          4909, 116982,   3419,   1961,   4909,   7798,      2]), 'labels': tensor([128006,  11000,   8424,  22295,     52,   7922,  59258,  20281,  53824,\n",
            "          1206,    874,  63348,   1625,   6969,    301,      2])}\n"
          ]
        }
      ],
      "source": [
        "# 3. Dataset\n",
        "class EnglishArabicDataset(torch.utils.data.Dataset):\n",
        "    def __init__(self, df, max_len=16):\n",
        "        self.max_length = max_len\n",
        "        self.df = df\n",
        "        self.df = self.df[~self.df[\"Arabic\"].isna()].reset_index()\n",
        "        self.tokenizer = AutoTokenizer.from_pretrained(\n",
        "            \"facebook/m2m100_418M\", src_lang=\"en\", tgt_lang=\"ar\"\n",
        "        )\n",
        "\n",
        "    def __len__(self):\n",
        "        return self.df.shape[0] - 1\n",
        "\n",
        "    def __getitem__(self, idx):\n",
        "        src = self.df.loc[idx, \"English\"]\n",
        "        tgt = self.df.loc[idx, \"Arabic\"]\n",
        "        model_inputs = self.tokenizer(\n",
        "            src,\n",
        "            text_target=tgt,\n",
        "            truncation=True,\n",
        "            max_length=self.max_length,\n",
        "            padding=\"max_length\",\n",
        "            return_tensors=\"pt\",\n",
        "        )\n",
        "        return {\n",
        "            \"input_ids\": model_inputs[\"input_ids\"][0, :],\n",
        "            \"labels\": model_inputs[\"labels\"][0, :],\n",
        "        }\n",
        "\n",
        "\n",
        "dataset = EnglishArabicDataset(flores_eng_ar)\n",
        "print(dataset[100])"
      ]
    },
    {
      "cell_type": "code",
      "execution_count": null,
      "metadata": {
        "colab": {
          "base_uri": "https://localhost:8080/"
        },
        "id": "TX-WJrc4NV3V",
        "outputId": "48159536-765d-410f-d3ec-bb736f893636"
      },
      "outputs": [
        {
          "name": "stdout",
          "output_type": "stream",
          "text": [
            "{'input_ids': tensor([128022,    203,  13635,   1900,   1253, 118504,      5,      2,      1,\n",
            "             1,      1,      1,      1,      1,      1,      1]), 'labels': tensor([128006,   2122,  13780,  18962,   2375,  27508,    680,  66089,      5,\n",
            "             2,      1,      1,      1,      1,      1,      1])}\n"
          ]
        }
      ],
      "source": [
        "# 3. Dataset\n",
        "class EnglishSudaneseDataset(torch.utils.data.Dataset):\n",
        "    def __init__(self, df, max_len=16):\n",
        "        self.max_length = max_len\n",
        "        self.df = df\n",
        "        self.df = self.df[~self.df[\"Sudanese\"].isna()].reset_index()\n",
        "        self.tokenizer = AutoTokenizer.from_pretrained(\n",
        "            \"facebook/m2m100_418M\", src_lang=\"en\", tgt_lang=\"ar\"\n",
        "        )\n",
        "\n",
        "    def __len__(self):\n",
        "        return self.df.shape[0] - 1\n",
        "\n",
        "    def __getitem__(self, idx):\n",
        "        src = self.df.loc[idx, \"English\"]\n",
        "        tgt = self.df.loc[idx, \"Sudanese\"]\n",
        "        model_inputs = self.tokenizer(\n",
        "            src,\n",
        "            text_target=tgt,\n",
        "            truncation=True,\n",
        "            max_length=self.max_length,\n",
        "            padding=\"max_length\",\n",
        "            return_tensors=\"pt\",\n",
        "        )\n",
        "        return {\n",
        "            \"input_ids\": model_inputs[\"input_ids\"][0, :],\n",
        "            \"labels\": model_inputs[\"labels\"][0, :],\n",
        "        }\n",
        "\n",
        "\n",
        "flores_eng_sd = pd.read_excel(\n",
        "    \"/content/eng_Latn_devtest_translated_0_400_401_500_601_699_701_800_801_1011_final.xlsx\"\n",
        ")\n",
        "madar_eng_sd = pd.read_excel(\"/content/madar_translated.xlsx\")\n",
        "dataset = EnglishSudaneseDataset(madar_eng_sd)\n",
        "print(dataset[100])"
      ]
    },
    {
      "cell_type": "code",
      "execution_count": null,
      "metadata": {
        "colab": {
          "base_uri": "https://localhost:8080/"
        },
        "id": "sTmELrnpC82q",
        "outputId": "518dafd4-fb9b-4eb8-9d35-5dc7badd35e3"
      },
      "outputs": [
        {
          "data": {
            "text/plain": [
              "[]"
            ]
          },
          "execution_count": 32,
          "metadata": {},
          "output_type": "execute_result"
        }
      ],
      "source": [
        "[idx for idx in range(len(dataset)) if dataset[idx][\"input_ids\"].shape[0] != 16]"
      ]
    },
    {
      "cell_type": "code",
      "execution_count": null,
      "metadata": {
        "colab": {
          "base_uri": "https://localhost:8080/",
          "height": 249
        },
        "id": "kCk8VN2hwhWN",
        "outputId": "28e77fff-c027-45fe-d38a-bfbf331e5db6"
      },
      "outputs": [
        {
          "name": "stderr",
          "output_type": "stream",
          "text": [
            "/usr/local/lib/python3.10/dist-packages/transformers/optimization.py:407: FutureWarning: This implementation of AdamW is deprecated and will be removed in a future version. Use the PyTorch implementation torch.optim.AdamW instead, or set `no_deprecation_warning=True` to disable this warning\n",
            "  warnings.warn(\n"
          ]
        },
        {
          "data": {
            "text/html": [
              "\n",
              "    <div>\n",
              "      \n",
              "      <progress value='1250' max='1250' style='width:300px; height:20px; vertical-align: middle;'></progress>\n",
              "      [1250/1250 14:27, Epoch 10/10]\n",
              "    </div>\n",
              "    <table border=\"1\" class=\"dataframe\">\n",
              "  <thead>\n",
              " <tr style=\"text-align: left;\">\n",
              "      <th>Step</th>\n",
              "      <th>Training Loss</th>\n",
              "    </tr>\n",
              "  </thead>\n",
              "  <tbody>\n",
              "    <tr>\n",
              "      <td>500</td>\n",
              "      <td>2.485400</td>\n",
              "    </tr>\n",
              "    <tr>\n",
              "      <td>1000</td>\n",
              "      <td>0.403400</td>\n",
              "    </tr>\n",
              "  </tbody>\n",
              "</table><p>"
            ],
            "text/plain": [
              "<IPython.core.display.HTML object>"
            ]
          },
          "metadata": {},
          "output_type": "display_data"
        },
        {
          "data": {
            "text/plain": [
              "TrainOutput(global_step=1250, training_loss=1.1722997619628905, metrics={'train_runtime': 868.2411, 'train_samples_per_second': 23.024, 'train_steps_per_second': 1.44, 'total_flos': 676881578065920.0, 'train_loss': 1.1722997619628905, 'epoch': 10.0})"
            ]
          },
          "execution_count": 102,
          "metadata": {},
          "output_type": "execute_result"
        }
      ],
      "source": [
        "# 4. Model\n",
        "device = \"cuda\" if torch.cuda.is_available else \"cpu\"\n",
        "model = AutoModelForSeq2SeqLM.from_pretrained(model_checkpoint)\n",
        "model = model.to(device)\n",
        "# 5. Training Arguments\n",
        "training_args = TrainingArguments(\n",
        "    output_dir=\"./results\",  # output directory\n",
        "    num_train_epochs=10,  # total number of training epochs\n",
        "    per_device_train_batch_size=16,  # batch size per device during training\n",
        "    per_device_eval_batch_size=64,  # batch size for evaluation\n",
        "    warmup_steps=500,  # number of warmup steps for learning rate scheduler\n",
        "    weight_decay=0.01,  # strength of weight decay\n",
        "    logging_dir=\"./logs\",  # directory for storing logs\n",
        ")\n",
        "\n",
        "# 6. Trainer\n",
        "trainer = Trainer(\n",
        "    model=model,  # the instantiated Transformers model to be trained\n",
        "    args=training_args,  # training arguments, defined above\n",
        "    train_dataset=dataset,  # training dataset\n",
        "    eval_dataset=dataset,  # evaluation dataset\n",
        "    data_collator=data_collator,  # use our custom data collator\n",
        "    compute_metrics=compute_metrics,\n",
        ")\n",
        "\n",
        "# 7. Train\n",
        "trainer.train()"
      ]
    },
    {
      "cell_type": "code",
      "execution_count": null,
      "metadata": {
        "id": "I72Ym2VxwhPB"
      },
      "outputs": [],
      "source": [
        "def translate(sentence, tokenizer, model):\n",
        "    model.eval()\n",
        "    tokenized_sentence = tokenizer(sentence, return_tensors=\"pt\").to(device)\n",
        "    generated_tokens = model.generate(\n",
        "        **tokenized_sentence, forced_bos_token_id=tokenizer.get_lang_id(\"ar\")\n",
        "    )\n",
        "    translated_sentence = tokenizer.batch_decode(\n",
        "        generated_tokens, skip_special_tokens=True\n",
        "    )\n",
        "    model.train()\n",
        "    return translated_sentence[0]"
      ]
    },
    {
      "cell_type": "code",
      "execution_count": null,
      "metadata": {
        "colab": {
          "base_uri": "https://localhost:8080/",
          "height": 92
        },
        "id": "DE7wKCM-IFbr",
        "outputId": "53d5f02f-9381-4d14-f1a4-9c1d31af6623"
      },
      "outputs": [
        {
          "name": "stderr",
          "output_type": "stream",
          "text": [
            "/usr/local/lib/python3.10/dist-packages/transformers/generation/utils.py:1346: UserWarning: Using `max_length`'s default (200) to control the generation length. This behaviour is deprecated and will be removed from the config in v5 of Transformers -- we recommend using `max_new_tokens` to control the maximum length of the generation.\n",
            "  warnings.warn(\n"
          ]
        },
        {
          "data": {
            "application/vnd.google.colaboratory.intrinsic+json": {
              "type": "string"
            },
            "text/plain": [
              "'الآن عندنا خمرة عمرها أربعة أشهر غير مرض'"
            ]
          },
          "execution_count": 103,
          "metadata": {},
          "output_type": "execute_result"
        }
      ],
      "source": [
        "translate(\n",
        "    \"We now have 4-month-old mice that are non-diabetic that used to be diabetic, he added.\",\n",
        "    tokenizer,\n",
        "    model,\n",
        ")"
      ]
    },
    {
      "cell_type": "code",
      "execution_count": null,
      "metadata": {
        "colab": {
          "base_uri": "https://localhost:8080/"
        },
        "id": "aNddP9TVIg-6",
        "outputId": "8c54af04-1e8e-437d-d797-37e4312cabfc"
      },
      "outputs": [
        {
          "name": "stderr",
          "output_type": "stream",
          "text": [
            "/usr/local/lib/python3.10/dist-packages/transformers/generation/utils.py:1346: UserWarning: Using `max_length`'s default (200) to control the generation length. This behaviour is deprecated and will be removed from the config in v5 of Transformers -- we recommend using `max_new_tokens` to control the maximum length of the generation.\n",
            "  warnings.warn(\n"
          ]
        }
      ],
      "source": [
        "pred = (\n",
        "    flores_eng_sd[~flores_eng_sd[\"Sudanese\"].isna()]\n",
        "    .reset_index()\n",
        "    .iloc[0:50, :][\"English\"]\n",
        "    .apply(lambda x: translate(x, tokenizer, model))\n",
        "    .tolist()\n",
        ")"
      ]
    },
    {
      "cell_type": "code",
      "execution_count": null,
      "metadata": {
        "colab": {
          "base_uri": "https://localhost:8080/",
          "height": 36
        },
        "id": "oZv7O3_pWwkE",
        "outputId": "da9ebe5e-0c6c-4ad6-eee2-96b9d2bde189"
      },
      "outputs": [
        {
          "data": {
            "application/vnd.google.colaboratory.intrinsic+json": {
              "type": "string"
            },
            "text/plain": [
              "'\"We now have 4-month-old mice that are non-diabetic that used to be diabetic,\" he added.\\n'"
            ]
          },
          "execution_count": 99,
          "metadata": {},
          "output_type": "execute_result"
        }
      ],
      "source": [
        "flores_eng_sd[~flores_eng_sd[\"Sudanese\"].isna()].reset_index().iloc[0:50, :][\"English\"][\n",
        "    0\n",
        "]"
      ]
    },
    {
      "cell_type": "code",
      "execution_count": null,
      "metadata": {
        "id": "7TfPhAE5T87K"
      },
      "outputs": [],
      "source": [
        "gt = flores_eng_sd.iloc[0:50, :][\"Sudanese\"].tolist()"
      ]
    },
    {
      "cell_type": "code",
      "execution_count": null,
      "metadata": {
        "colab": {
          "base_uri": "https://localhost:8080/"
        },
        "id": "Bbi5tWh3LXW4",
        "outputId": "c95edd36-4e09-4c90-de35-f78e90cc0818"
      },
      "outputs": [
        {
          "data": {
            "text/plain": [
              "['\"الآن عندنا خمرة عمرها أربعة أشهر غير',\n",
              " 'الدكتور ايهود اور، أستاذ طب في جامعة دالوسي',\n",
              " 'تمام مع بعض الخبراء التانيين، هو متشك حول',\n",
              " 'في ايام الاتنين، سارة دانيوس، الأمين الدائم ل',\n",
              " 'دانيوس قال، \"الآن نفعل شي. اتصلت',\n",
              " 'سابق، المدير التنفيذي لشركة رينج، جي',\n",
              " 'هو بنى مكالمة باب الواي فاي، قال.',\n",
              " 'سيدينوف قال ان المبيعات زيادة بعد ظهوره في',\n",
              " 'في اخر عام 2017، سيمينوف ظهرت في',\n",
              " 'انجليس حلت محاكمة مع شركة أمنية منافسة',\n",
              " 'في حين يبدو أن لقاح تجريبي واحد قادر يقلل',\n",
              " 'كوكتيل واحد لمكافحة الجسد، زام',\n",
              " 'في تجارب البارم، زامب عملت كمراقب',\n",
              " 'اللياقة البدنية في الولايات. تدعم رسالة المجموع',\n",
              " 'اوكي، سيدي. أنا موافق على بيان اوزوك ربما',\n",
              " 'الولايات. الجمنازية تدعم تحقيقات مستقلة احتمال ت',\n",
              " 'اللياقة البدنية في الولايات. و اللياقة البدنية في',\n",
              " 'من خلال الستينات، عملت برزينسكي ل',\n",
              " 'خلال الانتسابات لعام 1976، مشير كارتر في السياسة',\n",
              " 'كشرطة الأمن، مساعد كارتر في الشؤون العالمية، زي',\n",
              " 'الفلم، بتاع رايان غاسلين و ايما',\n",
              " 'Gosling و Stone حصلوا على ترشيحات لأفضل مم',\n",
              " 'ترشيحات تانية تشمل لقطة أفضل، مدير،',\n",
              " 'تلاتة أغنيات من الفلم، Audition (الجن',\n",
              " 'لاحقا في الأحد، رئيس الولايات. دونالد ترامب، في',\n",
              " 'الإعلان اتطور بعد أن عملت مكالمة هاتفية مع',\n",
              " 'تركيا ح تتولى حرامي مقاتلين بتاعين',\n",
              " 'داك ما فقط بتأكد ان بعض الديناصورات عشان ك',\n",
              " 'العلماء بقولوا الحيوان دا كان مشوي في الق',\n",
              " 'الاكتشافات برضه تطلع برضه.',\n",
              " 'لأن أطباق الديناصورات ما عندهم وصفة طبية',\n",
              " 'هيكل الحبوب بتشير أنهم ما استخدموا في الرح',\n",
              " 'الباحثين اقترحوا أنه، على الرغم من أنساب',\n",
              " 'قنبلة عربية مطلة في مكاتب الشرطة في',\n",
              " 'وكالة الحاكم تقول تسعة وتسعين ضابط شرطة',\n",
              " 'وقالت الشرطة إنها بتشتبه في انتشال داش',\n",
              " 'نعم، أنا هو. اعتادوا يكتشفوا أنش',\n",
              " 'الإضاءة و الدوارة استخدموا معا لحدد رقم',\n",
              " 'أصغر رقم روسبي، أقل نشاط النجوم عند',\n",
              " 'خلال رحلته، ايوازاكي عانى من مشا',\n",
              " 'هو اتسرق من قبل القرايب، هاجم في التبت',\n",
              " 'معايير 802.11n بتعمل في أربعة وعشرين',\n",
              " 'داك ح يسمح له أن يكون متوافق مع 802.11',\n",
              " 'سرعات 802.11n أسرع بكثير من سوا.',\n",
              " 'دووال، الذي متزوج مع طفلين بالغين،',\n",
              " 'عند سؤال التعليق، ميلر قال: \"مايك',\n",
              " '\"سنعمل جاهدين لخفض انبعاثات بي',\n",
              " 'هو ما وضع رقم للقطع، قائلا ح يكونوا مصنوع',\n",
              " 'هو ح يشجع البلدان النامية \"تجنب الطريق',\n",
              " 'أكد أنه \"لا مفروض يتطلب منهم القيام بواجب']"
            ]
          },
          "execution_count": 105,
          "metadata": {},
          "output_type": "execute_result"
        }
      ],
      "source": [
        "pred[0:100]"
      ]
    },
    {
      "cell_type": "code",
      "execution_count": null,
      "metadata": {
        "colab": {
          "base_uri": "https://localhost:8080/"
        },
        "id": "p3V6sFWwT2_a",
        "outputId": "2c1321d7-2109-4f86-dc39-3f55b50fac02"
      },
      "outputs": [
        {
          "data": {
            "text/plain": [
              "['هسي عندنا فيران عمرها ٤ شهور ما مصابة بداء السكري و الاعتادت انها تكون مصابة بداء السكري.',\n",
              " 'الدكتور اليهود اور  (استاذ الطب بجامعة دالهوزي في هاليفاكس ، نوفا سكوتيا و رئيس القسم الاكلينكي والعلمي في جمعية السكري الكندية من انو البحث لسه في أيامه الأولى.',\n",
              " 'زيو و زي شوية من الخبراء التانيين،، زول شكاك بخصوص قصة علاج مرض السكري ، وبقول انو النتايج دي ما عندها علاقة بالناس الجد جد العندهم مرض السكري ( بياخدوا انسولين) .',\n",
              " 'يوم الاتنين ،سارة دانيوس قالت ( السكرتيرة الدائمة للجنة نوبل للأدب في ألاكاديمية السويدية ، في الردايو  sveriges  فالسويد ، بانو اللجنة دي ما قادرة على أنها تصل ل بوب ديلان عشان يتفاهموا معاهو في قصة الفوز بجائزة نوبل في الأدب لعام ٢٠١٦ ، و استغنى عن جهوده في انو يصل ليهو.',\n",
              " 'دانيوس قال \"  حاليا نحن ما بنعمل في شي ، انا ضربت و رسلت رسايل ف الايميل لاقرب زول بساعده و جاتني ردود ودودة شديد ، حاليا ، و دا اكيد طبعا كفاية \".',\n",
              " 'فالمرة الفاتت ، لاحظ جيمي سيمينوف ، الرئيس التنفيذي لشركة Ring  ، انو الشركة دي بدت لمن جرس الباب ما كان بتسمع في دكان.',\n",
              " 'قال  قمت عملت جرس باب بالواي فاي .',\n",
              " 'قال simionoff انو المبيعات طارت السما  بعد ظهوره سنة ٢٠١٣ في حلقة  shark tank  لمن لوحة العرض ابت انها تمول الشركة القايمة يادوب.',\n",
              " 'ف نهاية سنة ٢٠١٧ ظهر سيمينوف في التلفزيون قناة التسويق  QVC .',\n",
              " 'قام رينغ عمل ليهو دعوة قضائية مع شركة الآمن المنافسة ، شركة ADT.',\n",
              " 'وكمان شكلو ف فكرة تجريبية  واحدة قادرة على الحد من اموات الايبولا ، للان ، ما اي دواء ولا اي شي قدر انو يعالج العدوى القاعده حايمة دي.',\n",
              " 'و في خلطة واحدة من الأجسام المضادة  ZMapp ،  انو هيقدر يحد من الحاجة دي ، لكن للأسف الدرسات الرسمية قالت انو اقل فايدة من العايزنو في انو يوقفو الموت.',\n",
              " 'في تجربة  PALM ، كان ZMapp في صورة عنصر بنتحكم بيهو ، والحاجة دي معناها انو العلماء استخدمو ك خط اساس و قارنو العلاجات التلاتة الباقيات بيهو .',\n",
              " 'دعمت USA Gymnastics  رسالة اللجنة الأولمبية الأمريكية  و انها تتقبل الحاجات الضرورية شديد للاسرة الأولمبية عشان تقوي و توفر بيئة آمنة للرياضيين  حقننا كلهم.',\n",
              " 'نحن اتفقنا مع بيان USOC  بانو مكالمة الرياضيين و النوادي و رياضتهم ،  ممكن انو تتخدم بطريقة احسن من كدا بانو التقدم  في تغيير عندو معنى جوا مؤسستنا ،، بدل اني الغي الاعتماد.',\n",
              " 'USA Gymnastics  بيدعم تحقيق مستقل وممكن نوجه الضوء عليهو بانو كيفية الاستخدام الكعب للنسبة الموصفنها الناجين من Larry Nassar ممكن ما يعرفوها لفترة طويلة و ممكن يكون جواها تغييرات ضرورية و مناسبة.',\n",
              " '\\u200f USA للجمباز و USOC عندهم نفس الهدف بإنو يخلو الجمباز وغيرها من الرياضات آمنة بقدر الإمكان للرياضيين عشان يتبعوا أحلامهم بطريقة آمنة وإيجابية وبيئة مُمَكنة.',\n",
              " 'في الستينات من القرن العشرين داك، بيرزنسكي اشتغل مستشار عند جون كينيدي وبعدها مع ليندون جونسون في الإدارة.',\n",
              " 'في انتخابات سنة 1976 بيرزنسكي نصح كارتر في السياسات بتاعتو الخارجية، بعدها خدم كمستشار أمني وطني من ١٩٧٧ لحدي ١٩٨١، بعد هنري (NSA) كينجر.',\n",
              " 'لمن كان مسشتار أمني وطني ساعد كارتر في التعامل دبلوماسياً مع الشؤون العالمية، زي انتخابات 1978، تنظيم العلاقات الصينية الأمريكية في نهاية السبعينات، ثورة إيران العملت أزمة رهاين إيران ١٩٧٩، والغزو السوفيتي حق أفغانستان ١٩٧٩.',\n",
              " 'الفيلم الكان من تمثيل رايان جوسلينج وايما ستون حصل على ترشيحات في جميع الفئات الرئيسية.',\n",
              " 'جوسلينج وستون حصلوا على ترشيحات لجائزة افضل ممثل وممثلة على التوالي.',\n",
              " 'حصل برضو على الترشيحات التانية منها جائزة أفضل فيلم، احسن مخرج، افضل تصوير، تصميم ازياء، تحرير فيلم، موسيقى، إنتاج، مزج صوتي، وأفضل سيناريو.',\n",
              " 'في اغنيتين من الفيلم حصلوا على ترشيحات لجائزة افضل اغنية وحصلت lionsgate على 26 ترشيح وكدا بقت اكتر من اي ستوديو تاني.',\n",
              " 'يوم الأحد بالمسا كدا، رئيس أمريكا دونالد ترامب أعلن في بيان رسمي طلعوا المتحدث الصحفي إنو القوات الأمريكية حتطلع من سوريا.',\n",
              " 'أعلن الكلام دا بعد ما اخد ليو تلفون كدا مع الرئيس التركي أردوغان.',\n",
              " 'تركيا حتحرس مقاتلين داعش الرفضت أوروبا انها ترجعهم.',\n",
              " 'دا ما بيأكد إنو بس بعض الديناصورات عندها ريش ودي نظرية منتشرة جد جد، لكن بتقدم تفاصيل ما بتقدر الحفريات انو تظهرها زي الترتيب ثلاثي الأبعاد.',\n",
              " 'العلماء بقولوا انّو ريش الحيوان دا كان بني كستنائي من الأعلى والجانب السفلي ليهو شاحب كدا أو كاروتينويد.',\n",
              " 'الاكتشاف دا بيدي نظرة ثاقبة لي تطور الريش في الطيور.',\n",
              " 'ريش الديناصورات ما فيو العمود المنظور الاسمو rachis  لكن عندو مميزات تانية (الأسلات) والباحثين استنتجوا انو المحور كان تطور لاحق للميزات التانية .',\n",
              " 'هيكل الرسم يوضح انو ما تم استخدامه للطيران بل لتنظيم الحرارة وكدا.',\n",
              " 'قام الباحثون باقتراح انو على الرغم من إنو دا ريش ديناصور صغير الا انّو العينة بتظهر ريش بالغ وما ريش كتكوت.',\n",
              " 'في عربية مفخخة اتفجرت في القسم حق غازي عنتاب أمس الصباح وفي ضابطين ماتوا، وكم عشرين نفر اتعوّقوا.',\n",
              " 'مكتب المحافظ قال إنو ١٩ من المصابين ضباط شرطة.',\n",
              " 'الشرطة شاكة في مسؤولية واحد من ناس داعش المزعومين على الهجوم.',\n",
              " 'قال ليك لقوا انو الشمس شغالة في نفس فهم النجوم الثانية مدفوع من خلال لمعانها ودورانها بس.',\n",
              " 'الدوران واللمعان بيستخدموا  سوا عشان يحددوا رقم روسبي للنجم، اللي هو مربوط يتدفق البلازما.',\n",
              " 'كل ما صغر رقم روسبي يكون النجم اقل نشاط في احناك الانعكاسات المغناطيسية وكدا.',\n",
              " 'في مشواره؛ ايواساكي اتعكَّست عليو في مناسبات كتيرة.',\n",
              " 'القراصنة نهبوه ،عضّاو كلب سعران، وهرب من العرس في النيبال، والمتقل في الهند.',\n",
              " 'معيار n11. 802 بشتغل على ترددات 2.4- 5.0 جيجا هرتز.',\n",
              " 'دا بخلي إنو تكون متوافقة مع a11. 802 وb11802 وg11. 802 شرطاً إنو المحطة يكون فيها راديو مزدوج.',\n",
              " 'سرعات n11. 802 اسرع من سابقتها بأقصى سرعة ممكنة تصل إلى ٦٠٠ mg/ث.',\n",
              " 'دونفال معرس وعندو ولدين كبار ما أثر كتير على ميلر المربوطة بيو القصة',\n",
              " 'لمن قالوا ليو علق قال \"مايك دا كلامو كتير خلاص ،وانا ما كنت بسمع ليو ولا مركز معاه زاتو\".',\n",
              " 'هو جين خاو قال \"حنحاول نقلل خفض انباعاثات co2 لكل واحدة من الناتج المحلي حقنا بحلول 2020 اكتر من 2005.',\n",
              " 'ما حدد رقم للتخفيضات، على أساس انو حتتم بالناتج الاقتصادي للصين.',\n",
              " 'لو جينتاو شجع الدول النامية على تجنب المسار القديم وبعداك التطبيق ملحوق.',\n",
              " 'وقال برضو\" ما المفروض يتحملوا التزامات اكتر من مرحلة التطوير والمسؤولية والقدرات\".',\n",
              " 'قدمت مجموعة دراسة العراق التقرير حقها الساعة 12:00 بي توقيت جرينيتش الليلة.',\n",
              " 'يحذر من أنّو ماف زول  بيقدر يضمن أنّو أي مسار عمل في العراق في  المرحلة دي  حيوقف الحرب الطائفية ، أو العنف المتزايد ، أو الانزلاق نحو الفوضى.',\n",
              " 'يفتتح التقرير بدعوة لإجراء نقاش مفتوح وتشكيل إجماع في الولايات المتحدة حول السياسة تجاه الشرق الأوسط.',\n",
              " 'التقرير بينتقد  بشدة كل جانب تقريباً من جوانب السياسة الحالية للسلطة التنفيذية تجاه العراق وبيحث على تغيير فوري في الاتجاه.',\n",
              " 'أولًا من بين توصياتها الـ 78 أنه مفروض يعملوا مبادرة دبلوماسية جديدة قبل نهاية السنة دي لتأمين حدود العراق ضد التدخلات العدائية وإعادة العلاقات الدبلوماسية مع جيرانو.',\n",
              " 'أعلنت السناتور الحالي والسيدة الأولى الأرجنتينية كريستينا فرنانديز دي كيرشنر ترشحها للرئاسة امبارح بالمساء  في لا بلاتا ، وهي مدينة تبعد 50 كيلومترًا (31 ميلاً) عن بوينس آيرس.',\n",
              " 'أعلنت السيدة كيرشنر عن نيتها الترشح للرئاسة في المسرح الأرجنتيني ، وهو نفس الموقع الكانت بتدأ فيهو حملتها الانتخابية سنة 2005 لمجلس الشيوخ بصفتها عضو  في وفد مقاطعة بوينس آيرس.',\n",
              " 'النقاش اشتعل بسبب الجدل حول موضوع الصرف على الإغاثة وإعادة الإعمار في أعقاب إعصار كاترينا. االوصفها بعض من المحافظين الماليين بطريقة فكاهية بأنها \"صفقة بوش في نيو أورليانز\".',\n",
              " 'و ركز النقد الليبرالي لجهود إعادة الإعمار على منح عقود إعادة الإعمار للمطلعين على بواطن الأمور في واشنطن.',\n",
              " 'مشى أكثر من أربعة ملايين زول إلى روما عشان يحضروا الجنازة.',\n",
              " 'كان عدد الأشخاص الحاضرين كبير  لدرجة أنّو  ما كان مممكن للجميع الوصول إلى الجنازة في ساحة القديس بطرس.',\n",
              " 'تم تركيب شاشات تلفزيون كتيرة  وكبيرة في أماكن مختلفة في روما عشان يسمحوا للجمهور بمشاهدة الحفل.',\n",
              " 'في كتير من المدن التانية في إيطاليا وفي بقية العالم ، بزّات في بولندا ، تم إجراء إعدادات مماثلة ، الشاهدها عدد كبير من الناس.',\n",
              " 'المؤرخيين انتقدوا سياسات مكتب التحقيقات الفيدرالي السابقة عشان  الموارد ركّزوا على القضايا الحلها ساهل، وخاصة حالات العربات المسروقة ، بهدف تعزيز معدل نجاح الوكالة.',\n",
              " 'الكونجرس بدأ في تمويل مبادرة الفحش في السنة المالية 2005 وحدد أنّو مكتب التحقيقات الفدرالي مفروض  يخصص 10 وكلاء للمواد الإباحية للبالغين.',\n",
              " 'حقق Robin Uthappa أعلى نتيجة في الأدوار ، 70 مرة في 41 كرة بس بضرب 11 أربع وستين.',\n",
              " 'من رجال المضرب من الدرجة المتوسطة ، ساشين تيندولكار وراهول درافيد ، كان أداؤهم كويس وعملوا شراكة مية مرة.',\n",
              " 'ولكن ، بعد خسارة نصيب القبطان ، الهند عملت  إجراء 36 مرة فقط لتفقد 7 ويكيت لإنهاء الأدوار.',\n",
              " 'وصل الرئيس الأمريكي جورج دبليو بوش لي سنغافورة  يوم 16 نوفمبر / تشرين الثاني بالصباح ، عشان يبدأ جولة بتاخد أسبوع في آسيا.',\n",
              " 'استقبله نائب رئيس الوزراء السنغافوري وونغ كان سنغ وناقش قضايا التجارة والإرهاب مع رئيس وزراء سنغافورة لي هسين لونج.',\n",
              " 'بعد أسبوع من الخسائر في انتخابات التجديد النصفي ، كلّم  بوش الجمهور عن توسع التجارة في آسيا.',\n",
              " 'وافق رئيس الوزراء ستيفن هاربر انو \"قانون الهوا النضيف\" الحكومي لي  لجنة فيها كل  الأحزاب عشان تراجعوا ، قبل قرايتو  التانية ، بعد اجتماع يوم التلاتا25 دقيقة مع زعيم الحزب الوطني الديمقراطي جاك لايتون في مكتب رئيس الوزراء.',\n",
              " 'لايتون قال داير يعمل  تغييرات على مشروع قانون البيئة بتاع المحافظين  في اجتماع مع رئيس الوزرا ، عاوز\"يعيد صياغة شاملة وكاملة\" لمشروع قانون البيئة بتاع حزب المحافظين.',\n",
              " 'من ما دخلت الحكومة الفيدرالية عشان تمول مستشفى ميرسي في ديفونبورت ، تسمانيا ، نقنقت  حكومة الولاية وبعض النواب الفيدراليين في العمل دا باعتباره حنك تمهيد للانتخابات الفيدرالية الحتم  الدعوة ليها في شهر نوفمبر.',\n",
              " 'لكن رئيس الوزرا جون هوارد قال إنو  الاجراءات دي كانت بس عشان يحموا مرافق المستشفى من التخفيضات من حكومة تسمانيا ، كان دا بي منح 45 مليون دولار أسترالي زيادة .',\n",
              " 'حسب آخر نشرة ، كانت القرايات بتوري انو مستوى سطح البحر حيحصل فيهو  تسونامي. كان في شوية نشاط تسونامي واضح اتسجل قريب من باجو باجو ونيوي.',\n",
              " 'ما بلغوا عن أضرار أو إصابات جسيمة في تونغا ، لكن الكهربا قطعت مؤقتًا ، المنع سلطات تونغا ، زي ما ذكروا ، انو في تحذير من تسونامي صادر عن PTWC.',\n",
              " 'قفلوا مدرسة في هاواي قاعدة على السواحل أو قويبة منها طول يوم الأربع رغم انو التحذيرات زادت .',\n",
              " 'رحب الرئيس الأمريكي جورج دبليو بوش بالإعلان.',\n",
              " 'ورى المتحدث باسم بوش ، جوردون جوندرو ، تعهد كوريا الشمالية بأنو عبارة عن خطوة رئيسية لي هدف تحقيق نزع السلاح النووي في شبه الجزيرة الكورية في صورة يمكن  يتحققوا منها \".',\n",
              " 'العاصفة الاسمها العاشرة لموسم الأعاصير الأطلسية ، العاصفة شبه الاستوائية جيري ، اتشكلت في المحيط الأطلسي الليلة .',\n",
              " 'المركز الوطني للأعاصير قال : (NHC) أنو  في المرحلة دي لا يشكل جيري أي تهديد للأرض.',\n",
              " 'سلاح المهندسين الأمريكيين قدروا  أنو  6 بوصات من الأمطار ممكن تخترق السدود المتضررة قبل كدا .',\n",
              " 'الجناح التاسع ،  الشهد فيضانات وصلت ارتفاعاتها   لي  20 قدم وقت  إعصار كاترينا ، قاعد حالياً في موية ارتفاع الخصر في وقت تم تجاوز السد المجاور.',\n",
              " 'بتكب فوق السد في قسم عرضوا 100 قدم.',\n",
              " 'ورى آدم كويردين ، مدير مجلس العموم ،شعوروا  عن إحباطو من عمليات الحذف لمن تحدث إلى Wikinews الشهر الماضي.',\n",
              " '\" [ويلز] كضب  علينا عديل من البداية. أول حاجة ، بتصرف كانو  الحاجة دي   لأسباب قانونية. ثاني حاجة  ، من ما بعمل روحو  بسمع لينا ، حتى المسحة الفنية.\"',\n",
              " 'انزعاج المجتمع عمل   الجهود الحالية عشان يصيغوا  سياسة  بتاعت المحتوى الجنسي للموقع  البستضيف ملايين الوسايط المرخصة على العلن .',\n",
              " 'العمل المنجز في الغالب كان شغل نظري  ، ولكن عمل لي كتابة البرنامج عشان يحاكي  الملاحظات العملوها  لمجرة القوس.',\n",
              " 'التأثير  الكان بيفتشوا عنه الفريق جاي  من  قوى المد بين المادة المضلمة في المجرة والمادة المضلمة في مجرة \\u200b\\u200bدرب التبانة.',\n",
              " 'بالضبط كانو  القمر  بيعمل شد  على الأرض ، البسوي لي  تكوين المد والجزر ، مجرة \\u200b\\u200bدرب التبانة بتعمل قوة على مجرة \\u200b\\u200bالقوس.',\n",
              " 'قدروا العلما  انو يستنتجوا  أنو المادة المضلمة بتاثر  على المادة المضلمة التانية  بنفس الطريقة البتاثر  بيها المادة العادية.',\n",
              " 'النظرية دي بتقول أنو  اغلبية المادة المضلمة حولين المجرة قاعدة حولين مجرة \\u200b\\u200bفي شكل هالة كدا  ، وبتتكون من كتيير  من الجسيمات الصغيرة.',\n",
              " 'التقارير الترفزيونية بتوري دخان أبيض كدا  بطلع من المصنع.',\n",
              " 'السلطات المحلية حذرت  السكان القاعدين في محيط المصنع انو يلزموا  بيوتهم  وويوقغوا  تشغيل مكيفات الهوا وعدم شرب موية  الصنبور.',\n",
              " 'حسب  للوكالة النووية اليابانية ، تم التعرف على السيزيوم المشع واليود في الحتة دي .',\n",
              " 'السلطات خمنت انو دا بيودي  لي انو   الحاويات دي بتحتوي على وقود اليورانيوم في نفس الحتة  يمكن  تكون  انفجرت واتسربت.',\n",
              " 'الدكتور توني مول اكتشف  مرض السل  المقاومتو شديدة للأدوية (XDR-TB) في منطقة كوازولو ناتال في جنوب إفريقيا.',\n",
              " 'في مقابلة ، قال إنو  البديل الجديد \"مقلق  شديد ومقلق شديد  لانو  معدل الوفيات  عالي  شديد .',\n",
              " 'الدكتور مول قايل  أنو  بعض العيانين احتمال مرضوا بالفيروس دا في المستشفى ، وكان في اتنين  على الأقل من العاملين الصحة  في المستشفى.']"
            ]
          },
          "execution_count": 81,
          "metadata": {},
          "output_type": "execute_result"
        }
      ],
      "source": [
        "gt[0:100]"
      ]
    },
    {
      "cell_type": "code",
      "execution_count": null,
      "metadata": {
        "colab": {
          "base_uri": "https://localhost:8080/"
        },
        "id": "km3eGeA7IN3K",
        "outputId": "2fe8a0bb-4d1f-4698-910e-81e796f756f2"
      },
      "outputs": [
        {
          "name": "stdout",
          "output_type": "stream",
          "text": [
            "[['وقد', 'تلقى', 'الفيلم', 'الذي', 'يضم', 'رايان', 'غوسلينغ', 'وإيما', 'ستون،', 'ترشيحات', 'في', 'جميع', 'الفئات', 'الرئيسية.']] ['حصل', 'الفيلم،', 'الذي', 'يضم', 'رايان', 'غوسلينج', 'وإيما', 'ستون،', 'على', 'ترشيحات']\n",
            "0.05848118970765511\n"
          ]
        }
      ],
      "source": [
        "from nltk.translate.bleu_score import sentence_bleu\n",
        "\n",
        "references = [\n",
        "    [g.split()] for g in gt\n",
        "]  # [['this', 'is', 'a', 'test'], ['this', 'is' 'test']]\n",
        "candidates = [p.split() for p in pred]  # ['this', 'is', 'a', 'test']\n",
        "print(reference[:10], candidate[:10])\n",
        "score = sum(\n",
        "    [\n",
        "        sentence_bleu(reference, candidate, weights=[1])\n",
        "        for reference, candidate in zip(references, candidates)\n",
        "    ]\n",
        ")\n",
        "print(score / len(candidates))"
      ]
    },
    {
      "cell_type": "code",
      "execution_count": null,
      "metadata": {
        "id": "W65XLcqCIeom"
      },
      "outputs": [],
      "source": []
    }
  ],
  "metadata": {
    "accelerator": "GPU",
    "colab": {
      "provenance": []
    },
    "kernelspec": {
      "display_name": "Python 3",
      "name": "python3"
    },
    "language_info": {
      "name": "python"
    },
    "widgets": {
      "application/vnd.jupyter.widget-state+json": {
        "0927609b70e64d8d9177f4e9c7012c8a": {
          "model_module": "@jupyter-widgets/controls",
          "model_module_version": "1.5.0",
          "model_name": "DescriptionStyleModel",
          "state": {
            "_model_module": "@jupyter-widgets/controls",
            "_model_module_version": "1.5.0",
            "_model_name": "DescriptionStyleModel",
            "_view_count": null,
            "_view_module": "@jupyter-widgets/base",
            "_view_module_version": "1.2.0",
            "_view_name": "StyleView",
            "description_width": ""
          }
        },
        "11eccf897dc247e5b62118c4c4efb65e": {
          "model_module": "@jupyter-widgets/controls",
          "model_module_version": "1.5.0",
          "model_name": "DescriptionStyleModel",
          "state": {
            "_model_module": "@jupyter-widgets/controls",
            "_model_module_version": "1.5.0",
            "_model_name": "DescriptionStyleModel",
            "_view_count": null,
            "_view_module": "@jupyter-widgets/base",
            "_view_module_version": "1.2.0",
            "_view_name": "StyleView",
            "description_width": ""
          }
        },
        "120ce206deb340829c7764a8842b127c": {
          "model_module": "@jupyter-widgets/base",
          "model_module_version": "1.2.0",
          "model_name": "LayoutModel",
          "state": {
            "_model_module": "@jupyter-widgets/base",
            "_model_module_version": "1.2.0",
            "_model_name": "LayoutModel",
            "_view_count": null,
            "_view_module": "@jupyter-widgets/base",
            "_view_module_version": "1.2.0",
            "_view_name": "LayoutView",
            "align_content": null,
            "align_items": null,
            "align_self": null,
            "border": null,
            "bottom": null,
            "display": null,
            "flex": null,
            "flex_flow": null,
            "grid_area": null,
            "grid_auto_columns": null,
            "grid_auto_flow": null,
            "grid_auto_rows": null,
            "grid_column": null,
            "grid_gap": null,
            "grid_row": null,
            "grid_template_areas": null,
            "grid_template_columns": null,
            "grid_template_rows": null,
            "height": null,
            "justify_content": null,
            "justify_items": null,
            "left": null,
            "margin": null,
            "max_height": null,
            "max_width": null,
            "min_height": null,
            "min_width": null,
            "object_fit": null,
            "object_position": null,
            "order": null,
            "overflow": null,
            "overflow_x": null,
            "overflow_y": null,
            "padding": null,
            "right": null,
            "top": null,
            "visibility": null,
            "width": null
          }
        },
        "127703ff7d90482a8fa45f082f4d09bf": {
          "model_module": "@jupyter-widgets/base",
          "model_module_version": "1.2.0",
          "model_name": "LayoutModel",
          "state": {
            "_model_module": "@jupyter-widgets/base",
            "_model_module_version": "1.2.0",
            "_model_name": "LayoutModel",
            "_view_count": null,
            "_view_module": "@jupyter-widgets/base",
            "_view_module_version": "1.2.0",
            "_view_name": "LayoutView",
            "align_content": null,
            "align_items": null,
            "align_self": null,
            "border": null,
            "bottom": null,
            "display": null,
            "flex": null,
            "flex_flow": null,
            "grid_area": null,
            "grid_auto_columns": null,
            "grid_auto_flow": null,
            "grid_auto_rows": null,
            "grid_column": null,
            "grid_gap": null,
            "grid_row": null,
            "grid_template_areas": null,
            "grid_template_columns": null,
            "grid_template_rows": null,
            "height": null,
            "justify_content": null,
            "justify_items": null,
            "left": null,
            "margin": null,
            "max_height": null,
            "max_width": null,
            "min_height": null,
            "min_width": null,
            "object_fit": null,
            "object_position": null,
            "order": null,
            "overflow": null,
            "overflow_x": null,
            "overflow_y": null,
            "padding": null,
            "right": null,
            "top": null,
            "visibility": null,
            "width": null
          }
        },
        "12a6b8f704404a6f8fead6722f96fbb8": {
          "model_module": "@jupyter-widgets/controls",
          "model_module_version": "1.5.0",
          "model_name": "DescriptionStyleModel",
          "state": {
            "_model_module": "@jupyter-widgets/controls",
            "_model_module_version": "1.5.0",
            "_model_name": "DescriptionStyleModel",
            "_view_count": null,
            "_view_module": "@jupyter-widgets/base",
            "_view_module_version": "1.2.0",
            "_view_name": "StyleView",
            "description_width": ""
          }
        },
        "21a2bbcfe9444eb990afc35cabf49479": {
          "model_module": "@jupyter-widgets/controls",
          "model_module_version": "1.5.0",
          "model_name": "ProgressStyleModel",
          "state": {
            "_model_module": "@jupyter-widgets/controls",
            "_model_module_version": "1.5.0",
            "_model_name": "ProgressStyleModel",
            "_view_count": null,
            "_view_module": "@jupyter-widgets/base",
            "_view_module_version": "1.2.0",
            "_view_name": "StyleView",
            "bar_color": null,
            "description_width": ""
          }
        },
        "36f1d0986a414ec89ce3e1cf8c4182ce": {
          "model_module": "@jupyter-widgets/controls",
          "model_module_version": "1.5.0",
          "model_name": "HTMLModel",
          "state": {
            "_dom_classes": [],
            "_model_module": "@jupyter-widgets/controls",
            "_model_module_version": "1.5.0",
            "_model_name": "HTMLModel",
            "_view_count": null,
            "_view_module": "@jupyter-widgets/controls",
            "_view_module_version": "1.5.0",
            "_view_name": "HTMLView",
            "description": "",
            "description_tooltip": null,
            "layout": "IPY_MODEL_6711fd0afbb943929c734dde79e09627",
            "placeholder": "​",
            "style": "IPY_MODEL_582154ff534f4c8f9b885b7a774410fc",
            "value": "Downloading (…)lve/main/config.json: 100%"
          }
        },
        "48238671f0bc4e849bf9bd777b55a700": {
          "model_module": "@jupyter-widgets/controls",
          "model_module_version": "1.5.0",
          "model_name": "HTMLModel",
          "state": {
            "_dom_classes": [],
            "_model_module": "@jupyter-widgets/controls",
            "_model_module_version": "1.5.0",
            "_model_name": "HTMLModel",
            "_view_count": null,
            "_view_module": "@jupyter-widgets/controls",
            "_view_module_version": "1.5.0",
            "_view_name": "HTMLView",
            "description": "",
            "description_tooltip": null,
            "layout": "IPY_MODEL_ae9ec366227b4034b225629be621688f",
            "placeholder": "​",
            "style": "IPY_MODEL_a33a35f395404192a81ea8654453176d",
            "value": " 272/272 [00:00&lt;00:00, 14.4kB/s]"
          }
        },
        "4e4ed41d015d4694894c7cb793f4a90f": {
          "model_module": "@jupyter-widgets/controls",
          "model_module_version": "1.5.0",
          "model_name": "HTMLModel",
          "state": {
            "_dom_classes": [],
            "_model_module": "@jupyter-widgets/controls",
            "_model_module_version": "1.5.0",
            "_model_name": "HTMLModel",
            "_view_count": null,
            "_view_module": "@jupyter-widgets/controls",
            "_view_module_version": "1.5.0",
            "_view_name": "HTMLView",
            "description": "",
            "description_tooltip": null,
            "layout": "IPY_MODEL_d463369d22ae4bfab0887b8b3e3a066c",
            "placeholder": "​",
            "style": "IPY_MODEL_11eccf897dc247e5b62118c4c4efb65e",
            "value": " 3.71M/3.71M [00:00&lt;00:00, 7.56MB/s]"
          }
        },
        "51894021aac34e65b3c7491d7f7f43f1": {
          "model_module": "@jupyter-widgets/controls",
          "model_module_version": "1.5.0",
          "model_name": "DescriptionStyleModel",
          "state": {
            "_model_module": "@jupyter-widgets/controls",
            "_model_module_version": "1.5.0",
            "_model_name": "DescriptionStyleModel",
            "_view_count": null,
            "_view_module": "@jupyter-widgets/base",
            "_view_module_version": "1.2.0",
            "_view_name": "StyleView",
            "description_width": ""
          }
        },
        "5200598e40e240e6985425508606b109": {
          "model_module": "@jupyter-widgets/base",
          "model_module_version": "1.2.0",
          "model_name": "LayoutModel",
          "state": {
            "_model_module": "@jupyter-widgets/base",
            "_model_module_version": "1.2.0",
            "_model_name": "LayoutModel",
            "_view_count": null,
            "_view_module": "@jupyter-widgets/base",
            "_view_module_version": "1.2.0",
            "_view_name": "LayoutView",
            "align_content": null,
            "align_items": null,
            "align_self": null,
            "border": null,
            "bottom": null,
            "display": null,
            "flex": null,
            "flex_flow": null,
            "grid_area": null,
            "grid_auto_columns": null,
            "grid_auto_flow": null,
            "grid_auto_rows": null,
            "grid_column": null,
            "grid_gap": null,
            "grid_row": null,
            "grid_template_areas": null,
            "grid_template_columns": null,
            "grid_template_rows": null,
            "height": null,
            "justify_content": null,
            "justify_items": null,
            "left": null,
            "margin": null,
            "max_height": null,
            "max_width": null,
            "min_height": null,
            "min_width": null,
            "object_fit": null,
            "object_position": null,
            "order": null,
            "overflow": null,
            "overflow_x": null,
            "overflow_y": null,
            "padding": null,
            "right": null,
            "top": null,
            "visibility": null,
            "width": null
          }
        },
        "5315d748cdee42f58cbb0c3855b6c64e": {
          "model_module": "@jupyter-widgets/controls",
          "model_module_version": "1.5.0",
          "model_name": "FloatProgressModel",
          "state": {
            "_dom_classes": [],
            "_model_module": "@jupyter-widgets/controls",
            "_model_module_version": "1.5.0",
            "_model_name": "FloatProgressModel",
            "_view_count": null,
            "_view_module": "@jupyter-widgets/controls",
            "_view_module_version": "1.5.0",
            "_view_name": "ProgressView",
            "bar_style": "success",
            "description": "",
            "description_tooltip": null,
            "layout": "IPY_MODEL_7366c720172648049b13ef58858e788f",
            "max": 908,
            "min": 0,
            "orientation": "horizontal",
            "style": "IPY_MODEL_b6596768b69048b2a34db7dbc62bb944",
            "value": 908
          }
        },
        "54ba32b20f7e4e669733fd1dea7a5b52": {
          "model_module": "@jupyter-widgets/controls",
          "model_module_version": "1.5.0",
          "model_name": "HBoxModel",
          "state": {
            "_dom_classes": [],
            "_model_module": "@jupyter-widgets/controls",
            "_model_module_version": "1.5.0",
            "_model_name": "HBoxModel",
            "_view_count": null,
            "_view_module": "@jupyter-widgets/controls",
            "_view_module_version": "1.5.0",
            "_view_name": "HBoxView",
            "box_style": "",
            "children": [
              "IPY_MODEL_6ce39542478e44c3b174ec9e2d5d7ad5",
              "IPY_MODEL_69dd841acc1540268930f989d11ea657",
              "IPY_MODEL_5a6c0115531c4d2caba0a422029f757c"
            ],
            "layout": "IPY_MODEL_8f123095f0ef4f439b32029a0250149b"
          }
        },
        "582154ff534f4c8f9b885b7a774410fc": {
          "model_module": "@jupyter-widgets/controls",
          "model_module_version": "1.5.0",
          "model_name": "DescriptionStyleModel",
          "state": {
            "_model_module": "@jupyter-widgets/controls",
            "_model_module_version": "1.5.0",
            "_model_name": "DescriptionStyleModel",
            "_view_count": null,
            "_view_module": "@jupyter-widgets/base",
            "_view_module_version": "1.2.0",
            "_view_name": "StyleView",
            "description_width": ""
          }
        },
        "5a6c0115531c4d2caba0a422029f757c": {
          "model_module": "@jupyter-widgets/controls",
          "model_module_version": "1.5.0",
          "model_name": "HTMLModel",
          "state": {
            "_dom_classes": [],
            "_model_module": "@jupyter-widgets/controls",
            "_model_module_version": "1.5.0",
            "_model_name": "HTMLModel",
            "_view_count": null,
            "_view_module": "@jupyter-widgets/controls",
            "_view_module_version": "1.5.0",
            "_view_name": "HTMLView",
            "description": "",
            "description_tooltip": null,
            "layout": "IPY_MODEL_9114ba92c7b7427881e46a6c872a366b",
            "placeholder": "​",
            "style": "IPY_MODEL_95e2f6d397b240a6a8b2e7e1e60a777e",
            "value": " 1.14k/1.14k [00:00&lt;00:00, 77.6kB/s]"
          }
        },
        "6215ec0eef984efea63993e43f9b0197": {
          "model_module": "@jupyter-widgets/controls",
          "model_module_version": "1.5.0",
          "model_name": "ProgressStyleModel",
          "state": {
            "_model_module": "@jupyter-widgets/controls",
            "_model_module_version": "1.5.0",
            "_model_name": "ProgressStyleModel",
            "_view_count": null,
            "_view_module": "@jupyter-widgets/base",
            "_view_module_version": "1.2.0",
            "_view_name": "StyleView",
            "bar_color": null,
            "description_width": ""
          }
        },
        "6711fd0afbb943929c734dde79e09627": {
          "model_module": "@jupyter-widgets/base",
          "model_module_version": "1.2.0",
          "model_name": "LayoutModel",
          "state": {
            "_model_module": "@jupyter-widgets/base",
            "_model_module_version": "1.2.0",
            "_model_name": "LayoutModel",
            "_view_count": null,
            "_view_module": "@jupyter-widgets/base",
            "_view_module_version": "1.2.0",
            "_view_name": "LayoutView",
            "align_content": null,
            "align_items": null,
            "align_self": null,
            "border": null,
            "bottom": null,
            "display": null,
            "flex": null,
            "flex_flow": null,
            "grid_area": null,
            "grid_auto_columns": null,
            "grid_auto_flow": null,
            "grid_auto_rows": null,
            "grid_column": null,
            "grid_gap": null,
            "grid_row": null,
            "grid_template_areas": null,
            "grid_template_columns": null,
            "grid_template_rows": null,
            "height": null,
            "justify_content": null,
            "justify_items": null,
            "left": null,
            "margin": null,
            "max_height": null,
            "max_width": null,
            "min_height": null,
            "min_width": null,
            "object_fit": null,
            "object_position": null,
            "order": null,
            "overflow": null,
            "overflow_x": null,
            "overflow_y": null,
            "padding": null,
            "right": null,
            "top": null,
            "visibility": null,
            "width": null
          }
        },
        "69dd841acc1540268930f989d11ea657": {
          "model_module": "@jupyter-widgets/controls",
          "model_module_version": "1.5.0",
          "model_name": "FloatProgressModel",
          "state": {
            "_dom_classes": [],
            "_model_module": "@jupyter-widgets/controls",
            "_model_module_version": "1.5.0",
            "_model_name": "FloatProgressModel",
            "_view_count": null,
            "_view_module": "@jupyter-widgets/controls",
            "_view_module_version": "1.5.0",
            "_view_name": "ProgressView",
            "bar_style": "success",
            "description": "",
            "description_tooltip": null,
            "layout": "IPY_MODEL_e32b4f66d32d4f6bbabc9a507ee649d4",
            "max": 1140,
            "min": 0,
            "orientation": "horizontal",
            "style": "IPY_MODEL_96b4e25b1b274eeead7ff7682f17d2f4",
            "value": 1140
          }
        },
        "6ce39542478e44c3b174ec9e2d5d7ad5": {
          "model_module": "@jupyter-widgets/controls",
          "model_module_version": "1.5.0",
          "model_name": "HTMLModel",
          "state": {
            "_dom_classes": [],
            "_model_module": "@jupyter-widgets/controls",
            "_model_module_version": "1.5.0",
            "_model_name": "HTMLModel",
            "_view_count": null,
            "_view_module": "@jupyter-widgets/controls",
            "_view_module_version": "1.5.0",
            "_view_name": "HTMLView",
            "description": "",
            "description_tooltip": null,
            "layout": "IPY_MODEL_120ce206deb340829c7764a8842b127c",
            "placeholder": "​",
            "style": "IPY_MODEL_12a6b8f704404a6f8fead6722f96fbb8",
            "value": "Downloading (…)cial_tokens_map.json: 100%"
          }
        },
        "7280dc7b4e1a4be19dbbaca7b193b084": {
          "model_module": "@jupyter-widgets/controls",
          "model_module_version": "1.5.0",
          "model_name": "DescriptionStyleModel",
          "state": {
            "_model_module": "@jupyter-widgets/controls",
            "_model_module_version": "1.5.0",
            "_model_name": "DescriptionStyleModel",
            "_view_count": null,
            "_view_module": "@jupyter-widgets/base",
            "_view_module_version": "1.2.0",
            "_view_name": "StyleView",
            "description_width": ""
          }
        },
        "734fdbbb24bb4329b85084b0567a984c": {
          "model_module": "@jupyter-widgets/base",
          "model_module_version": "1.2.0",
          "model_name": "LayoutModel",
          "state": {
            "_model_module": "@jupyter-widgets/base",
            "_model_module_version": "1.2.0",
            "_model_name": "LayoutModel",
            "_view_count": null,
            "_view_module": "@jupyter-widgets/base",
            "_view_module_version": "1.2.0",
            "_view_name": "LayoutView",
            "align_content": null,
            "align_items": null,
            "align_self": null,
            "border": null,
            "bottom": null,
            "display": null,
            "flex": null,
            "flex_flow": null,
            "grid_area": null,
            "grid_auto_columns": null,
            "grid_auto_flow": null,
            "grid_auto_rows": null,
            "grid_column": null,
            "grid_gap": null,
            "grid_row": null,
            "grid_template_areas": null,
            "grid_template_columns": null,
            "grid_template_rows": null,
            "height": null,
            "justify_content": null,
            "justify_items": null,
            "left": null,
            "margin": null,
            "max_height": null,
            "max_width": null,
            "min_height": null,
            "min_width": null,
            "object_fit": null,
            "object_position": null,
            "order": null,
            "overflow": null,
            "overflow_x": null,
            "overflow_y": null,
            "padding": null,
            "right": null,
            "top": null,
            "visibility": null,
            "width": null
          }
        },
        "7366c720172648049b13ef58858e788f": {
          "model_module": "@jupyter-widgets/base",
          "model_module_version": "1.2.0",
          "model_name": "LayoutModel",
          "state": {
            "_model_module": "@jupyter-widgets/base",
            "_model_module_version": "1.2.0",
            "_model_name": "LayoutModel",
            "_view_count": null,
            "_view_module": "@jupyter-widgets/base",
            "_view_module_version": "1.2.0",
            "_view_name": "LayoutView",
            "align_content": null,
            "align_items": null,
            "align_self": null,
            "border": null,
            "bottom": null,
            "display": null,
            "flex": null,
            "flex_flow": null,
            "grid_area": null,
            "grid_auto_columns": null,
            "grid_auto_flow": null,
            "grid_auto_rows": null,
            "grid_column": null,
            "grid_gap": null,
            "grid_row": null,
            "grid_template_areas": null,
            "grid_template_columns": null,
            "grid_template_rows": null,
            "height": null,
            "justify_content": null,
            "justify_items": null,
            "left": null,
            "margin": null,
            "max_height": null,
            "max_width": null,
            "min_height": null,
            "min_width": null,
            "object_fit": null,
            "object_position": null,
            "order": null,
            "overflow": null,
            "overflow_x": null,
            "overflow_y": null,
            "padding": null,
            "right": null,
            "top": null,
            "visibility": null,
            "width": null
          }
        },
        "81f9917c09bd40f9a6e2fe3a0d10d41b": {
          "model_module": "@jupyter-widgets/controls",
          "model_module_version": "1.5.0",
          "model_name": "DescriptionStyleModel",
          "state": {
            "_model_module": "@jupyter-widgets/controls",
            "_model_module_version": "1.5.0",
            "_model_name": "DescriptionStyleModel",
            "_view_count": null,
            "_view_module": "@jupyter-widgets/base",
            "_view_module_version": "1.2.0",
            "_view_name": "StyleView",
            "description_width": ""
          }
        },
        "85d02f4f8f194553b63f4bdeea569a6b": {
          "model_module": "@jupyter-widgets/controls",
          "model_module_version": "1.5.0",
          "model_name": "DescriptionStyleModel",
          "state": {
            "_model_module": "@jupyter-widgets/controls",
            "_model_module_version": "1.5.0",
            "_model_name": "DescriptionStyleModel",
            "_view_count": null,
            "_view_module": "@jupyter-widgets/base",
            "_view_module_version": "1.2.0",
            "_view_name": "StyleView",
            "description_width": ""
          }
        },
        "87adb1fc25a140da9a45edf3858e06dd": {
          "model_module": "@jupyter-widgets/base",
          "model_module_version": "1.2.0",
          "model_name": "LayoutModel",
          "state": {
            "_model_module": "@jupyter-widgets/base",
            "_model_module_version": "1.2.0",
            "_model_name": "LayoutModel",
            "_view_count": null,
            "_view_module": "@jupyter-widgets/base",
            "_view_module_version": "1.2.0",
            "_view_name": "LayoutView",
            "align_content": null,
            "align_items": null,
            "align_self": null,
            "border": null,
            "bottom": null,
            "display": null,
            "flex": null,
            "flex_flow": null,
            "grid_area": null,
            "grid_auto_columns": null,
            "grid_auto_flow": null,
            "grid_auto_rows": null,
            "grid_column": null,
            "grid_gap": null,
            "grid_row": null,
            "grid_template_areas": null,
            "grid_template_columns": null,
            "grid_template_rows": null,
            "height": null,
            "justify_content": null,
            "justify_items": null,
            "left": null,
            "margin": null,
            "max_height": null,
            "max_width": null,
            "min_height": null,
            "min_width": null,
            "object_fit": null,
            "object_position": null,
            "order": null,
            "overflow": null,
            "overflow_x": null,
            "overflow_y": null,
            "padding": null,
            "right": null,
            "top": null,
            "visibility": null,
            "width": null
          }
        },
        "8aa12c87226a46dbab99d3eb2f43ccaf": {
          "model_module": "@jupyter-widgets/base",
          "model_module_version": "1.2.0",
          "model_name": "LayoutModel",
          "state": {
            "_model_module": "@jupyter-widgets/base",
            "_model_module_version": "1.2.0",
            "_model_name": "LayoutModel",
            "_view_count": null,
            "_view_module": "@jupyter-widgets/base",
            "_view_module_version": "1.2.0",
            "_view_name": "LayoutView",
            "align_content": null,
            "align_items": null,
            "align_self": null,
            "border": null,
            "bottom": null,
            "display": null,
            "flex": null,
            "flex_flow": null,
            "grid_area": null,
            "grid_auto_columns": null,
            "grid_auto_flow": null,
            "grid_auto_rows": null,
            "grid_column": null,
            "grid_gap": null,
            "grid_row": null,
            "grid_template_areas": null,
            "grid_template_columns": null,
            "grid_template_rows": null,
            "height": null,
            "justify_content": null,
            "justify_items": null,
            "left": null,
            "margin": null,
            "max_height": null,
            "max_width": null,
            "min_height": null,
            "min_width": null,
            "object_fit": null,
            "object_position": null,
            "order": null,
            "overflow": null,
            "overflow_x": null,
            "overflow_y": null,
            "padding": null,
            "right": null,
            "top": null,
            "visibility": null,
            "width": null
          }
        },
        "8b3cffc59322427691ddc57722468a37": {
          "model_module": "@jupyter-widgets/controls",
          "model_module_version": "1.5.0",
          "model_name": "HBoxModel",
          "state": {
            "_dom_classes": [],
            "_model_module": "@jupyter-widgets/controls",
            "_model_module_version": "1.5.0",
            "_model_name": "HBoxModel",
            "_view_count": null,
            "_view_module": "@jupyter-widgets/controls",
            "_view_module_version": "1.5.0",
            "_view_name": "HBoxView",
            "box_style": "",
            "children": [
              "IPY_MODEL_979b6a5e802748f4b2569f3ebd7d0452",
              "IPY_MODEL_e840ce391c7b4c9c9c0c95780aca8d8d",
              "IPY_MODEL_4e4ed41d015d4694894c7cb793f4a90f"
            ],
            "layout": "IPY_MODEL_5200598e40e240e6985425508606b109"
          }
        },
        "8f123095f0ef4f439b32029a0250149b": {
          "model_module": "@jupyter-widgets/base",
          "model_module_version": "1.2.0",
          "model_name": "LayoutModel",
          "state": {
            "_model_module": "@jupyter-widgets/base",
            "_model_module_version": "1.2.0",
            "_model_name": "LayoutModel",
            "_view_count": null,
            "_view_module": "@jupyter-widgets/base",
            "_view_module_version": "1.2.0",
            "_view_name": "LayoutView",
            "align_content": null,
            "align_items": null,
            "align_self": null,
            "border": null,
            "bottom": null,
            "display": null,
            "flex": null,
            "flex_flow": null,
            "grid_area": null,
            "grid_auto_columns": null,
            "grid_auto_flow": null,
            "grid_auto_rows": null,
            "grid_column": null,
            "grid_gap": null,
            "grid_row": null,
            "grid_template_areas": null,
            "grid_template_columns": null,
            "grid_template_rows": null,
            "height": null,
            "justify_content": null,
            "justify_items": null,
            "left": null,
            "margin": null,
            "max_height": null,
            "max_width": null,
            "min_height": null,
            "min_width": null,
            "object_fit": null,
            "object_position": null,
            "order": null,
            "overflow": null,
            "overflow_x": null,
            "overflow_y": null,
            "padding": null,
            "right": null,
            "top": null,
            "visibility": null,
            "width": null
          }
        },
        "9114ba92c7b7427881e46a6c872a366b": {
          "model_module": "@jupyter-widgets/base",
          "model_module_version": "1.2.0",
          "model_name": "LayoutModel",
          "state": {
            "_model_module": "@jupyter-widgets/base",
            "_model_module_version": "1.2.0",
            "_model_name": "LayoutModel",
            "_view_count": null,
            "_view_module": "@jupyter-widgets/base",
            "_view_module_version": "1.2.0",
            "_view_name": "LayoutView",
            "align_content": null,
            "align_items": null,
            "align_self": null,
            "border": null,
            "bottom": null,
            "display": null,
            "flex": null,
            "flex_flow": null,
            "grid_area": null,
            "grid_auto_columns": null,
            "grid_auto_flow": null,
            "grid_auto_rows": null,
            "grid_column": null,
            "grid_gap": null,
            "grid_row": null,
            "grid_template_areas": null,
            "grid_template_columns": null,
            "grid_template_rows": null,
            "height": null,
            "justify_content": null,
            "justify_items": null,
            "left": null,
            "margin": null,
            "max_height": null,
            "max_width": null,
            "min_height": null,
            "min_width": null,
            "object_fit": null,
            "object_position": null,
            "order": null,
            "overflow": null,
            "overflow_x": null,
            "overflow_y": null,
            "padding": null,
            "right": null,
            "top": null,
            "visibility": null,
            "width": null
          }
        },
        "95e2f6d397b240a6a8b2e7e1e60a777e": {
          "model_module": "@jupyter-widgets/controls",
          "model_module_version": "1.5.0",
          "model_name": "DescriptionStyleModel",
          "state": {
            "_model_module": "@jupyter-widgets/controls",
            "_model_module_version": "1.5.0",
            "_model_name": "DescriptionStyleModel",
            "_view_count": null,
            "_view_module": "@jupyter-widgets/base",
            "_view_module_version": "1.2.0",
            "_view_name": "StyleView",
            "description_width": ""
          }
        },
        "96a263613c5c4691b9366d7a0f9f814f": {
          "model_module": "@jupyter-widgets/base",
          "model_module_version": "1.2.0",
          "model_name": "LayoutModel",
          "state": {
            "_model_module": "@jupyter-widgets/base",
            "_model_module_version": "1.2.0",
            "_model_name": "LayoutModel",
            "_view_count": null,
            "_view_module": "@jupyter-widgets/base",
            "_view_module_version": "1.2.0",
            "_view_name": "LayoutView",
            "align_content": null,
            "align_items": null,
            "align_self": null,
            "border": null,
            "bottom": null,
            "display": null,
            "flex": null,
            "flex_flow": null,
            "grid_area": null,
            "grid_auto_columns": null,
            "grid_auto_flow": null,
            "grid_auto_rows": null,
            "grid_column": null,
            "grid_gap": null,
            "grid_row": null,
            "grid_template_areas": null,
            "grid_template_columns": null,
            "grid_template_rows": null,
            "height": null,
            "justify_content": null,
            "justify_items": null,
            "left": null,
            "margin": null,
            "max_height": null,
            "max_width": null,
            "min_height": null,
            "min_width": null,
            "object_fit": null,
            "object_position": null,
            "order": null,
            "overflow": null,
            "overflow_x": null,
            "overflow_y": null,
            "padding": null,
            "right": null,
            "top": null,
            "visibility": null,
            "width": null
          }
        },
        "96b4e25b1b274eeead7ff7682f17d2f4": {
          "model_module": "@jupyter-widgets/controls",
          "model_module_version": "1.5.0",
          "model_name": "ProgressStyleModel",
          "state": {
            "_model_module": "@jupyter-widgets/controls",
            "_model_module_version": "1.5.0",
            "_model_name": "ProgressStyleModel",
            "_view_count": null,
            "_view_module": "@jupyter-widgets/base",
            "_view_module_version": "1.2.0",
            "_view_name": "StyleView",
            "bar_color": null,
            "description_width": ""
          }
        },
        "979b6a5e802748f4b2569f3ebd7d0452": {
          "model_module": "@jupyter-widgets/controls",
          "model_module_version": "1.5.0",
          "model_name": "HTMLModel",
          "state": {
            "_dom_classes": [],
            "_model_module": "@jupyter-widgets/controls",
            "_model_module_version": "1.5.0",
            "_model_name": "HTMLModel",
            "_view_count": null,
            "_view_module": "@jupyter-widgets/controls",
            "_view_module_version": "1.5.0",
            "_view_name": "HTMLView",
            "description": "",
            "description_tooltip": null,
            "layout": "IPY_MODEL_734fdbbb24bb4329b85084b0567a984c",
            "placeholder": "​",
            "style": "IPY_MODEL_0927609b70e64d8d9177f4e9c7012c8a",
            "value": "Downloading (…)olve/main/vocab.json: 100%"
          }
        },
        "9e50bc81cd0d415f982a888ee8f78d01": {
          "model_module": "@jupyter-widgets/base",
          "model_module_version": "1.2.0",
          "model_name": "LayoutModel",
          "state": {
            "_model_module": "@jupyter-widgets/base",
            "_model_module_version": "1.2.0",
            "_model_name": "LayoutModel",
            "_view_count": null,
            "_view_module": "@jupyter-widgets/base",
            "_view_module_version": "1.2.0",
            "_view_name": "LayoutView",
            "align_content": null,
            "align_items": null,
            "align_self": null,
            "border": null,
            "bottom": null,
            "display": null,
            "flex": null,
            "flex_flow": null,
            "grid_area": null,
            "grid_auto_columns": null,
            "grid_auto_flow": null,
            "grid_auto_rows": null,
            "grid_column": null,
            "grid_gap": null,
            "grid_row": null,
            "grid_template_areas": null,
            "grid_template_columns": null,
            "grid_template_rows": null,
            "height": null,
            "justify_content": null,
            "justify_items": null,
            "left": null,
            "margin": null,
            "max_height": null,
            "max_width": null,
            "min_height": null,
            "min_width": null,
            "object_fit": null,
            "object_position": null,
            "order": null,
            "overflow": null,
            "overflow_x": null,
            "overflow_y": null,
            "padding": null,
            "right": null,
            "top": null,
            "visibility": null,
            "width": null
          }
        },
        "a24081b4fea34d72a85c86e01700e009": {
          "model_module": "@jupyter-widgets/base",
          "model_module_version": "1.2.0",
          "model_name": "LayoutModel",
          "state": {
            "_model_module": "@jupyter-widgets/base",
            "_model_module_version": "1.2.0",
            "_model_name": "LayoutModel",
            "_view_count": null,
            "_view_module": "@jupyter-widgets/base",
            "_view_module_version": "1.2.0",
            "_view_name": "LayoutView",
            "align_content": null,
            "align_items": null,
            "align_self": null,
            "border": null,
            "bottom": null,
            "display": null,
            "flex": null,
            "flex_flow": null,
            "grid_area": null,
            "grid_auto_columns": null,
            "grid_auto_flow": null,
            "grid_auto_rows": null,
            "grid_column": null,
            "grid_gap": null,
            "grid_row": null,
            "grid_template_areas": null,
            "grid_template_columns": null,
            "grid_template_rows": null,
            "height": null,
            "justify_content": null,
            "justify_items": null,
            "left": null,
            "margin": null,
            "max_height": null,
            "max_width": null,
            "min_height": null,
            "min_width": null,
            "object_fit": null,
            "object_position": null,
            "order": null,
            "overflow": null,
            "overflow_x": null,
            "overflow_y": null,
            "padding": null,
            "right": null,
            "top": null,
            "visibility": null,
            "width": null
          }
        },
        "a33a35f395404192a81ea8654453176d": {
          "model_module": "@jupyter-widgets/controls",
          "model_module_version": "1.5.0",
          "model_name": "DescriptionStyleModel",
          "state": {
            "_model_module": "@jupyter-widgets/controls",
            "_model_module_version": "1.5.0",
            "_model_name": "DescriptionStyleModel",
            "_view_count": null,
            "_view_module": "@jupyter-widgets/base",
            "_view_module_version": "1.2.0",
            "_view_name": "StyleView",
            "description_width": ""
          }
        },
        "a632125962b245ea835baf2b98875fd7": {
          "model_module": "@jupyter-widgets/base",
          "model_module_version": "1.2.0",
          "model_name": "LayoutModel",
          "state": {
            "_model_module": "@jupyter-widgets/base",
            "_model_module_version": "1.2.0",
            "_model_name": "LayoutModel",
            "_view_count": null,
            "_view_module": "@jupyter-widgets/base",
            "_view_module_version": "1.2.0",
            "_view_name": "LayoutView",
            "align_content": null,
            "align_items": null,
            "align_self": null,
            "border": null,
            "bottom": null,
            "display": null,
            "flex": null,
            "flex_flow": null,
            "grid_area": null,
            "grid_auto_columns": null,
            "grid_auto_flow": null,
            "grid_auto_rows": null,
            "grid_column": null,
            "grid_gap": null,
            "grid_row": null,
            "grid_template_areas": null,
            "grid_template_columns": null,
            "grid_template_rows": null,
            "height": null,
            "justify_content": null,
            "justify_items": null,
            "left": null,
            "margin": null,
            "max_height": null,
            "max_width": null,
            "min_height": null,
            "min_width": null,
            "object_fit": null,
            "object_position": null,
            "order": null,
            "overflow": null,
            "overflow_x": null,
            "overflow_y": null,
            "padding": null,
            "right": null,
            "top": null,
            "visibility": null,
            "width": null
          }
        },
        "aac2cddbe1e54bbd9f180e49f7ed9603": {
          "model_module": "@jupyter-widgets/controls",
          "model_module_version": "1.5.0",
          "model_name": "FloatProgressModel",
          "state": {
            "_dom_classes": [],
            "_model_module": "@jupyter-widgets/controls",
            "_model_module_version": "1.5.0",
            "_model_name": "FloatProgressModel",
            "_view_count": null,
            "_view_module": "@jupyter-widgets/controls",
            "_view_module_version": "1.5.0",
            "_view_name": "ProgressView",
            "bar_style": "success",
            "description": "",
            "description_tooltip": null,
            "layout": "IPY_MODEL_e7176b4cce6544ab92b321243f2fcdde",
            "max": 272,
            "min": 0,
            "orientation": "horizontal",
            "style": "IPY_MODEL_21a2bbcfe9444eb990afc35cabf49479",
            "value": 272
          }
        },
        "ae9ec366227b4034b225629be621688f": {
          "model_module": "@jupyter-widgets/base",
          "model_module_version": "1.2.0",
          "model_name": "LayoutModel",
          "state": {
            "_model_module": "@jupyter-widgets/base",
            "_model_module_version": "1.2.0",
            "_model_name": "LayoutModel",
            "_view_count": null,
            "_view_module": "@jupyter-widgets/base",
            "_view_module_version": "1.2.0",
            "_view_name": "LayoutView",
            "align_content": null,
            "align_items": null,
            "align_self": null,
            "border": null,
            "bottom": null,
            "display": null,
            "flex": null,
            "flex_flow": null,
            "grid_area": null,
            "grid_auto_columns": null,
            "grid_auto_flow": null,
            "grid_auto_rows": null,
            "grid_column": null,
            "grid_gap": null,
            "grid_row": null,
            "grid_template_areas": null,
            "grid_template_columns": null,
            "grid_template_rows": null,
            "height": null,
            "justify_content": null,
            "justify_items": null,
            "left": null,
            "margin": null,
            "max_height": null,
            "max_width": null,
            "min_height": null,
            "min_width": null,
            "object_fit": null,
            "object_position": null,
            "order": null,
            "overflow": null,
            "overflow_x": null,
            "overflow_y": null,
            "padding": null,
            "right": null,
            "top": null,
            "visibility": null,
            "width": null
          }
        },
        "b2787c99981b419a935ec0b7b5d178e6": {
          "model_module": "@jupyter-widgets/controls",
          "model_module_version": "1.5.0",
          "model_name": "HBoxModel",
          "state": {
            "_dom_classes": [],
            "_model_module": "@jupyter-widgets/controls",
            "_model_module_version": "1.5.0",
            "_model_name": "HBoxModel",
            "_view_count": null,
            "_view_module": "@jupyter-widgets/controls",
            "_view_module_version": "1.5.0",
            "_view_name": "HBoxView",
            "box_style": "",
            "children": [
              "IPY_MODEL_b521e69c727c43d0b45212de32cd1916",
              "IPY_MODEL_da3f2c3232f8447c9d0f5474ac537449",
              "IPY_MODEL_c4494a36edf948b6975fe857d4125880"
            ],
            "layout": "IPY_MODEL_8aa12c87226a46dbab99d3eb2f43ccaf"
          }
        },
        "b521e69c727c43d0b45212de32cd1916": {
          "model_module": "@jupyter-widgets/controls",
          "model_module_version": "1.5.0",
          "model_name": "HTMLModel",
          "state": {
            "_dom_classes": [],
            "_model_module": "@jupyter-widgets/controls",
            "_model_module_version": "1.5.0",
            "_model_name": "HTMLModel",
            "_view_count": null,
            "_view_module": "@jupyter-widgets/controls",
            "_view_module_version": "1.5.0",
            "_view_name": "HTMLView",
            "description": "",
            "description_tooltip": null,
            "layout": "IPY_MODEL_e649da9beb1c458cb1b4d3cc2318bf06",
            "placeholder": "​",
            "style": "IPY_MODEL_85d02f4f8f194553b63f4bdeea569a6b",
            "value": "Downloading (…)tencepiece.bpe.model: 100%"
          }
        },
        "b6596768b69048b2a34db7dbc62bb944": {
          "model_module": "@jupyter-widgets/controls",
          "model_module_version": "1.5.0",
          "model_name": "ProgressStyleModel",
          "state": {
            "_model_module": "@jupyter-widgets/controls",
            "_model_module_version": "1.5.0",
            "_model_name": "ProgressStyleModel",
            "_view_count": null,
            "_view_module": "@jupyter-widgets/base",
            "_view_module_version": "1.2.0",
            "_view_name": "StyleView",
            "bar_color": null,
            "description_width": ""
          }
        },
        "c4494a36edf948b6975fe857d4125880": {
          "model_module": "@jupyter-widgets/controls",
          "model_module_version": "1.5.0",
          "model_name": "HTMLModel",
          "state": {
            "_dom_classes": [],
            "_model_module": "@jupyter-widgets/controls",
            "_model_module_version": "1.5.0",
            "_model_name": "HTMLModel",
            "_view_count": null,
            "_view_module": "@jupyter-widgets/controls",
            "_view_module_version": "1.5.0",
            "_view_name": "HTMLView",
            "description": "",
            "description_tooltip": null,
            "layout": "IPY_MODEL_96a263613c5c4691b9366d7a0f9f814f",
            "placeholder": "​",
            "style": "IPY_MODEL_81f9917c09bd40f9a6e2fe3a0d10d41b",
            "value": " 2.42M/2.42M [00:00&lt;00:00, 53.3MB/s]"
          }
        },
        "c9df1ef174454d639443403d19da8daa": {
          "model_module": "@jupyter-widgets/controls",
          "model_module_version": "1.5.0",
          "model_name": "ProgressStyleModel",
          "state": {
            "_model_module": "@jupyter-widgets/controls",
            "_model_module_version": "1.5.0",
            "_model_name": "ProgressStyleModel",
            "_view_count": null,
            "_view_module": "@jupyter-widgets/base",
            "_view_module_version": "1.2.0",
            "_view_name": "StyleView",
            "bar_color": null,
            "description_width": ""
          }
        },
        "cdc7fc1e17d14298bc2e7a42e472668a": {
          "model_module": "@jupyter-widgets/controls",
          "model_module_version": "1.5.0",
          "model_name": "HTMLModel",
          "state": {
            "_dom_classes": [],
            "_model_module": "@jupyter-widgets/controls",
            "_model_module_version": "1.5.0",
            "_model_name": "HTMLModel",
            "_view_count": null,
            "_view_module": "@jupyter-widgets/controls",
            "_view_module_version": "1.5.0",
            "_view_name": "HTMLView",
            "description": "",
            "description_tooltip": null,
            "layout": "IPY_MODEL_fb4d84c8a05f42829537434f428c417d",
            "placeholder": "​",
            "style": "IPY_MODEL_7280dc7b4e1a4be19dbbaca7b193b084",
            "value": "Downloading (…)okenizer_config.json: 100%"
          }
        },
        "ce1940f0f6b048d79cd40f474fc4c606": {
          "model_module": "@jupyter-widgets/controls",
          "model_module_version": "1.5.0",
          "model_name": "HBoxModel",
          "state": {
            "_dom_classes": [],
            "_model_module": "@jupyter-widgets/controls",
            "_model_module_version": "1.5.0",
            "_model_name": "HBoxModel",
            "_view_count": null,
            "_view_module": "@jupyter-widgets/controls",
            "_view_module_version": "1.5.0",
            "_view_name": "HBoxView",
            "box_style": "",
            "children": [
              "IPY_MODEL_36f1d0986a414ec89ce3e1cf8c4182ce",
              "IPY_MODEL_5315d748cdee42f58cbb0c3855b6c64e",
              "IPY_MODEL_f082ab925bf24ed99689e8a2180f5086"
            ],
            "layout": "IPY_MODEL_127703ff7d90482a8fa45f082f4d09bf"
          }
        },
        "d463369d22ae4bfab0887b8b3e3a066c": {
          "model_module": "@jupyter-widgets/base",
          "model_module_version": "1.2.0",
          "model_name": "LayoutModel",
          "state": {
            "_model_module": "@jupyter-widgets/base",
            "_model_module_version": "1.2.0",
            "_model_name": "LayoutModel",
            "_view_count": null,
            "_view_module": "@jupyter-widgets/base",
            "_view_module_version": "1.2.0",
            "_view_name": "LayoutView",
            "align_content": null,
            "align_items": null,
            "align_self": null,
            "border": null,
            "bottom": null,
            "display": null,
            "flex": null,
            "flex_flow": null,
            "grid_area": null,
            "grid_auto_columns": null,
            "grid_auto_flow": null,
            "grid_auto_rows": null,
            "grid_column": null,
            "grid_gap": null,
            "grid_row": null,
            "grid_template_areas": null,
            "grid_template_columns": null,
            "grid_template_rows": null,
            "height": null,
            "justify_content": null,
            "justify_items": null,
            "left": null,
            "margin": null,
            "max_height": null,
            "max_width": null,
            "min_height": null,
            "min_width": null,
            "object_fit": null,
            "object_position": null,
            "order": null,
            "overflow": null,
            "overflow_x": null,
            "overflow_y": null,
            "padding": null,
            "right": null,
            "top": null,
            "visibility": null,
            "width": null
          }
        },
        "da3f2c3232f8447c9d0f5474ac537449": {
          "model_module": "@jupyter-widgets/controls",
          "model_module_version": "1.5.0",
          "model_name": "FloatProgressModel",
          "state": {
            "_dom_classes": [],
            "_model_module": "@jupyter-widgets/controls",
            "_model_module_version": "1.5.0",
            "_model_name": "FloatProgressModel",
            "_view_count": null,
            "_view_module": "@jupyter-widgets/controls",
            "_view_module_version": "1.5.0",
            "_view_name": "ProgressView",
            "bar_style": "success",
            "description": "",
            "description_tooltip": null,
            "layout": "IPY_MODEL_87adb1fc25a140da9a45edf3858e06dd",
            "max": 2423393,
            "min": 0,
            "orientation": "horizontal",
            "style": "IPY_MODEL_c9df1ef174454d639443403d19da8daa",
            "value": 2423393
          }
        },
        "e32b4f66d32d4f6bbabc9a507ee649d4": {
          "model_module": "@jupyter-widgets/base",
          "model_module_version": "1.2.0",
          "model_name": "LayoutModel",
          "state": {
            "_model_module": "@jupyter-widgets/base",
            "_model_module_version": "1.2.0",
            "_model_name": "LayoutModel",
            "_view_count": null,
            "_view_module": "@jupyter-widgets/base",
            "_view_module_version": "1.2.0",
            "_view_name": "LayoutView",
            "align_content": null,
            "align_items": null,
            "align_self": null,
            "border": null,
            "bottom": null,
            "display": null,
            "flex": null,
            "flex_flow": null,
            "grid_area": null,
            "grid_auto_columns": null,
            "grid_auto_flow": null,
            "grid_auto_rows": null,
            "grid_column": null,
            "grid_gap": null,
            "grid_row": null,
            "grid_template_areas": null,
            "grid_template_columns": null,
            "grid_template_rows": null,
            "height": null,
            "justify_content": null,
            "justify_items": null,
            "left": null,
            "margin": null,
            "max_height": null,
            "max_width": null,
            "min_height": null,
            "min_width": null,
            "object_fit": null,
            "object_position": null,
            "order": null,
            "overflow": null,
            "overflow_x": null,
            "overflow_y": null,
            "padding": null,
            "right": null,
            "top": null,
            "visibility": null,
            "width": null
          }
        },
        "e649da9beb1c458cb1b4d3cc2318bf06": {
          "model_module": "@jupyter-widgets/base",
          "model_module_version": "1.2.0",
          "model_name": "LayoutModel",
          "state": {
            "_model_module": "@jupyter-widgets/base",
            "_model_module_version": "1.2.0",
            "_model_name": "LayoutModel",
            "_view_count": null,
            "_view_module": "@jupyter-widgets/base",
            "_view_module_version": "1.2.0",
            "_view_name": "LayoutView",
            "align_content": null,
            "align_items": null,
            "align_self": null,
            "border": null,
            "bottom": null,
            "display": null,
            "flex": null,
            "flex_flow": null,
            "grid_area": null,
            "grid_auto_columns": null,
            "grid_auto_flow": null,
            "grid_auto_rows": null,
            "grid_column": null,
            "grid_gap": null,
            "grid_row": null,
            "grid_template_areas": null,
            "grid_template_columns": null,
            "grid_template_rows": null,
            "height": null,
            "justify_content": null,
            "justify_items": null,
            "left": null,
            "margin": null,
            "max_height": null,
            "max_width": null,
            "min_height": null,
            "min_width": null,
            "object_fit": null,
            "object_position": null,
            "order": null,
            "overflow": null,
            "overflow_x": null,
            "overflow_y": null,
            "padding": null,
            "right": null,
            "top": null,
            "visibility": null,
            "width": null
          }
        },
        "e7176b4cce6544ab92b321243f2fcdde": {
          "model_module": "@jupyter-widgets/base",
          "model_module_version": "1.2.0",
          "model_name": "LayoutModel",
          "state": {
            "_model_module": "@jupyter-widgets/base",
            "_model_module_version": "1.2.0",
            "_model_name": "LayoutModel",
            "_view_count": null,
            "_view_module": "@jupyter-widgets/base",
            "_view_module_version": "1.2.0",
            "_view_name": "LayoutView",
            "align_content": null,
            "align_items": null,
            "align_self": null,
            "border": null,
            "bottom": null,
            "display": null,
            "flex": null,
            "flex_flow": null,
            "grid_area": null,
            "grid_auto_columns": null,
            "grid_auto_flow": null,
            "grid_auto_rows": null,
            "grid_column": null,
            "grid_gap": null,
            "grid_row": null,
            "grid_template_areas": null,
            "grid_template_columns": null,
            "grid_template_rows": null,
            "height": null,
            "justify_content": null,
            "justify_items": null,
            "left": null,
            "margin": null,
            "max_height": null,
            "max_width": null,
            "min_height": null,
            "min_width": null,
            "object_fit": null,
            "object_position": null,
            "order": null,
            "overflow": null,
            "overflow_x": null,
            "overflow_y": null,
            "padding": null,
            "right": null,
            "top": null,
            "visibility": null,
            "width": null
          }
        },
        "e7a2cea48ed84d36b7cc818d131f7718": {
          "model_module": "@jupyter-widgets/controls",
          "model_module_version": "1.5.0",
          "model_name": "HBoxModel",
          "state": {
            "_dom_classes": [],
            "_model_module": "@jupyter-widgets/controls",
            "_model_module_version": "1.5.0",
            "_model_name": "HBoxModel",
            "_view_count": null,
            "_view_module": "@jupyter-widgets/controls",
            "_view_module_version": "1.5.0",
            "_view_name": "HBoxView",
            "box_style": "",
            "children": [
              "IPY_MODEL_cdc7fc1e17d14298bc2e7a42e472668a",
              "IPY_MODEL_aac2cddbe1e54bbd9f180e49f7ed9603",
              "IPY_MODEL_48238671f0bc4e849bf9bd777b55a700"
            ],
            "layout": "IPY_MODEL_a24081b4fea34d72a85c86e01700e009"
          }
        },
        "e840ce391c7b4c9c9c0c95780aca8d8d": {
          "model_module": "@jupyter-widgets/controls",
          "model_module_version": "1.5.0",
          "model_name": "FloatProgressModel",
          "state": {
            "_dom_classes": [],
            "_model_module": "@jupyter-widgets/controls",
            "_model_module_version": "1.5.0",
            "_model_name": "FloatProgressModel",
            "_view_count": null,
            "_view_module": "@jupyter-widgets/controls",
            "_view_module_version": "1.5.0",
            "_view_name": "ProgressView",
            "bar_style": "success",
            "description": "",
            "description_tooltip": null,
            "layout": "IPY_MODEL_9e50bc81cd0d415f982a888ee8f78d01",
            "max": 3708092,
            "min": 0,
            "orientation": "horizontal",
            "style": "IPY_MODEL_6215ec0eef984efea63993e43f9b0197",
            "value": 3708092
          }
        },
        "f082ab925bf24ed99689e8a2180f5086": {
          "model_module": "@jupyter-widgets/controls",
          "model_module_version": "1.5.0",
          "model_name": "HTMLModel",
          "state": {
            "_dom_classes": [],
            "_model_module": "@jupyter-widgets/controls",
            "_model_module_version": "1.5.0",
            "_model_name": "HTMLModel",
            "_view_count": null,
            "_view_module": "@jupyter-widgets/controls",
            "_view_module_version": "1.5.0",
            "_view_name": "HTMLView",
            "description": "",
            "description_tooltip": null,
            "layout": "IPY_MODEL_a632125962b245ea835baf2b98875fd7",
            "placeholder": "​",
            "style": "IPY_MODEL_51894021aac34e65b3c7491d7f7f43f1",
            "value": " 908/908 [00:00&lt;00:00, 64.0kB/s]"
          }
        },
        "fb4d84c8a05f42829537434f428c417d": {
          "model_module": "@jupyter-widgets/base",
          "model_module_version": "1.2.0",
          "model_name": "LayoutModel",
          "state": {
            "_model_module": "@jupyter-widgets/base",
            "_model_module_version": "1.2.0",
            "_model_name": "LayoutModel",
            "_view_count": null,
            "_view_module": "@jupyter-widgets/base",
            "_view_module_version": "1.2.0",
            "_view_name": "LayoutView",
            "align_content": null,
            "align_items": null,
            "align_self": null,
            "border": null,
            "bottom": null,
            "display": null,
            "flex": null,
            "flex_flow": null,
            "grid_area": null,
            "grid_auto_columns": null,
            "grid_auto_flow": null,
            "grid_auto_rows": null,
            "grid_column": null,
            "grid_gap": null,
            "grid_row": null,
            "grid_template_areas": null,
            "grid_template_columns": null,
            "grid_template_rows": null,
            "height": null,
            "justify_content": null,
            "justify_items": null,
            "left": null,
            "margin": null,
            "max_height": null,
            "max_width": null,
            "min_height": null,
            "min_width": null,
            "object_fit": null,
            "object_position": null,
            "order": null,
            "overflow": null,
            "overflow_x": null,
            "overflow_y": null,
            "padding": null,
            "right": null,
            "top": null,
            "visibility": null,
            "width": null
          }
        }
      }
    }
  },
  "nbformat": 4,
  "nbformat_minor": 0
}
